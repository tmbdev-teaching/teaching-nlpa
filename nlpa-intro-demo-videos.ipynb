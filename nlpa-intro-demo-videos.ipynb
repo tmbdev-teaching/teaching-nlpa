{
 "cells": [
  {
   "cell_type": "code",
   "execution_count": 1,
   "id": "2e727f66",
   "metadata": {
    "collapsed": false
   },
   "outputs": [],
   "source": [
    "from IPython.core.display import Image,HTML\n",
    "from IPython.lib.display import YouTubeVideo"
   ]
  },
  {
   "cell_type": "code",
   "execution_count": 2,
   "id": "4b312fd7",
   "metadata": {
    "collapsed": false
   },
   "outputs": [
    {
     "data": {
      "text/html": [
       "\n",
       "            <iframe\n",
       "                width=\"400\"\n",
       "                height=\"300\"\n",
       "                src=\"http://www.youtube.com/embed/PHzoX2AIzqo\"\n",
       "                frameborder=\"0\"\n",
       "                allowfullscreen\n",
       "            ></iframe>\n",
       "        "
      ],
      "text/plain": [
       "<IPython.lib.display.YouTubeVideo at 0x3e473d0>"
      ]
     },
     "execution_count": 2,
     "metadata": {},
     "output_type": "execute_result"
    }
   ],
   "source": [
    "YouTubeVideo(\"PHzoX2AIzqo\")"
   ]
  },
  {
   "cell_type": "code",
   "execution_count": 3,
   "id": "f1027548",
   "metadata": {
    "collapsed": false
   },
   "outputs": [
    {
     "data": {
      "text/html": [
       "\n",
       "            <iframe\n",
       "                width=\"400\"\n",
       "                height=\"300\"\n",
       "                src=\"http://www.youtube.com/embed/RAJIDH5d4C4\"\n",
       "                frameborder=\"0\"\n",
       "                allowfullscreen\n",
       "            ></iframe>\n",
       "        "
      ],
      "text/plain": [
       "<IPython.lib.display.YouTubeVideo at 0x3e474d0>"
      ]
     },
     "execution_count": 3,
     "metadata": {},
     "output_type": "execute_result"
    }
   ],
   "source": [
    "YouTubeVideo(\"RAJIDH5d4C4\")"
   ]
  },
  {
   "cell_type": "code",
   "execution_count": 4,
   "id": "b5790420",
   "metadata": {
    "collapsed": false
   },
   "outputs": [
    {
     "data": {
      "text/html": [
       "\n",
       "            <iframe\n",
       "                width=\"400\"\n",
       "                height=\"300\"\n",
       "                src=\"http://www.youtube.com/embed/WuP6AQPRpUg\"\n",
       "                frameborder=\"0\"\n",
       "                allowfullscreen\n",
       "            ></iframe>\n",
       "        "
      ],
      "text/plain": [
       "<IPython.lib.display.YouTubeVideo at 0x3e47590>"
      ]
     },
     "execution_count": 4,
     "metadata": {},
     "output_type": "execute_result"
    }
   ],
   "source": [
    "YouTubeVideo(\"WuP6AQPRpUg\")"
   ]
  },
  {
   "cell_type": "code",
   "execution_count": 5,
   "id": "25330a69",
   "metadata": {
    "collapsed": false
   },
   "outputs": [
    {
     "data": {
      "text/html": [
       "\n",
       "            <iframe\n",
       "                width=\"400\"\n",
       "                height=\"300\"\n",
       "                src=\"http://www.youtube.com/embed/s8WFctIbt84\"\n",
       "                frameborder=\"0\"\n",
       "                allowfullscreen\n",
       "            ></iframe>\n",
       "        "
      ],
      "text/plain": [
       "<IPython.lib.display.YouTubeVideo at 0x3e47650>"
      ]
     },
     "execution_count": 5,
     "metadata": {},
     "output_type": "execute_result"
    }
   ],
   "source": [
    "YouTubeVideo(\"s8WFctIbt84\")"
   ]
  },
  {
   "cell_type": "code",
   "execution_count": 6,
   "id": "72d55ba1",
   "metadata": {
    "collapsed": false
   },
   "outputs": [
    {
     "data": {
      "text/html": [
       "\n",
       "            <iframe\n",
       "                width=\"400\"\n",
       "                height=\"300\"\n",
       "                src=\"http://www.youtube.com/embed/Qy6zhx9gndI\"\n",
       "                frameborder=\"0\"\n",
       "                allowfullscreen\n",
       "            ></iframe>\n",
       "        "
      ],
      "text/plain": [
       "<IPython.lib.display.YouTubeVideo at 0x3e475d0>"
      ]
     },
     "execution_count": 6,
     "metadata": {},
     "output_type": "execute_result"
    }
   ],
   "source": [
    "YouTubeVideo(\"Qy6zhx9gndI\")"
   ]
  },
  {
   "cell_type": "code",
   "execution_count": 7,
   "id": "37aaf341",
   "metadata": {
    "collapsed": false
   },
   "outputs": [
    {
     "data": {
      "text/html": [
       "\n",
       "            <iframe\n",
       "                width=\"400\"\n",
       "                height=\"300\"\n",
       "                src=\"http://www.youtube.com/embed/c9jk3P0GqLU\"\n",
       "                frameborder=\"0\"\n",
       "                allowfullscreen\n",
       "            ></iframe>\n",
       "        "
      ],
      "text/plain": [
       "<IPython.lib.display.YouTubeVideo at 0x3e47390>"
      ]
     },
     "execution_count": 7,
     "metadata": {},
     "output_type": "execute_result"
    }
   ],
   "source": [
    "YouTubeVideo(\"c9jk3P0GqLU\")"
   ]
  },
  {
   "cell_type": "code",
   "execution_count": 8,
   "id": "430610d9",
   "metadata": {
    "collapsed": false
   },
   "outputs": [
    {
     "data": {
      "text/html": [
       "\n",
       "            <iframe\n",
       "                width=\"400\"\n",
       "                height=\"300\"\n",
       "                src=\"http://www.youtube.com/embed/YKjo9dldp2g\"\n",
       "                frameborder=\"0\"\n",
       "                allowfullscreen\n",
       "            ></iframe>\n",
       "        "
      ],
      "text/plain": [
       "<IPython.lib.display.YouTubeVideo at 0x3e47790>"
      ]
     },
     "execution_count": 8,
     "metadata": {},
     "output_type": "execute_result"
    }
   ],
   "source": [
    "YouTubeVideo(\"YKjo9dldp2g\")"
   ]
  },
  {
   "cell_type": "code",
   "execution_count": 9,
   "id": "ba43e62f",
   "metadata": {
    "collapsed": false
   },
   "outputs": [
    {
     "data": {
      "text/html": [
       "\n",
       "            <iframe\n",
       "                width=\"400\"\n",
       "                height=\"300\"\n",
       "                src=\"http://www.youtube.com/embed/nXgboDb9ucE\"\n",
       "                frameborder=\"0\"\n",
       "                allowfullscreen\n",
       "            ></iframe>\n",
       "        "
      ],
      "text/plain": [
       "<IPython.lib.display.YouTubeVideo at 0x3e47850>"
      ]
     },
     "execution_count": 9,
     "metadata": {},
     "output_type": "execute_result"
    }
   ],
   "source": [
    "YouTubeVideo(\"nXgboDb9ucE\")"
   ]
  },
  {
   "cell_type": "code",
   "execution_count": 10,
   "id": "89f6f7c6",
   "metadata": {
    "collapsed": false
   },
   "outputs": [
    {
     "data": {
      "text/html": [
       "\n",
       "            <iframe\n",
       "                width=\"400\"\n",
       "                height=\"300\"\n",
       "                src=\"http://www.youtube.com/embed/BOUTfUmI8vs\"\n",
       "                frameborder=\"0\"\n",
       "                allowfullscreen\n",
       "            ></iframe>\n",
       "        "
      ],
      "text/plain": [
       "<IPython.lib.display.YouTubeVideo at 0x3e478d0>"
      ]
     },
     "execution_count": 10,
     "metadata": {},
     "output_type": "execute_result"
    }
   ],
   "source": [
    "YouTubeVideo(\"BOUTfUmI8vs\")"
   ]
  },
  {
   "cell_type": "code",
   "execution_count": null,
   "id": "1cca4c44",
   "metadata": {
    "collapsed": false
   },
   "outputs": [],
   "source": []
  }
 ],
 "metadata": {},
 "nbformat": 4,
 "nbformat_minor": 5
}
