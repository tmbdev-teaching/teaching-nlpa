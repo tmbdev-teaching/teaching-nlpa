{
 "cells": [
  {
   "cell_type": "code",
   "execution_count": 3,
   "id": "285c5b90",
   "metadata": {
    "collapsed": false
   },
   "outputs": [],
   "source": [
    "import nltk\n",
    "from nltk.corpus import names\n",
    "from pylab import *\n",
    "import random as pyrandom"
   ]
  },
  {
   "cell_type": "markdown",
   "id": "a179c9e6",
   "metadata": {},
   "source": [
    "# Dialog Act Type Classification"
   ]
  },
  {
   "cell_type": "code",
   "execution_count": 4,
   "id": "a2f720fc",
   "metadata": {
    "collapsed": false
   },
   "outputs": [],
   "source": [
    "posts = nltk.corpus.nps_chat.xml_posts()[:10000]"
   ]
  },
  {
   "cell_type": "code",
   "execution_count": 5,
   "id": "290cf628",
   "metadata": {
    "collapsed": false
   },
   "outputs": [],
   "source": [
    "def features(post):\n",
    "    f = {}\n",
    "    for w in nltk.word_tokenize(post): f[w.lower()] = True\n",
    "    return f"
   ]
  },
  {
   "cell_type": "code",
   "execution_count": 6,
   "id": "1f37d87f",
   "metadata": {
    "collapsed": false
   },
   "outputs": [
    {
     "data": {
      "text/plain": [
       "'wouldnt let her date'"
      ]
     },
     "execution_count": 6,
     "metadata": {},
     "output_type": "execute_result"
    }
   ],
   "source": [
    "posts[333].text"
   ]
  },
  {
   "cell_type": "code",
   "execution_count": 7,
   "id": "4e23cd97",
   "metadata": {
    "collapsed": false
   },
   "outputs": [
    {
     "data": {
      "text/plain": [
       "'Emotion'"
      ]
     },
     "execution_count": 7,
     "metadata": {},
     "output_type": "execute_result"
    }
   ],
   "source": [
    "posts[333].get('class')"
   ]
  },
  {
   "cell_type": "code",
   "execution_count": 8,
   "id": "f8965b14",
   "metadata": {
    "collapsed": false
   },
   "outputs": [
    {
     "name": "stdout",
     "output_type": "stream",
     "text": [
      "set(['Emotion', 'ynQuestion', 'yAnswer', 'Continuer', 'whQuestion', 'System', 'Accept', 'Clarify', 'Emphasis', 'nAnswer', 'Greet', 'Statement', 'Reject', 'Bye', 'Other'])\n"
     ]
    }
   ],
   "source": [
    "print set([p.get('class') for p in posts])"
   ]
  },
  {
   "cell_type": "code",
   "execution_count": 9,
   "id": "b63c66a7",
   "metadata": {
    "collapsed": false
   },
   "outputs": [],
   "source": [
    "featuresets = [(features(p.text),p.get('class')) for p in posts]"
   ]
  },
  {
   "cell_type": "code",
   "execution_count": 10,
   "id": "eedff20d",
   "metadata": {
    "collapsed": false
   },
   "outputs": [],
   "source": [
    "training_set = featuresets[1000:]\n",
    "test_set = featuresets[:1000]"
   ]
  },
  {
   "cell_type": "code",
   "execution_count": 11,
   "id": "6f6671f5",
   "metadata": {
    "collapsed": false
   },
   "outputs": [
    {
     "name": "stdout",
     "output_type": "stream",
     "text": [
      "0.66\n"
     ]
    }
   ],
   "source": [
    "classifier = nltk.NaiveBayesClassifier.train(training_set)\n",
    "print nltk.classify.accuracy(classifier,test_set)"
   ]
  },
  {
   "cell_type": "code",
   "execution_count": null,
   "id": "19972e3d",
   "metadata": {
    "collapsed": false
   },
   "outputs": [],
   "source": []
  }
 ],
 "metadata": {},
 "nbformat": 4,
 "nbformat_minor": 5
}
