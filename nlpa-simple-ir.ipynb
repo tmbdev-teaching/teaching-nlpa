{
 "cells": [
  {
   "cell_type": "markdown",
   "id": "d0c39104",
   "metadata": {},
   "source": [
    "# Inverted Indexes and Searching"
   ]
  },
  {
   "cell_type": "code",
   "execution_count": 16,
   "id": "0e14bd7d",
   "metadata": {
    "collapsed": false
   },
   "outputs": [],
   "source": [
    "from nltk.corpus import brown\n",
    "import re"
   ]
  },
  {
   "cell_type": "markdown",
   "id": "4e335090",
   "metadata": {},
   "source": [
    "## Building an Inverted Index"
   ]
  },
  {
   "cell_type": "markdown",
   "id": "565ac13d",
   "metadata": {},
   "source": [
    "We start off with a collection of documents. These have already been tokenized into words for us."
   ]
  },
  {
   "cell_type": "code",
   "execution_count": 137,
   "id": "335a0603",
   "metadata": {
    "collapsed": false
   },
   "outputs": [],
   "source": [
    "docs = list(brown.files())[:500]\n",
    "texts = [None]*len(docs)\n",
    "for i,doc in enumerate(docs):\n",
    "    with brown.open(doc) as stream:\n",
    "        texts[i] = brown.words(fileids=[doc])"
   ]
  },
  {
   "cell_type": "markdown",
   "id": "10a7ff8c",
   "metadata": {},
   "source": [
    "Next, we apply linguistic preprocessing in order to remove variations that are of no interest to retrieval. We already talked about more sophisticated methods when we talked about stemming."
   ]
  },
  {
   "cell_type": "code",
   "execution_count": 138,
   "id": "94e6efb8",
   "metadata": {
    "collapsed": false
   },
   "outputs": [],
   "source": [
    "for i,t in enumerate(texts):\n",
    "    texts[i] = [re.sub('(s|ing)$','',w.lower()) for w in t]"
   ]
  },
  {
   "cell_type": "markdown",
   "id": "4dabebdb",
   "metadata": {},
   "source": [
    "Now we build a dictionary: a sorted list of unique tokens, together with a way of mapping tokens to integers."
   ]
  },
  {
   "cell_type": "code",
   "execution_count": 139,
   "id": "ce974e9c",
   "metadata": {
    "collapsed": false
   },
   "outputs": [
    {
     "name": "stdout",
     "output_type": "stream",
     "text": [
      "43259 ['', '!', '$.027'] ['zwei', 'zworykin', '{0,t}']\n"
     ]
    }
   ],
   "source": [
    "dictionary = sorted(list(set([w for t in texts for w in t])))\n",
    "print len(dictionary),dictionary[:3],dictionary[-3:]"
   ]
  },
  {
   "cell_type": "code",
   "execution_count": 140,
   "id": "8c998c90",
   "metadata": {
    "collapsed": false
   },
   "outputs": [
    {
     "data": {
      "text/plain": [
       "15435"
      ]
     },
     "execution_count": 140,
     "metadata": {},
     "output_type": "execute_result"
    }
   ],
   "source": [
    "wids = {w:i for i,w in enumerate(dictionary)}\n",
    "wids[\"find\"]"
   ]
  },
  {
   "cell_type": "markdown",
   "id": "d3dedf42",
   "metadata": {},
   "source": [
    "Given the dictionary, we now add each document to the set of postings for each of the terms contained in the document."
   ]
  },
  {
   "cell_type": "code",
   "execution_count": 141,
   "id": "12acbb25",
   "metadata": {
    "collapsed": false
   },
   "outputs": [],
   "source": [
    "psets = [set() for w in dictionary]\n",
    "for d,text in enumerate(texts):\n",
    "    for w in text:\n",
    "        psets[wids[w]].add(d)"
   ]
  },
  {
   "cell_type": "markdown",
   "id": "c7f0dec4",
   "metadata": {},
   "source": [
    "The inverted index is the sorted list of postings for each token in the dictionary.\n",
    "\n",
    "(Of course, in practice, we wouldn't use the `set` data structure and then create the list\n",
    "out of it, we'd likely use the inverted index data structure itself during the building.)"
   ]
  },
  {
   "cell_type": "code",
   "execution_count": 144,
   "id": "2780be5f",
   "metadata": {
    "collapsed": false
   },
   "outputs": [
    {
     "name": "stdout",
     "output_type": "stream",
     "text": [
      "15435\n",
      "[0, 3, 5, 7, 8, 20, 21, 23, 25, 26, 27, 29, 31, 33, 40, 42, 43, 45, 47, 51, 52, 53, 54, 55, 56, 57, 58, 60, 61, 65, 66, 68, 69, 70, 71, 73, 75, 76, 77, 83, 85, 87, 88, 90, 91, 92, 94, 95, 96, 98, 99, 100, 102, 104, 105, 106, 107, 108, 110, 111, 114, 116, 118, 121, 123, 124, 125, 126, 127, 128, 130, 132, 134, 135, 136, 137, 139, 140, 143, 144, 145, 146, 147, 148, 152, 153, 154, 156, 158, 162, 163, 164, 166, 169, 170, 171, 173, 175, 178, 179, 180, 181, 182, 183, 185, 186, 187, 189, 193, 197, 200, 201, 202, 205, 206, 207, 209, 210, 211, 212, 213, 214, 215, 216, 217, 219, 220, 221, 222, 224, 225, 226, 228, 230, 231, 232, 234, 235, 238, 239, 240, 242, 243, 244, 245, 248, 249, 250, 252, 255, 256, 257, 258, 262, 263, 269, 272, 275, 278, 279, 280, 281, 282, 287, 288, 293, 297, 301, 303, 305, 307, 311, 312, 313, 315, 317, 320, 322, 323, 324, 327, 328, 329, 331, 334, 335, 336, 339, 340, 343, 344, 345, 346, 347, 348, 350, 351, 353, 354, 356, 359, 362, 366, 367, 372, 375, 376, 377, 378, 380, 381, 383, 386, 387, 388, 391, 392, 394, 395, 397, 398, 399, 404, 405, 407, 408, 409, 410, 411, 412, 413, 414, 415, 416, 417, 418, 420, 421, 422, 423, 424, 426, 428, 429, 430, 433, 434, 435, 437, 438, 439, 444, 445, 446, 447, 450, 451, 452, 454, 460, 463, 465, 466, 467, 468, 469, 472, 473, 475, 476, 477, 478, 479, 480, 482, 483, 484, 488, 491, 492, 494, 495, 496, 497, 498]\n",
      "find\n"
     ]
    }
   ],
   "source": [
    "invindex = [sorted(list(s)) for s in psets]\n",
    "wid = wids[\"find\"]\n",
    "print wid\n",
    "print invindex[wid]\n",
    "print dictionary[wid]"
   ]
  },
  {
   "cell_type": "markdown",
   "id": "0438d030",
   "metadata": {},
   "source": [
    "# Compression"
   ]
  },
  {
   "cell_type": "markdown",
   "id": "d72ff8ba",
   "metadata": {},
   "source": [
    "Inverted indexes can be compressed greatly by taking advantage of their statistics.\n",
    "\n",
    "For example, by default, the set of document indexes just forms a fairly uniform distribution over the range of term indexes."
   ]
  },
  {
   "cell_type": "code",
   "execution_count": 149,
   "id": "227bdd7e",
   "metadata": {
    "collapsed": false
   },
   "outputs": [
    {
     "data": {
      "text/plain": [
       "(array([20, 32, 33, 26, 36, 21, 28, 26, 34, 30]),\n",
       " array([   0. ,   49.8,   99.6,  149.4,  199.2,  249. ,  298.8,  348.6,\n",
       "        398.4,  448.2,  498. ]),\n",
       " <a list of 10 Patch objects>)"
      ]
     },
     "execution_count": 149,
     "metadata": {},
     "output_type": "execute_result"
    },
    {
     "data": {
      "image/png": "[encoded data removed]"
     },
     "metadata": {},
     "output_type": "display_data"
    }
   ],
   "source": [
    "l = [0]+invindex[wid]\n",
    "hist(l)"
   ]
  },
  {
   "cell_type": "markdown",
   "id": "225b6796",
   "metadata": {},
   "source": [
    "But if the document ids have been assigned randomly, their deltas are Poisson distributed, and we get a distribution that compresses much better than the uniform distribution."
   ]
  },
  {
   "cell_type": "code",
   "execution_count": 150,
   "id": "65cfbd0f",
   "metadata": {
    "collapsed": false
   },
   "outputs": [
    {
     "data": {
      "image/png": "[encoded data removed]"
     },
     "metadata": {},
     "output_type": "display_data"
    }
   ],
   "source": [
    "deltas = [l[i]-l[i-1] for i in range(1,len(l))]\n",
    "_=hist(deltas)"
   ]
  },
  {
   "cell_type": "markdown",
   "id": "b36fe337",
   "metadata": {},
   "source": [
    "There are other forms of compression that we can use.  For example, the dictionary terms (as strings) are sorted and can be represented in a Trie, analogous to prefix compression in B-trees."
   ]
  },
  {
   "cell_type": "markdown",
   "id": "cf98f1c7",
   "metadata": {},
   "source": [
    "Tricks like these are important for improving the practical performance of information retrieval systems.\n",
    "\n",
    "However, often, you may be better off using a general purpose solution instead of a special purpose solution. E.g., the problem of representing lists of integers compactly has (implicitly) found attention in other areas of computer science, and you may be able to just reuse those results."
   ]
  },
  {
   "cell_type": "markdown",
   "id": "9164b5a6",
   "metadata": {},
   "source": [
    "## Matrix View"
   ]
  },
  {
   "cell_type": "code",
   "execution_count": 135,
   "id": "6e6d88ba",
   "metadata": {
    "collapsed": false
   },
   "outputs": [
    {
     "data": {
      "text/plain": [
       "<matplotlib.image.AxesImage at 0xa5e7ad0>"
      ]
     },
     "execution_count": 135,
     "metadata": {},
     "output_type": "execute_result"
    },
    {
     "data": {
      "image/png": "[encoded data removed]"
     },
     "metadata": {},
     "output_type": "display_data"
    }
   ],
   "source": [
    "tdmatrix = zeros((1000,400))\n",
    "for tid in range(1000):\n",
    "    for did in invindex[tid]:\n",
    "        if did>=400: break\n",
    "        tdmatrix[tid,did] = 1\n",
    "figsize(10,8)\n",
    "imshow(tdmatrix.T,cmap=cm.hot)\n",
    "        "
   ]
  },
  {
   "cell_type": "markdown",
   "id": "4098bcba",
   "metadata": {},
   "source": [
    "## Queries"
   ]
  },
  {
   "cell_type": "markdown",
   "id": "3585458a",
   "metadata": {},
   "source": [
    "In terms of this inverted index, we can now express queries as intersections and unions of sorted lists of postings."
   ]
  },
  {
   "cell_type": "code",
   "execution_count": 58,
   "id": "40bcc8d9",
   "metadata": {
    "collapsed": false
   },
   "outputs": [],
   "source": [
    "def intersect_postings(u,v):\n",
    "    # u and v must be sorted\n",
    "    result = []\n",
    "    while u!=[] and v!=[]:\n",
    "        if u[0]==v[0]: \n",
    "            result.append(u[0])\n",
    "            u = u[1:]\n",
    "            v = v[1:]\n",
    "        elif u[0]<v[0]: \n",
    "            u = u[1:]\n",
    "        else: \n",
    "            v = v[1:]\n",
    "    return result"
   ]
  },
  {
   "cell_type": "code",
   "execution_count": 59,
   "id": "b3c0509b",
   "metadata": {
    "collapsed": false
   },
   "outputs": [
    {
     "data": {
      "text/plain": [
       "[0, 5, 8, 20, 21, 25, 43, 45, 47, 51, 54, 55, 57, 58, 60, 71, 85]"
      ]
     },
     "execution_count": 59,
     "metadata": {},
     "output_type": "execute_result"
    }
   ],
   "source": [
    "intersect_postings(invindex[wids[\"find\"]],invindex[wids[\"county\"]])"
   ]
  },
  {
   "cell_type": "markdown",
   "id": "cc702ef9",
   "metadata": {},
   "source": [
    "Note that in Python, we could just have intersected the sets directly."
   ]
  },
  {
   "cell_type": "code",
   "execution_count": 62,
   "id": "d92c6a89",
   "metadata": {
    "collapsed": false
   },
   "outputs": [
    {
     "data": {
      "text/plain": [
       "set([0, 5, 71, 8, 57, 43, 45, 47, 51, 20, 21, 54, 55, 25, 58, 60, 85])"
      ]
     },
     "execution_count": 62,
     "metadata": {},
     "output_type": "execute_result"
    }
   ],
   "source": [
    "psets[wids[\"find\"]].intersection(psets[wids[\"county\"]])"
   ]
  },
  {
   "cell_type": "code",
   "execution_count": 63,
   "id": "7e94d5d9",
   "metadata": {
    "collapsed": false
   },
   "outputs": [
    {
     "data": {
      "text/plain": [
       "[0, 5, 8, 20, 21, 25, 43, 45, 47, 51, 54, 55, 57, 58, 60, 71, 85]"
      ]
     },
     "execution_count": 63,
     "metadata": {},
     "output_type": "execute_result"
    }
   ],
   "source": [
    "sorted(list(psets[wids[\"find\"]].intersection(psets[wids[\"county\"]])))"
   ]
  },
  {
   "cell_type": "markdown",
   "id": "f940f874",
   "metadata": {},
   "source": [
    "Think about how the efficiency of the built-in Python type compares to the inverted index. What is happening internally?"
   ]
  },
  {
   "cell_type": "markdown",
   "id": "95d20d96",
   "metadata": {},
   "source": [
    "## Building Very Large Indexes"
   ]
  },
  {
   "cell_type": "markdown",
   "id": "94fe51e0",
   "metadata": {},
   "source": [
    "The above method of constructing the inverted index puts everything into memory.\n",
    "Often, that doesn't work very well because there are many more documents than would fit\n",
    "into memory.\n",
    "\n",
    "You could write special purpose code to deal with this case, but it turns out\n",
    "that building inverted indexes can already be handled efficiently with existing tools,\n",
    "requiring only sequential processing."
   ]
  },
  {
   "cell_type": "code",
   "execution_count": 66,
   "id": "420dca31",
   "metadata": {
    "collapsed": false
   },
   "outputs": [
    {
     "data": {
      "text/plain": [
       "FileSystemPathPointer('/home/tmb/nltk_data/corpora/brown/ca01')"
      ]
     },
     "execution_count": 66,
     "metadata": {},
     "output_type": "execute_result"
    }
   ],
   "source": [
    "brown.abspath(\"ca01\")"
   ]
  },
  {
   "cell_type": "markdown",
   "id": "55d7fc2d",
   "metadata": {},
   "source": [
    "We use `grep` for the tokenization (we could also perform linguistic preprocessing on these tokens).\n",
    "That generates a list of files and corresponding tokens.\n",
    "This is a purely sequential process (very little memory)."
   ]
  },
  {
   "cell_type": "code",
   "execution_count": 88,
   "id": "976f2a40",
   "metadata": {
    "collapsed": false
   },
   "outputs": [
    {
     "name": "stdout",
     "output_type": "stream",
     "text": [
      "/home/tmb/nltk_data/corpora/state_union/1945-Truman.txt:PRESIDENT\r\n",
      "/home/tmb/nltk_data/corpora/state_union/1945-Truman.txt:HARRY\r\n",
      "/home/tmb/nltk_data/corpora/state_union/1945-Truman.txt:S\r\n",
      "/home/tmb/nltk_data/corpora/state_union/1945-Truman.txt:TRUMAN\r\n",
      "/home/tmb/nltk_data/corpora/state_union/1945-Truman.txt:S\r\n",
      "/home/tmb/nltk_data/corpora/state_union/1945-Truman.txt:ADDRESS\r\n",
      "/home/tmb/nltk_data/corpora/state_union/1945-Truman.txt:BEFORE\r\n",
      "/home/tmb/nltk_data/corpora/state_union/1945-Truman.txt:A\r\n",
      "/home/tmb/nltk_data/corpora/state_union/1945-Truman.txt:JOINT\r\n",
      "/home/tmb/nltk_data/corpora/state_union/1945-Truman.txt:SESSION\r\n"
     ]
    }
   ],
   "source": [
    "!egrep -o '[a-zA-Z]+' /home/tmb/nltk_data/corpora/state_union/* > occurrences\n",
    "!head occurrences"
   ]
  },
  {
   "cell_type": "markdown",
   "id": "e1c165ef",
   "metadata": {},
   "source": [
    "Next, we sort on the document name and then assign document ids.\n",
    "The sorting process is potentially expensive and may use a lot of memory,\n",
    "but this is handled efficiently by the merge sort algorithm inside `sort`.\n",
    "\n",
    "We also use the `-u` (unique) argument because we are only interested in a single\n",
    "correspondence per document.\n",
    "\n",
    "We assign document ids by watching when the document name changes in the sorted list."
   ]
  },
  {
   "cell_type": "code",
   "execution_count": 112,
   "id": "b37123e6",
   "metadata": {
    "collapsed": false
   },
   "outputs": [
    {
     "name": "stdout",
     "output_type": "stream",
     "text": [
      "1 A\r\n",
      "1 ADDRESS\r\n",
      "1 Admiral\r\n",
      "1 Aggressors\r\n",
      "1 All\r\n",
      "1 Allies\r\n",
      "1 Almighty\r\n",
      "1 America\r\n",
      "1 American\r\n",
      "1 Americans\r\n"
     ]
    }
   ],
   "source": [
    "!sort -u occurrences | awk 'BEGIN{FS=\":\"};{if($1!=last){did++;last=$1};print did,$2}' > did-token\n",
    "!head did-token"
   ]
  },
  {
   "cell_type": "markdown",
   "id": "216dfc48",
   "metadata": {},
   "source": [
    "The `sort` program lets us sort on arbitrary keys, so we now sort on the token as keys."
   ]
  },
  {
   "cell_type": "code",
   "execution_count": 113,
   "id": "46d8f315",
   "metadata": {
    "collapsed": false
   },
   "outputs": [
    {
     "name": "stdout",
     "output_type": "stream",
     "text": [
      "1 A\r\n",
      "2 A\r\n",
      "3 A\r\n",
      "4 A\r\n",
      "5 A\r\n",
      "6 A\r\n",
      "8 A\r\n",
      "9 A\r\n",
      "10 A\r\n",
      "11 A\r\n"
     ]
    }
   ],
   "source": [
    "!sort -k 2,2 -k 1,1n did-token > bytoken\n",
    "!head bytoken"
   ]
  },
  {
   "cell_type": "markdown",
   "id": "9944140e",
   "metadata": {},
   "source": [
    "Finally, we repeat the process of assigning ids to tokens sequentially,\n",
    "and we also invert the order.\n",
    "This now gives us a representation of the inverted index that we can read in directly."
   ]
  },
  {
   "cell_type": "code",
   "execution_count": 114,
   "id": "b9a7fb45",
   "metadata": {
    "collapsed": false
   },
   "outputs": [
    {
     "name": "stdout",
     "output_type": "stream",
     "text": [
      "1 1\r\n",
      "1 2\r\n",
      "1 3\r\n",
      "1 4\r\n",
      "1 5\r\n",
      "1 6\r\n",
      "1 8\r\n",
      "1 9\r\n",
      "1 10\r\n",
      "1 11\r\n"
     ]
    }
   ],
   "source": [
    "!awk '{if($2!=last){wid++;last=$2};print wid,$1}' bytoken > invindex\n",
    "!head invindex"
   ]
  },
  {
   "cell_type": "markdown",
   "id": "e0998e8c",
   "metadata": {},
   "source": [
    "We can now read in the inverted index very easily (but, of course, if the whole\n",
    "inverted index fit into memory, we could have just built it directly)."
   ]
  },
  {
   "cell_type": "code",
   "execution_count": 115,
   "id": "202c7e93",
   "metadata": {
    "collapsed": false
   },
   "outputs": [],
   "source": [
    "invindex = [[] for i in range(20000)]\n",
    "for l in open(\"invindex\").readlines():\n",
    "    wid,tid = [int(s) for s in l.split()]\n",
    "    invindex[wid].append(tid)"
   ]
  },
  {
   "cell_type": "code",
   "execution_count": 116,
   "id": "cfd51ad2",
   "metadata": {
    "collapsed": false
   },
   "outputs": [
    {
     "data": {
      "text/plain": [
       "[2, 11, 13, 16, 17, 21, 23, 24, 25, 38, 57, 58]"
      ]
     },
     "execution_count": 116,
     "metadata": {},
     "output_type": "execute_result"
    }
   ],
   "source": [
    "invindex[700]"
   ]
  },
  {
   "cell_type": "markdown",
   "id": "a4163e31",
   "metadata": {},
   "source": [
    "Of course, we would have to keep track of the string-to-id assignments (these can just be logged to a file).\n"
   ]
  },
  {
   "cell_type": "markdown",
   "id": "6e715539",
   "metadata": {},
   "source": [
    "Again, what makes this work efficiently is the fact that we have reduced all the operations to...\n",
    "\n",
    "- sequential operations that use constant memory (`grep`, id assignment)\n",
    "- text file sorting, which uses highly optimized algorithms for disk/memory sorting\n",
    "\n",
    "If you're building large inverted indexes for research purposes, this is a good way of doing it.\n",
    "It is similar in spirit to `MapReduce` (and can be run distributed by using distributed sorting etc.).\n"
   ]
  },
  {
   "cell_type": "markdown",
   "id": "a3895c82",
   "metadata": {},
   "source": [
    "Note that you don't get a *dynamic index*: if you have to insert a large number of new documents,\n",
    "you need to restart the process."
   ]
  }
 ],
 "metadata": {},
 "nbformat": 4,
 "nbformat_minor": 5
}
