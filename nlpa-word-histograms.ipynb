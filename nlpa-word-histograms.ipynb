{
 "cells": [
  {
   "cell_type": "markdown",
   "id": "5f44f039",
   "metadata": {},
   "source": [
    "# Simple Word Histogram with the Command Line"
   ]
  },
  {
   "cell_type": "markdown",
   "id": "2d0fa77f",
   "metadata": {},
   "source": [
    "Let's create a simple word histogram of Tom Sawyer (we just downloaded it)."
   ]
  },
  {
   "cell_type": "code",
   "execution_count": 1,
   "id": "b8a98625",
   "metadata": {
    "collapsed": false
   },
   "outputs": [
    {
     "name": "stdout",
     "output_type": "stream",
     "text": [
      "drenched garments by the light of a tallow dip, Sid woke up; but if he\r\n",
      "had any dim idea of making any \"references to allusions,\" he thought\r\n",
      "better of it and held his peace, for there was danger in Tom's eye.\r\n",
      "\r\n",
      "Tom turned in without the added vexation of prayers, and Sid made\r\n",
      "mental note of the omission.\r\n",
      "_____________________________________________________\r\n",
      "\r\n",
      "-44-\r\n",
      "\r\n",
      "Chapter IV\r\n",
      "\r\n",
      "THE sun rose upon a tranquil world, and beamed down upon the\r\n",
      "peaceful village like a benediction. Breakfast over, Aunt Polly had\r\n",
      "family worship: it began with a prayer built from the ground up of\r\n",
      "solid courses of Scriptural quotations, welded together with a thin\r\n",
      "mortar of originality; and from the summit of this she delivered a grim\r\n",
      "chapter of the Mosaic Law, as from Sinai.\r\n",
      "\r\n",
      "Then Tom girded up his loins, so to speak, and went to work to \"get\r\n",
      "his verses.\" Sid had learned his lesson days before. Tom bent all his\r\n"
     ]
    }
   ],
   "source": [
    "!sed '1000,1020!d' tomsawyer.txt"
   ]
  },
  {
   "cell_type": "markdown",
   "id": "7977919c",
   "metadata": {},
   "source": [
    "Here's the \"traditional\" approach.\n",
    "We tokenize by replacing spaces with newlines."
   ]
  },
  {
   "cell_type": "code",
   "execution_count": 31,
   "id": "3b853a60",
   "metadata": {
    "collapsed": false
   },
   "outputs": [
    {
     "name": "stdout",
     "output_type": "stream",
     "text": [
      "The\r\n",
      "Adventures\r\n",
      "of\r\n",
      "Tom\r\n",
      "Sawyer\r\n",
      "Mark\r\n",
      "Twain\r\n",
      "Harper\r\n",
      "and\r\n",
      "Brothers\r\n",
      "New\r\n",
      "York\r\n",
      "and\r\n",
      "London\r\n",
      "1903\r\n",
      "\r\n",
      "Author's\r\n",
      "National\r\n",
      "Edition:\r\n",
      "The\r\n"
     ]
    }
   ],
   "source": [
    "!tr ' ' '\\n' < tomsawyer.txt > tokens\n",
    "!sed 20q tokens"
   ]
  },
  {
   "cell_type": "markdown",
   "id": "c64e49ce",
   "metadata": {},
   "source": [
    "Now we sort, the use the `uniq -c` command to count, finally reverse sort by numerical count (`sort -rn`)."
   ]
  },
  {
   "cell_type": "code",
   "execution_count": 32,
   "id": "c8859baf",
   "metadata": {
    "collapsed": false
   },
   "outputs": [
    {
     "name": "stdout",
     "output_type": "stream",
     "text": [
      "   3329 the\r\n",
      "   2946 and\r\n",
      "   2416 \r\n",
      "   1739 a\r\n",
      "   1682 to\r\n",
      "   1435 of\r\n",
      "   1124 was\r\n",
      "    878 in\r\n",
      "    865 he\r\n",
      "    847 --\r\n",
      "    790 that\r\n",
      "    770 his\r\n",
      "    659 I\r\n",
      "    658 it\r\n",
      "    631 with\r\n",
      "    571 you\r\n",
      "    511 had\r\n",
      "    493 for\r\n",
      "    438 Tom\r\n",
      "    408 they\r\n",
      "    404 but\r\n",
      "    366 as\r\n",
      "    360 The\r\n",
      "    320 on\r\n",
      "    317 at\r\n",
      "    312 _____________________________________________________\r\n",
      "    312 He\r\n",
      "    292 she\r\n",
      "    285 him\r\n",
      "    279 be\r\n"
     ]
    }
   ],
   "source": [
    "!tr ' ' '\\n' < tomsawyer.txt | sort | uniq -c | sort -rn > hist\n",
    "!sed 30q hist"
   ]
  },
  {
   "cell_type": "markdown",
   "id": "b762c2c8",
   "metadata": {},
   "source": [
    "We probably don't want to distinguish between upper and lower case, so..."
   ]
  },
  {
   "cell_type": "code",
   "execution_count": 30,
   "id": "0c3c60f6",
   "metadata": {
    "collapsed": false
   },
   "outputs": [
    {
     "name": "stdout",
     "output_type": "stream",
     "text": [
      "   3696 the\r\n",
      "   3063 and\r\n",
      "   2416 \r\n",
      "   1807 a\r\n",
      "   1686 to\r\n",
      "   1439 of\r\n",
      "   1177 he\r\n",
      "   1128 was\r\n",
      "    908 in\r\n",
      "    847 --\r\n",
      "    813 that\r\n",
      "    813 his\r\n",
      "    766 it\r\n",
      "    659 i\r\n",
      "    634 with\r\n",
      "    625 you\r\n",
      "    564 but\r\n",
      "    544 they\r\n",
      "    511 had\r\n",
      "    501 for\r\n",
      "    443 tom\r\n",
      "    389 as\r\n",
      "    371 she\r\n",
      "    357 at\r\n",
      "    321 on\r\n",
      "    312 _____________________________________________________\r\n",
      "    286 him\r\n",
      "    286 all\r\n",
      "    280 so\r\n",
      "    280 be\r\n"
     ]
    }
   ],
   "source": [
    "!tr 'A-Z' 'a-z' < tomsawyer.txt | tr ' ' '\\n' | sort | uniq -c | sort -rn > hist\n",
    "!sed 30q hist"
   ]
  },
  {
   "cell_type": "markdown",
   "id": "0af983a6",
   "metadata": {},
   "source": [
    "In fact, the above is better written using character classes.\n",
    "(However, the code below still won't quite work correctly on many Linux systems for non-English languages because `tr` hasn't been updated to use Unicode yet.)"
   ]
  },
  {
   "cell_type": "code",
   "execution_count": 27,
   "id": "1128893f",
   "metadata": {
    "collapsed": false
   },
   "outputs": [
    {
     "name": "stdout",
     "output_type": "stream",
     "text": [
      "   3696 the\r\n",
      "   3063 and\r\n",
      "   2416 \r\n",
      "   1807 a\r\n",
      "   1686 to\r\n",
      "   1439 of\r\n",
      "   1177 he\r\n",
      "   1128 was\r\n",
      "    908 in\r\n",
      "    847 --\r\n",
      "    813 that\r\n",
      "    813 his\r\n",
      "    766 it\r\n",
      "    659 i\r\n",
      "    634 with\r\n",
      "    625 you\r\n",
      "    564 but\r\n",
      "    544 they\r\n",
      "    511 had\r\n",
      "    501 for\r\n",
      "    443 tom\r\n",
      "    389 as\r\n",
      "    371 she\r\n",
      "    357 at\r\n",
      "    321 on\r\n",
      "    312 _____________________________________________________\r\n",
      "    286 him\r\n",
      "    286 all\r\n",
      "    280 so\r\n",
      "    280 be\r\n"
     ]
    }
   ],
   "source": [
    "!tr '[:upper:]' '[:lower:]' < tomsawyer.txt | tr ' ' '\\n' | sort | uniq -c | sort -rn > hist\n",
    "!sed 30q hist"
   ]
  },
  {
   "cell_type": "markdown",
   "id": "27486e17",
   "metadata": {},
   "source": [
    "There's a better way of doing the tokenization.\n",
    "The `(e)grep` command allows us to output only matching strings (`-o`) instead of lines.\n",
    "The regular expression `\\w+` says \"match anything consisting of one or more word constituent characters\".\n",
    "So, with that, the pipeline becomes..."
   ]
  },
  {
   "cell_type": "code",
   "execution_count": 28,
   "id": "5b48912d",
   "metadata": {
    "collapsed": false
   },
   "outputs": [
    {
     "name": "stdout",
     "output_type": "stream",
     "text": [
      "   3335 the\r\n",
      "   2973 and\r\n",
      "   1794 a\r\n",
      "   1727 to\r\n",
      "   1444 of\r\n",
      "   1162 was\r\n",
      "   1130 it\r\n",
      "   1018 I\r\n",
      "    961 that\r\n",
      "    925 he\r\n",
      "    905 in\r\n",
      "    838 s\r\n",
      "    796 you\r\n",
      "    772 his\r\n",
      "    764 Tom\r\n",
      "    675 t\r\n",
      "    643 with\r\n",
      "    516 for\r\n",
      "    513 had\r\n",
      "    462 they\r\n",
      "    434 him\r\n",
      "    411 but\r\n",
      "    372 on\r\n",
      "    371 The\r\n",
      "    369 as\r\n",
      "    353 said\r\n",
      "    327 He\r\n",
      "    322 at\r\n",
      "    317 she\r\n",
      "    312 _____________________________________________________\r\n"
     ]
    }
   ],
   "source": [
    "!egrep -o '\\w+' tomsawyer.txt | sort | uniq -c | sort -rn > hist\n",
    "!sed 30q hist"
   ]
  },
  {
   "cell_type": "markdown",
   "id": "98dd160a",
   "metadata": {},
   "source": [
    "We might want to look only for words that are in the dictionary.  We can do this by using `fgrep -f dictionary`.\n",
    "\n",
    "Note the distinction between `egrep` (for the complicated regular expression) and `fgrep` (for matching against a large dictionary)."
   ]
  },
  {
   "cell_type": "code",
   "execution_count": 29,
   "id": "ef44f7a8",
   "metadata": {
    "collapsed": false
   },
   "outputs": [
    {
     "name": "stdout",
     "output_type": "stream",
     "text": [
      "   3335 the\r\n",
      "   2973 and\r\n",
      "   1794 a\r\n",
      "   1727 to\r\n",
      "   1444 of\r\n",
      "   1162 was\r\n",
      "   1130 it\r\n",
      "   1018 I\r\n",
      "    961 that\r\n",
      "    925 he\r\n",
      "    905 in\r\n",
      "    838 s\r\n",
      "    796 you\r\n",
      "    772 his\r\n",
      "    764 Tom\r\n",
      "    675 t\r\n",
      "    643 with\r\n",
      "    516 for\r\n",
      "    513 had\r\n",
      "    462 they\r\n",
      "    434 him\r\n",
      "    411 but\r\n",
      "    372 on\r\n",
      "    371 The\r\n",
      "    369 as\r\n",
      "    353 said\r\n",
      "    327 He\r\n",
      "    322 at\r\n",
      "    317 she\r\n",
      "    303 up\r\n"
     ]
    }
   ],
   "source": [
    "!egrep -o '\\w+' tomsawyer.txt | sort | uniq -c | sort -rn | fgrep -f /usr/share/dict/american-english-huge > hist\n",
    "!sed 30q hist"
   ]
  },
  {
   "cell_type": "markdown",
   "id": "f7250304",
   "metadata": {},
   "source": [
    "# Hapax Legomina"
   ]
  },
  {
   "cell_type": "markdown",
   "id": "ad07891c",
   "metadata": {},
   "source": [
    "Hapax Legomina are words that occur only once in a text.\n",
    "Those are words with a word count of 1 in the histogram.\n",
    "We can search for this directly by looking for lines that start\n",
    "with whitespace, followed by 1, followed by a space (since that's\n",
    "the output format of `uniq -c`)."
   ]
  },
  {
   "cell_type": "code",
   "execution_count": 43,
   "id": "04584a63",
   "metadata": {
    "collapsed": false
   },
   "outputs": [
    {
     "name": "stdout",
     "output_type": "stream",
     "text": [
      "      1 zephyr\r\n",
      "      1 zenith\r\n",
      "      1 zebras\r\n",
      "      1 zeal\r\n",
      "      1 youthful\r\n",
      "      1 youth\r\n",
      "      1 yourselves.\r\n",
      "      1 yourselves\r\n",
      "      1 yourself?\r\n",
      "      1 yourself.\"\r\n",
      "      1 yourself!\"\r\n",
      "      1 yourself!\r\n",
      "      1 yours?\r\n",
      "      1 yourn.\r\n",
      "      1 yourn,\r\n",
      "      1 yourn'll\r\n",
      "      1 your'n,\r\n",
      "      1 young.\r\n",
      "      1 young,\r\n",
      "      1 you;\r\n",
      "      1 yonder'swhere\r\n",
      "      1 yielding\r\n",
      "      1 yielded,\r\n",
      "      1 yi\r\n",
      "      1 yesterday.\r\n",
      "      1 yesterday,\r\n",
      "      1 yesterday\r\n",
      "      1 yes;\r\n",
      "      1 yes.\"\r\n",
      "      1 yes.\r\n"
     ]
    }
   ],
   "source": [
    "!grep '^ *1 ' hist -m 30"
   ]
  },
  {
   "cell_type": "markdown",
   "id": "d86035f1",
   "metadata": {},
   "source": [
    "However, for such simple numerical operations, `awk` is a better tool.\n",
    "Like `sed`, it's a simple programming language, but it operates on fields and records.\n",
    "The input fields are automatically available in `$1` through `$9`.\n",
    "Records are usually lines and fields are whitespace separated, but this can be changed."
   ]
  },
  {
   "cell_type": "code",
   "execution_count": 47,
   "id": "fd2c64dc",
   "metadata": {
    "collapsed": false
   },
   "outputs": [
    {
     "name": "stdout",
     "output_type": "stream",
     "text": [
      "      1 zephyr\r\n",
      "      1 zenith\r\n",
      "      1 zebras\r\n",
      "      1 zeal\r\n",
      "      1 youthful\r\n",
      "      1 youth\r\n",
      "      1 yourselves.\r\n",
      "      1 yourselves\r\n",
      "      1 yourself?\r\n",
      "      1 yourself.\"\r\n",
      "      1 yourself!\"\r\n",
      "      1 yourself!\r\n",
      "      1 yours?\r\n",
      "      1 yourn.\r\n",
      "      1 yourn,\r\n",
      "      1 yourn'll\r\n",
      "      1 your'n,\r\n",
      "      1 young.\r\n",
      "      1 young,\r\n",
      "      1 you;\r\n",
      "      1 yonder'swhere\r\n",
      "      1 yielding\r\n",
      "      1 yielded,\r\n",
      "      1 yi\r\n",
      "      1 yesterday.\r\n",
      "      1 yesterday,\r\n",
      "      1 yesterday\r\n",
      "      1 yes;\r\n",
      "      1 yes.\"\r\n",
      "      1 yes.\r\n",
      "awk: (FILENAME=hist FNR=5586) fatal: print to \"standard output\" failed (Broken pipe)\r\n"
     ]
    }
   ],
   "source": [
    "!awk '$1==1{print}' hist | sed 30q"
   ]
  },
  {
   "cell_type": "markdown",
   "id": "bbefc3c8",
   "metadata": {},
   "source": [
    "Here is a simple `awk` program to count the number of words that occur more than 10 times."
   ]
  },
  {
   "cell_type": "code",
   "execution_count": 49,
   "id": "a6b844e2",
   "metadata": {
    "collapsed": false
   },
   "outputs": [
    {
     "name": "stdout",
     "output_type": "stream",
     "text": [
      "690\r\n"
     ]
    }
   ],
   "source": [
    "!awk '$1>10{frequent+=1};END{print frequent}' hist"
   ]
  },
  {
   "cell_type": "markdown",
   "id": "cd452bcc",
   "metadata": {},
   "source": [
    "Although `awk` is a full programming language, similar to Perl, for anything other than those simple 1-liners, you should probably use Python instead of `sed` or `awk`."
   ]
  },
  {
   "cell_type": "markdown",
   "id": "c2f5d977",
   "metadata": {},
   "source": [
    "# Zipf's Law"
   ]
  },
  {
   "cell_type": "markdown",
   "id": "a6012d49",
   "metadata": {},
   "source": [
    "Let's look now at the word frequencies.\n",
    "You can do that with command line tools like `gnuplot` and `quickplot`."
   ]
  },
  {
   "cell_type": "code",
   "execution_count": 53,
   "id": "47249f5c",
   "metadata": {
    "collapsed": false
   },
   "outputs": [],
   "source": [
    "!awk '{print $1}' hist > freq\n",
    "# quickplot freq"
   ]
  },
  {
   "cell_type": "markdown",
   "id": "6a7e0c68",
   "metadata": {},
   "source": [
    "But let's do this in Python, mostly because it's easy and you need to know it later anyway.\n",
    "Let's read in the word frequencies (this is the Python equivalent of the `awk` one liner above.)"
   ]
  },
  {
   "cell_type": "code",
   "execution_count": 33,
   "id": "d77fb8da",
   "metadata": {
    "collapsed": false
   },
   "outputs": [],
   "source": [
    "freq = []\n",
    "with open(\"hist\") as stream:\n",
    "    for line in stream.readlines():\n",
    "        f = line.split()\n",
    "        freq.append(int(f[0]))"
   ]
  },
  {
   "cell_type": "markdown",
   "id": "3275e533",
   "metadata": {},
   "source": [
    "Now, plotting is easy."
   ]
  },
  {
   "cell_type": "code",
   "execution_count": 34,
   "id": "e468430d",
   "metadata": {
    "collapsed": false
   },
   "outputs": [
    {
     "data": {
      "text/plain": [
       "[<matplotlib.lines.Line2D at 0x306dd10>]"
      ]
     },
     "execution_count": 34,
     "metadata": {},
     "output_type": "execute_result"
    },
    {
     "data": {
      "image/png": "[encoded data removed]"
     },
     "metadata": {},
     "output_type": "display_data"
    }
   ],
   "source": [
    "plot(freq)"
   ]
  },
  {
   "cell_type": "markdown",
   "id": "85f76c8a",
   "metadata": {},
   "source": [
    "The frequent words are very frequent!"
   ]
  },
  {
   "cell_type": "code",
   "execution_count": 35,
   "id": "b5442609",
   "metadata": {
    "collapsed": false
   },
   "outputs": [
    {
     "data": {
      "text/plain": [
       "[<matplotlib.lines.Line2D at 0x3118cd0>]"
      ]
     },
     "execution_count": 35,
     "metadata": {},
     "output_type": "execute_result"
    },
    {
     "data": {
      "image/png": "[encoded data removed]"
     },
     "metadata": {},
     "output_type": "display_data"
    }
   ],
   "source": [
    "plot(freq[:500])"
   ]
  },
  {
   "cell_type": "markdown",
   "id": "7a69df3b",
   "metadata": {},
   "source": [
    "In fact, on a log-log scale, it's easier to see what's going on."
   ]
  },
  {
   "cell_type": "code",
   "execution_count": 38,
   "id": "717b17ce",
   "metadata": {
    "collapsed": false
   },
   "outputs": [
    {
     "data": {
      "text/plain": [
       "[<matplotlib.lines.Line2D at 0x38f8f90>]"
      ]
     },
     "execution_count": 38,
     "metadata": {},
     "output_type": "execute_result"
    },
    {
     "data": {
      "image/png": "[encoded data removed]"
     },
     "metadata": {},
     "output_type": "display_data"
    }
   ],
   "source": [
    "plot(log(1+arange(2000)),log(freq[:2000]))"
   ]
  },
  {
   "cell_type": "markdown",
   "id": "c01913ff",
   "metadata": {},
   "source": [
    "This nearly linear relationship is called *Zipf's law*.\n",
    "It's a \"law\" in the sense that it is observed frequently in many\n",
    "kinds of distributions involving language.\n",
    "However, there is no mathematical \"law\" involved requiring\n",
    "word distributions to work this way.\n",
    "\n",
    "What it says is that the log of the frequency is proportional to the log of the rank of a word.\n",
    "\n",
    "It's an instance of a *power law*, in which a distribution takes the form\n",
    "\n",
    "$$P(n) = \\alpha n^{-\\beta}$$\n",
    "\n",
    "Note that this may only be well defined if the number of possible words $N$ is finite."
   ]
  },
  {
   "cell_type": "markdown",
   "id": "ff70949d",
   "metadata": {},
   "source": [
    "Zipf's law may be related to the fact that if we take many \"reasonable\" probability distributions, sample from them, and express the samples as ranks, we get something that, to first order, looks Zipfian."
   ]
  },
  {
   "cell_type": "code",
   "execution_count": null,
   "id": "40a2a720",
   "metadata": {
    "collapsed": false
   },
   "outputs": [],
   "source": []
  }
 ],
 "metadata": {},
 "nbformat": 4,
 "nbformat_minor": 5
}
