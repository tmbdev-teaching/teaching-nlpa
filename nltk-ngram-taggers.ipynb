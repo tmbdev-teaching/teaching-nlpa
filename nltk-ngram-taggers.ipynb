{
 "cells": [
  {
   "cell_type": "code",
   "execution_count": 1,
   "id": "1cb117b5",
   "metadata": {
    "collapsed": false
   },
   "outputs": [],
   "source": [
    "import nltk\n",
    "import tagutils; reload(tagutils)\n",
    "from tagutils import *\n",
    "from IPython.core.display import HTML\n",
    "from nltk.corpus import brown\n",
    "import random as pyrand\n",
    "from tagutils import *"
   ]
  },
  {
   "cell_type": "markdown",
   "id": "59dcaf79",
   "metadata": {},
   "source": [
    "# Training and Test Sentences"
   ]
  },
  {
   "cell_type": "markdown",
   "id": "c63b18ef",
   "metadata": {},
   "source": [
    "In previous worksheets, we looked at applying taggers to the analysis of texts.\n",
    "\n",
    "We already noted that taggers are often trained.\n",
    "\n",
    "Let's look in more detail at how taggers work.\n",
    "\n",
    "We start off by defining a `training_set` and a `test_set`."
   ]
  },
  {
   "cell_type": "code",
   "execution_count": 2,
   "id": "dcf01c11",
   "metadata": {
    "collapsed": false
   },
   "outputs": [],
   "source": [
    "sents = list(brown.tagged_sents())\n",
    "pyrand.shuffle(sents)\n",
    "training_set = sents[:-1000]\n",
    "test_set = sents[-1000:]"
   ]
  },
  {
   "cell_type": "code",
   "execution_count": 38,
   "id": "1edf4c04",
   "metadata": {
    "collapsed": false
   },
   "outputs": [
    {
     "data": {
      "text/html": [
       "`` <font color='#00c080''>So</font> <font color='#8080ff' size=+1>you're</font> <font color='red' size=+2>looking</font> <font color='#c08000' size=+2>for</font> <font size=-2>a</font> <font color='blue' size=+1>woman</font> who <font color='red' size=+2>married</font> <font size=-2>a</font> <font color='blue' size=+1>man</font> who <font color='red'>might</font> <font color='red'>have</font> <font color='red' size=+2>lived</font> <font color='#00c080''>here</font> <font size=-2>a</font> <font color='blue' size=+1>year</font> <font color='#00c080''>ago</font> <font color='purple' size=+1>and</font> <font color='red'>might</font> <font color='red'>have</font> been <font color='red' size=+2>poisoned</font> .<p />\n",
       "Five <font color='blue' size=+1>days</font> <font color='#00c080''>later</font> , <font color='#c08000' size=+2>on</font> <font color='red' size=+2>receiving</font> <font color='#8080ff' size=+1>it</font> , <font color='blue' size=+1>Meredith</font> <font color='red' size=+2>sat</font> <font color='red' size=+2>drumming</font> <font color='#8080ff' size=+1>his</font> <font color='blue' size=+1>dactyls</font> <font color='#c08000' size=+2>on</font> <font color='#8080ff' size=+1>his</font> <font color='red' size=+2>writing</font> <font color='blue' size=+1>table</font> .<p />\n",
       "The <font color='green'>Medical</font> <font color='blue' size=+1>Museum</font><p />\n",
       "<font size=-2>The</font> <font color='blue' size=+1>combination</font> <font color='red' size=+2>proved</font> quite <font color='green'>irresistible</font> last <font color='blue' size=+1>night</font> .<p />\n",
       "<font color='blue' size=+1>Bullets</font> <font color='red' size=+2>began</font> to <font color='red' size=+2>snap</font> <font color='#c08000' size=+2>past</font> <font color='#8080ff' size=+1>him</font> ."
      ],
      "text/plain": [
       "<IPython.core.display.HTML at 0x38a5dd0>"
      ]
     },
     "execution_count": 38,
     "metadata": {},
     "output_type": "execute_result"
    }
   ],
   "source": [
    "HTML(mstags(test_set[:5]))"
   ]
  },
  {
   "cell_type": "markdown",
   "id": "510701a6",
   "metadata": {},
   "source": [
    "# Unigram Tagging"
   ]
  },
  {
   "cell_type": "markdown",
   "id": "0e610936",
   "metadata": {},
   "source": [
    "There are a variety of tools for keeping statistics.\n",
    "\n",
    "`FreqDist` counts the number of occurrences of its arguments and returns them\n",
    "in order of decreasing frequency."
   ]
  },
  {
   "cell_type": "code",
   "execution_count": 39,
   "id": "ab368fbb",
   "metadata": {
    "collapsed": false
   },
   "outputs": [
    {
     "data": {
      "text/plain": [
       "[('the', 61543),\n",
       " (',', 57205),\n",
       " ('.', 48490),\n",
       " ('of', 35404),\n",
       " ('and', 27399),\n",
       " ('to', 25268),\n",
       " ('a', 21449),\n",
       " ('in', 19152),\n",
       " ('that', 10051),\n",
       " ('is', 9826)]"
      ]
     },
     "execution_count": 39,
     "metadata": {},
     "output_type": "execute_result"
    }
   ],
   "source": [
    "fd = nltk.FreqDist([w[0] for s in training_set for w in s])\n",
    "fd.items()[:10]"
   ]
  },
  {
   "cell_type": "markdown",
   "id": "f39e7b14",
   "metadata": {},
   "source": [
    "`ConditionalFreqDist` computes statistics over pairs `(A,B)` and can be used to\n",
    "estimate $P(B|A)$."
   ]
  },
  {
   "cell_type": "markdown",
   "id": "68d9e47b",
   "metadata": {},
   "source": [
    "Note that `cfd[word]` is essentially a posterior probability distribution."
   ]
  },
  {
   "cell_type": "code",
   "execution_count": 4,
   "id": "2bf74030",
   "metadata": {
    "collapsed": false
   },
   "outputs": [
    {
     "data": {
      "text/plain": [
       "[('JJ', 32), ('VB', 2)]"
      ]
     },
     "execution_count": 4,
     "metadata": {},
     "output_type": "execute_result"
    }
   ],
   "source": [
    "cfd = nltk.ConditionalFreqDist([w for s in training_set for w in s])\n",
    "cfd[\"frequent\"].items()[:10]"
   ]
  },
  {
   "cell_type": "markdown",
   "id": "a32dceb5",
   "metadata": {},
   "source": [
    "For a unigram model, we compute \n",
    "\n",
    "$$\\hbox{tag}(\\hbox{word}) = \\arg\\max P(\\hbox{tag}|\\hbox{word})$$"
   ]
  },
  {
   "cell_type": "code",
   "execution_count": 5,
   "id": "11a12de6",
   "metadata": {
    "collapsed": false
   },
   "outputs": [
    {
     "data": {
      "text/plain": [
       "[('Ranavan', 'NP-TL'),\n",
       " ('fawn', 'NN'),\n",
       " ('gai', 'FW-JJ'),\n",
       " ('mid-week', 'NN'),\n",
       " ('1,800', 'CD'),\n",
       " ('deferment', 'NN'),\n",
       " ('Debts', 'NNS-TL'),\n",
       " ('Poetry', 'NN'),\n",
       " ('woods', 'NNS'),\n",
       " ('clotted', 'VBN')]"
      ]
     },
     "execution_count": 5,
     "metadata": {},
     "output_type": "execute_result"
    }
   ],
   "source": [
    "likely_tags = dict((w, cfd[w].max()) for w in fd.keys())\n",
    "likely_tags.items()[:10]"
   ]
  },
  {
   "cell_type": "markdown",
   "id": "3a85e817",
   "metadata": {},
   "source": [
    "We can now construct a simple tagger. This tagger just assigns the most\n",
    "frequent tag from the training set to each word."
   ]
  },
  {
   "cell_type": "code",
   "execution_count": 6,
   "id": "ee48b737",
   "metadata": {
    "collapsed": false
   },
   "outputs": [],
   "source": [
    "baseline_tagger = nltk.UnigramTagger(model=likely_tags)"
   ]
  },
  {
   "cell_type": "markdown",
   "id": "16ea3f8b",
   "metadata": {},
   "source": [
    "We can now evaluate performance on the test set; the error rate of\n",
    "this \"baseline tagger\" is about 10.3%."
   ]
  },
  {
   "cell_type": "code",
   "execution_count": 7,
   "id": "cf661ffb",
   "metadata": {
    "collapsed": false
   },
   "outputs": [
    {
     "data": {
      "text/plain": [
       "0.8969654199011997"
      ]
     },
     "execution_count": 7,
     "metadata": {},
     "output_type": "execute_result"
    }
   ],
   "source": [
    "baseline_tagger.evaluate(test_set)"
   ]
  },
  {
   "cell_type": "markdown",
   "id": "e3a376dc",
   "metadata": {},
   "source": [
    "Note that performance on the training set is, as usual, better than on the test set.\n",
    "We've already seen this phenomenon in other pattern recognition systems."
   ]
  },
  {
   "cell_type": "code",
   "execution_count": 8,
   "id": "c338c1c8",
   "metadata": {
    "collapsed": false
   },
   "outputs": [
    {
     "data": {
      "text/plain": [
       "0.9264958945867545"
      ]
     },
     "execution_count": 8,
     "metadata": {},
     "output_type": "execute_result"
    }
   ],
   "source": [
    "baseline_tagger.evaluate(training_set[:1000])"
   ]
  },
  {
   "cell_type": "markdown",
   "id": "c5197e9a",
   "metadata": {},
   "source": [
    "# n-Gram Taggers"
   ]
  },
  {
   "cell_type": "markdown",
   "id": "6b6a38e3",
   "metadata": {},
   "source": [
    "Unigram taggers can also be trained and evaluated directly."
   ]
  },
  {
   "cell_type": "code",
   "execution_count": 9,
   "id": "99eef743",
   "metadata": {
    "collapsed": false
   },
   "outputs": [],
   "source": [
    "unigram_tagger = nltk.UnigramTagger(training_set)"
   ]
  },
  {
   "cell_type": "code",
   "execution_count": 10,
   "id": "e80c2efc",
   "metadata": {
    "collapsed": false
   },
   "outputs": [
    {
     "data": {
      "text/plain": [
       "0.8969654199011997"
      ]
     },
     "execution_count": 10,
     "metadata": {},
     "output_type": "execute_result"
    }
   ],
   "source": [
    "unigram_tagger.evaluate(test_set)"
   ]
  },
  {
   "cell_type": "markdown",
   "id": "89dc54b9",
   "metadata": {},
   "source": [
    "A generalization of unigram taggers are n-gram taggers.\n",
    "\n",
    "A bigram tagger computes tags as:\n",
    "\n",
    "$$\\hbox{T}(\\hbox{W}) = \\arg\\max_W P(T|W,W_\\hbox{prev})$$"
   ]
  },
  {
   "cell_type": "code",
   "execution_count": 11,
   "id": "c4d88ae1",
   "metadata": {
    "collapsed": false
   },
   "outputs": [],
   "source": [
    "bigram_tagger = nltk.BigramTagger(training_set)"
   ]
  },
  {
   "cell_type": "code",
   "execution_count": 12,
   "id": "e76b3a30",
   "metadata": {
    "collapsed": false
   },
   "outputs": [
    {
     "data": {
      "text/plain": [
       "0.32364149611856036"
      ]
     },
     "execution_count": 12,
     "metadata": {},
     "output_type": "execute_result"
    }
   ],
   "source": [
    "bigram_tagger.evaluate(test_set)"
   ]
  },
  {
   "cell_type": "code",
   "execution_count": 13,
   "id": "68901fe4",
   "metadata": {
    "collapsed": false
   },
   "outputs": [
    {
     "data": {
      "text/plain": [
       "0.8145926545061213"
      ]
     },
     "execution_count": 13,
     "metadata": {},
     "output_type": "execute_result"
    }
   ],
   "source": [
    "bigram_tagger.evaluate(training_set[:1000])"
   ]
  },
  {
   "cell_type": "code",
   "execution_count": 14,
   "id": "8667e669",
   "metadata": {
    "collapsed": false
   },
   "outputs": [],
   "source": [
    "trigram_tagger = nltk.TrigramTagger(training_set)"
   ]
  },
  {
   "cell_type": "code",
   "execution_count": 15,
   "id": "94bf1c2d",
   "metadata": {
    "collapsed": false
   },
   "outputs": [
    {
     "data": {
      "text/plain": [
       "0.16287932251235004"
      ]
     },
     "execution_count": 15,
     "metadata": {},
     "output_type": "execute_result"
    }
   ],
   "source": [
    "trigram_tagger.evaluate(test_set)"
   ]
  },
  {
   "cell_type": "code",
   "execution_count": 16,
   "id": "c045f160",
   "metadata": {
    "collapsed": false
   },
   "outputs": [
    {
     "data": {
      "text/plain": [
       "0.7679826933477556"
      ]
     },
     "execution_count": 16,
     "metadata": {},
     "output_type": "execute_result"
    }
   ],
   "source": [
    "trigram_tagger.evaluate(training_set[:1000])"
   ]
  },
  {
   "cell_type": "markdown",
   "id": "d9b5db05",
   "metadata": {},
   "source": [
    "Note that for bigram and trigram taggers, performance in the test set is\n",
    "really bad.\n",
    "\n",
    "The reason is that a lot of the contexts (word sequences) that the\n",
    "bigram and trigram taggers are based on don't exist in the training set."
   ]
  },
  {
   "cell_type": "markdown",
   "id": "4a7ffa13",
   "metadata": {},
   "source": [
    "# Backoff Models"
   ]
  },
  {
   "cell_type": "markdown",
   "id": "14ac8544",
   "metadata": {},
   "source": [
    "To deal with lack of training data for longer contexts, we can use *backoff models*.\n",
    "\n",
    "That is, we first try to assign tags using a complicated model, but if\n",
    "the context is missing, we revert to a smaller, simpler model.\n",
    "\n",
    "This improves the error rate from 10.3% to 7.8%"
   ]
  },
  {
   "cell_type": "code",
   "execution_count": 17,
   "id": "67050e96",
   "metadata": {
    "collapsed": false
   },
   "outputs": [
    {
     "data": {
      "text/plain": [
       "0.9229828275699835"
      ]
     },
     "execution_count": 17,
     "metadata": {},
     "output_type": "execute_result"
    }
   ],
   "source": [
    "t0 = nltk.DefaultTagger('NN')\n",
    "t1 = nltk.UnigramTagger(training_set, backoff=t0)\n",
    "t2 = nltk.BigramTagger(training_set, backoff=t1)\n",
    "t2.evaluate(test_set)"
   ]
  },
  {
   "cell_type": "markdown",
   "id": "3f5db61c",
   "metadata": {},
   "source": [
    "More context does not actually help."
   ]
  },
  {
   "cell_type": "code",
   "execution_count": 18,
   "id": "7f132213",
   "metadata": {
    "collapsed": false
   },
   "outputs": [
    {
     "data": {
      "text/plain": [
       "0.9222300635144672"
      ]
     },
     "execution_count": 18,
     "metadata": {},
     "output_type": "execute_result"
    }
   ],
   "source": [
    "t3 = nltk.TrigramTagger(training_set,backoff=t2)\n",
    "t3.evaluate(test_set)"
   ]
  },
  {
   "cell_type": "markdown",
   "id": "c78c3a8e",
   "metadata": {},
   "source": [
    "# Intrinsic Error Rate"
   ]
  },
  {
   "cell_type": "markdown",
   "id": "77611bf2",
   "metadata": {},
   "source": [
    "We already talked about intrinsic error rates in the context of Bayesian classification.\n",
    "\n",
    "For n-gram taggers, we can compute the error rates more directly.\n",
    "\n",
    "Consider $P(T|W_n,W_{n-1},W_{n-2})$.\n",
    "\n",
    "The rate of correct tagging for a given context is given by $\\max_T P(T|W_n,W_{n-1},W_{n-2})$.\n",
    "\n",
    "The intrinsic error rate for a context is therefore $1-\\max_T P(T|W_n,W_{n-1},W_{n-2})$.\n",
    "\n",
    "If we sum this over all contexts and their probabilities, we get the overall\n",
    "intrinsic error rate."
   ]
  },
  {
   "cell_type": "code",
   "execution_count": 19,
   "id": "60abf381",
   "metadata": {
    "collapsed": false
   },
   "outputs": [],
   "source": [
    "cfd = nltk.ConditionalFreqDist(\n",
    "           ((x[1], y[1], z[0]), z[1])\n",
    "           for sent in training_set\n",
    "           for x, y, z in nltk.trigrams(sent))"
   ]
  },
  {
   "cell_type": "code",
   "execution_count": 20,
   "id": "9035cc5a",
   "metadata": {
    "collapsed": false
   },
   "outputs": [
    {
     "data": {
      "text/plain": [
       "[('ABN', 'CC', 'bear'), ('ABN', 'CC', 'dispensing'), ('ABN', 'CC', 'had')]"
      ]
     },
     "execution_count": 20,
     "metadata": {},
     "output_type": "execute_result"
    }
   ],
   "source": [
    "cfd.conditions()[30000:30003]"
   ]
  },
  {
   "cell_type": "code",
   "execution_count": 21,
   "id": "7500206b",
   "metadata": {
    "collapsed": false
   },
   "outputs": [
    {
     "data": {
      "text/plain": [
       "[[('VB', 1)], [('VBG', 1)], [('HVD', 1)], [('IN', 1)], [('RB', 1)]]"
      ]
     },
     "execution_count": 21,
     "metadata": {},
     "output_type": "execute_result"
    }
   ],
   "source": [
    "[cfd[cfd.conditions()[i]].items() for i in range(30000,30005)]"
   ]
  },
  {
   "cell_type": "code",
   "execution_count": 22,
   "id": "3c13d830",
   "metadata": {
    "collapsed": false
   },
   "outputs": [],
   "source": [
    "ambiguous_contexts = [c for c in cfd.conditions() if len(cfd[c]) > 1]"
   ]
  },
  {
   "cell_type": "code",
   "execution_count": 23,
   "id": "cc2e973e",
   "metadata": {
    "collapsed": false
   },
   "outputs": [
    {
     "name": "stdout",
     "output_type": "stream",
     "text": [
      "('NNS', ',', 'leaves')\n",
      "[('NNS', 1), ('VBZ', 1)]\n"
     ]
    }
   ],
   "source": [
    "print ambiguous_contexts[5000]\n",
    "print cfd[ambiguous_contexts[5000]].items()"
   ]
  },
  {
   "cell_type": "code",
   "execution_count": 24,
   "id": "c5e97219",
   "metadata": {
    "collapsed": false
   },
   "outputs": [
    {
     "data": {
      "text/plain": [
       "0.11594425738142042"
      ]
     },
     "execution_count": 24,
     "metadata": {},
     "output_type": "execute_result"
    }
   ],
   "source": [
    "sum(cfd[c].N() for c in ambiguous_contexts) *1.0 / cfd.N()"
   ]
  },
  {
   "cell_type": "code",
   "execution_count": 25,
   "id": "cec2696e",
   "metadata": {
    "collapsed": false
   },
   "outputs": [
    {
     "data": {
      "text/plain": [
       "[('``', '``'),\n",
       " ('So', 'RB'),\n",
       " (\"you're\", 'PPSS+BER'),\n",
       " ('looking', 'VBG'),\n",
       " ('for', 'IN'),\n",
       " ('a', 'AT'),\n",
       " ('woman', 'NN'),\n",
       " ('who', 'WPS'),\n",
       " ('married', None),\n",
       " ('a', None),\n",
       " ('man', None),\n",
       " ('who', None),\n",
       " ('might', None),\n",
       " ('have', None),\n",
       " ('lived', None),\n",
       " ('here', None),\n",
       " ('a', None),\n",
       " ('year', None),\n",
       " ('ago', None),\n",
       " ('and', None),\n",
       " ('might', None),\n",
       " ('have', None),\n",
       " ('been', None),\n",
       " ('poisoned', None),\n",
       " ('.', None)]"
      ]
     },
     "execution_count": 25,
     "metadata": {},
     "output_type": "execute_result"
    }
   ],
   "source": [
    "def words(s): return [w for w,t in s]\n",
    "bigram_tagger.tag(words(test_set[0]))"
   ]
  },
  {
   "cell_type": "code",
   "execution_count": 26,
   "id": "28557083",
   "metadata": {
    "collapsed": false
   },
   "outputs": [],
   "source": [
    "predicted_tags = [tag for sent in test_set for (word, tag) in t2.tag(words(sent))]\n",
    "true_tags = [tag for sent in test_set for (word, tag) in sent]\n",
    "confusion = nltk.ConfusionMatrix(true_tags, predicted_tags)"
   ]
  },
  {
   "cell_type": "code",
   "execution_count": 27,
   "id": "febcb702",
   "metadata": {
    "collapsed": false
   },
   "outputs": [],
   "source": [
    "with open(\"confusion.txt\",\"w\") as stream: stream.write(str(confusion))"
   ]
  },
  {
   "cell_type": "code",
   "execution_count": 28,
   "id": "925a5748",
   "metadata": {
    "collapsed": false
   },
   "outputs": [],
   "source": [
    "!gvim -c ':set nowrap' confusion.txt"
   ]
  },
  {
   "cell_type": "code",
   "execution_count": 29,
   "id": "74d28c3b",
   "metadata": {
    "collapsed": false
   },
   "outputs": [
    {
     "data": {
      "text/plain": [
       "[(('NN', 'NN'), 2707),\n",
       " (('IN', 'IN'), 2076),\n",
       " (('AT', 'AT'), 1847),\n",
       " ((',', ','), 1126),\n",
       " (('.', '.'), 1052),\n",
       " (('JJ', 'JJ'), 1021),\n",
       " (('NNS', 'NNS'), 913),\n",
       " (('CC', 'CC'), 678),\n",
       " (('RB', 'RB'), 574),\n",
       " (('NP', 'NP'), 572)]"
      ]
     },
     "execution_count": 29,
     "metadata": {},
     "output_type": "execute_result"
    }
   ],
   "source": [
    "from collections import Counter\n",
    "conf = Counter(zip(predicted_tags,true_tags))\n",
    "conf.most_common(10)"
   ]
  },
  {
   "cell_type": "code",
   "execution_count": 30,
   "id": "6e6e2c43",
   "metadata": {
    "collapsed": false
   },
   "outputs": [
    {
     "data": {
      "text/plain": [
       "[(('TO', 'IN'), 124),\n",
       " (('NN', 'JJ'), 99),\n",
       " (('NN', 'NP'), 79),\n",
       " (('VBN', 'VBD'), 70),\n",
       " (('IN', 'TO'), 69),\n",
       " (('NN', 'VB'), 67),\n",
       " (('NN', 'NNS'), 67),\n",
       " (('VBD', 'VBN'), 66),\n",
       " (('NP', 'NP-TL'), 33),\n",
       " (('JJ', 'NN'), 31)]"
      ]
     },
     "execution_count": 30,
     "metadata": {},
     "output_type": "execute_result"
    }
   ],
   "source": [
    "[((u,v),n) for (u,v),n in conf.most_common() if u!=v][:10]"
   ]
  },
  {
   "cell_type": "code",
   "execution_count": 31,
   "id": "6c7fe5b8",
   "metadata": {
    "collapsed": false
   },
   "outputs": [],
   "source": []
  }
 ],
 "metadata": {},
 "nbformat": 4,
 "nbformat_minor": 5
}
