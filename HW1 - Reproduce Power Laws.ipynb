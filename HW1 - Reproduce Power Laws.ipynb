{
 "cells": [
  {
   "cell_type": "markdown",
   "id": "2f1bdeea",
   "metadata": {},
   "source": [
    "# HW1 - Reproduce Power Laws"
   ]
  },
  {
   "cell_type": "markdown",
   "id": "5429ce97",
   "metadata": {},
   "source": [
    "In class, we talked about how various papers claim that Zipf's law is a general\n",
    "property of many discrete distributions.\n",
    "[Wikipedia](http://en.wikipedia.org/wiki/Zipf's_law)\n",
    "[Mathworld](http://mathworld.wolfram.com/ZipfsLaw.html)\n",
    "\n",
    "The original paper by Belevitch examined this question theoretically.\n",
    "However, if this is true, it should be easy to reproduce experimentally,\n",
    "namely by picking various discrete distributions, computing word frequency\n",
    "by rank, and plotting the result.\n",
    "\n",
    "For working with the worksheet, remember that you can insert additional\n",
    "cells, both to add text and explanations, and to add additional code cells.\n",
    "You can change existing cells if you like; they are just there to help you\n",
    "get started."
   ]
  },
  {
   "cell_type": "code",
   "execution_count": 21,
   "id": "baa1d02e",
   "metadata": {
    "collapsed": false
   },
   "outputs": [],
   "source": [
    "from pylab import *\n",
    "from collections import Counter"
   ]
  },
  {
   "cell_type": "markdown",
   "id": "8654f3c8",
   "metadata": {},
   "source": [
    "Start by generating a random sample.\n",
    "Here is an example of a function that generates a uniform sample.\n",
    "Obviously, this particular choice of distribution will\n",
    "not reproduce Zipf's law, so\n",
    "you need to modify this to try to come up with distributions\n",
    "that will reproduce Zipf's law."
   ]
  },
  {
   "cell_type": "code",
   "execution_count": 26,
   "id": "3221154a",
   "metadata": {
    "collapsed": false
   },
   "outputs": [],
   "source": [
    "def generate_sample(nsamples,vocabulary_size):\n",
    "    return array(rand(nsamples)*vocabulary_size,'i')"
   ]
  },
  {
   "cell_type": "code",
   "execution_count": 28,
   "id": "8b5d2fea",
   "metadata": {
    "collapsed": false
   },
   "outputs": [],
   "source": [
    "data = generate_sample(100000,1000)"
   ]
  },
  {
   "cell_type": "markdown",
   "id": "fcf041dc",
   "metadata": {},
   "source": [
    "Compute a histogram."
   ]
  },
  {
   "cell_type": "code",
   "execution_count": 14,
   "id": "7668e2be",
   "metadata": {
    "collapsed": false
   },
   "outputs": [],
   "source": [
    "histogram = Counter(samples)"
   ]
  },
  {
   "cell_type": "markdown",
   "id": "6bc1d8f0",
   "metadata": {},
   "source": [
    "Compute frequency by rank."
   ]
  },
  {
   "cell_type": "code",
   "execution_count": 16,
   "id": "9702b0a7",
   "metadata": {
    "collapsed": false
   },
   "outputs": [],
   "source": [
    "frequencies = ..."
   ]
  },
  {
   "cell_type": "markdown",
   "id": "504c9406",
   "metadata": {},
   "source": [
    "Plot the result."
   ]
  },
  {
   "cell_type": "code",
   "execution_count": 19,
   "id": "fb4c1706",
   "metadata": {
    "collapsed": false
   },
   "outputs": [
    {
     "data": {
      "text/plain": [
       "[<matplotlib.lines.Line2D at 0x3f727d0>]"
      ]
     },
     "execution_count": 19,
     "metadata": {},
     "output_type": "execute_result"
    },
    {
     "data": {
      "image/png": "[encoded data removed]"
     },
     "metadata": {},
     "output_type": "display_data"
    }
   ],
   "source": [
    "plot(log(1+arange(len(frequencies))),log(frequencies))"
   ]
  },
  {
   "cell_type": "markdown",
   "id": "b41ac5c1",
   "metadata": {},
   "source": [
    "Now wrap this up as a function."
   ]
  },
  {
   "cell_type": "code",
   "execution_count": null,
   "id": "f1c0ab77",
   "metadata": {
    "collapsed": false
   },
   "outputs": [],
   "source": [
    "def frequency_by_rank_plot(samples):\n",
    "    ..."
   ]
  },
  {
   "cell_type": "markdown",
   "id": "bec889a9",
   "metadata": {},
   "source": [
    "Now define multiple distributions and plot their frequency ranks.\n",
    "Which ones give rise to power laws?"
   ]
  },
  {
   "cell_type": "code",
   "execution_count": null,
   "id": "d00e4a4e",
   "metadata": {
    "collapsed": false
   },
   "outputs": [],
   "source": [
    "def distribution1(n,q):\n",
    "    ...\n",
    "frequency_by_rank_plot(distribution1(100000,1000))"
   ]
  },
  {
   "cell_type": "code",
   "execution_count": null,
   "id": "8c57b066",
   "metadata": {
    "collapsed": false
   },
   "outputs": [],
   "source": [
    "def distribution2(n,q):\n",
    "    ...\n",
    "frequency_by_rank_plot(distribution2(100000,1000))"
   ]
  }
 ],
 "metadata": {},
 "nbformat": 4,
 "nbformat_minor": 5
}
