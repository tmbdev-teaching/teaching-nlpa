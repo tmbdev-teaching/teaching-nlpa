{
 "cells": [
  {
   "cell_type": "code",
   "execution_count": 52,
   "id": "e37e73b1",
   "metadata": {
    "collapsed": false
   },
   "outputs": [],
   "source": [
    "from pylab import *\n",
    "import bisect\n",
    "def unit(i,n):\n",
    "    result = zeros(n)\n",
    "    result[i] = 1.0\n",
    "    return result"
   ]
  },
  {
   "cell_type": "markdown",
   "id": "dbf90496",
   "metadata": {},
   "source": [
    "# Generating a Dataset"
   ]
  },
  {
   "cell_type": "code",
   "execution_count": 10,
   "id": "24d5a838",
   "metadata": {
    "collapsed": false
   },
   "outputs": [],
   "source": [
    "M = roll(diag(ones(4)) + 0.1*rand(4,4),-1,1)\n",
    "M /= sum(M,axis=0)[newaxis,:]"
   ]
  },
  {
   "cell_type": "code",
   "execution_count": 55,
   "id": "0405b0ea",
   "metadata": {
    "collapsed": false
   },
   "outputs": [],
   "source": [
    "def generate(M,s=0,n=10):\n",
    "    result = []\n",
    "    for i in range(n):\n",
    "        result.append(s)\n",
    "        x = unit(s,len(M))\n",
    "        x = dot(M,x)\n",
    "        s = bisect.bisect_left(add.accumulate(x),rand())\n",
    "    return result"
   ]
  },
  {
   "cell_type": "code",
   "execution_count": 63,
   "id": "7e0a5123",
   "metadata": {
    "collapsed": false
   },
   "outputs": [],
   "source": [
    "def glabel(s):\n",
    "    result = [0]\n",
    "    for i in range(1,len(s)):\n",
    "        if s[i]==s[i-1]+1 and result[-1]:\n",
    "            result.append(s[i])\n",
    "        else:\n",
    "            result.append(0)\n",
    "    return result"
   ]
  },
  {
   "cell_type": "code",
   "execution_count": 78,
   "id": "851dbbf2",
   "metadata": {
    "collapsed": false
   },
   "outputs": [],
   "source": [
    "xs = generate(M,0,10000)\n",
    "ys = glabel(xs)"
   ]
  },
  {
   "cell_type": "code",
   "execution_count": 110,
   "id": "92d0b0a5",
   "metadata": {
    "collapsed": false
   },
   "outputs": [
    {
     "name": "stdout",
     "output_type": "stream",
     "text": [
      "[0, 1, 2, 3, 1, 2, 3, 0, 1, 2, 2, 3, 0, 1, 2, 3, 0, 1, 2, 3]\n",
      "[0, 1, 2, 3, 0, 2, 3, 0, 1, 2, 0, 3, 0, 1, 2, 3, 0, 1, 2, 3]\n"
     ]
    }
   ],
   "source": [
    "print xs[:20]\n",
    "print ys[:20]"
   ]
  },
  {
   "cell_type": "markdown",
   "id": "8e8504d4",
   "metadata": {},
   "source": [
    "# Learning the Transitions"
   ]
  },
  {
   "cell_type": "code",
   "execution_count": 87,
   "id": "3064f77d",
   "metadata": {
    "collapsed": false
   },
   "outputs": [],
   "source": [
    "cs = []\n",
    "ps = []\n",
    "for i in range(1,len(xs)):\n",
    "    c = concatenate([unit(ys[i-1],4),unit(xs[i],4)])\n",
    "    p = unit(xs[i],4)\n",
    "    cs.append(c)\n",
    "    ps.append(p)"
   ]
  },
  {
   "cell_type": "code",
   "execution_count": 88,
   "id": "be0e8b63",
   "metadata": {
    "collapsed": false
   },
   "outputs": [],
   "source": [
    "from sklearn.linear_model import LogisticRegression"
   ]
  },
  {
   "cell_type": "code",
   "execution_count": 89,
   "id": "839b6d16",
   "metadata": {
    "collapsed": false
   },
   "outputs": [
    {
     "data": {
      "text/plain": [
       "LogisticRegression(C=1.0, class_weight=None, dual=False, fit_intercept=True,\n",
       "          intercept_scaling=1, penalty='l2', tol=0.0001)"
      ]
     },
     "execution_count": 89,
     "metadata": {},
     "output_type": "execute_result"
    }
   ],
   "source": [
    "lr = LogisticRegression()\n",
    "lr.fit(cs,ys[1:])"
   ]
  },
  {
   "cell_type": "code",
   "execution_count": 103,
   "id": "649ffa79",
   "metadata": {
    "collapsed": false
   },
   "outputs": [
    {
     "data": {
      "text/plain": [
       "442"
      ]
     },
     "execution_count": 103,
     "metadata": {},
     "output_type": "execute_result"
    }
   ],
   "source": [
    "sum(array(lr.predict(cs),'i')!=array(ys[1:],'i'))"
   ]
  },
  {
   "cell_type": "markdown",
   "id": "4b5aee0f",
   "metadata": {},
   "source": [
    "# Forward Algorithm"
   ]
  },
  {
   "cell_type": "code",
   "execution_count": 105,
   "id": "c9318bc6",
   "metadata": {
    "collapsed": false
   },
   "outputs": [],
   "source": [
    "pys = [0]\n",
    "for i in range(1,len(xs)):\n",
    "    c = concatenate([unit(pys[i-1],4),unit(xs[i],4)])\n",
    "    y = lr.predict([c])\n",
    "    pys.append(y)"
   ]
  },
  {
   "cell_type": "code",
   "execution_count": 108,
   "id": "9cf12afb",
   "metadata": {
    "collapsed": false
   },
   "outputs": [
    {
     "data": {
      "text/plain": [
       "382"
      ]
     },
     "execution_count": 108,
     "metadata": {},
     "output_type": "execute_result"
    }
   ],
   "source": [
    "sum(array(ys)!=array(pys))"
   ]
  },
  {
   "cell_type": "code",
   "execution_count": 91,
   "id": "297824fb",
   "metadata": {
    "collapsed": false
   },
   "outputs": [
    {
     "data": {
      "text/plain": [
       "array([[-11, -18, -10,  48,  49, -15,  -8, -17],\n",
       "       [ 36, -31, -28, -30, -31,  47, -34, -34],\n",
       "       [ -2,  41, -44, -37, -28, -35,  51, -31],\n",
       "       [ -2, -40,  40, -40, -21, -34, -37,  51]], dtype=int32)"
      ]
     },
     "execution_count": 91,
     "metadata": {},
     "output_type": "execute_result"
    }
   ],
   "source": [
    "array(lr.coef_*10,'i')"
   ]
  },
  {
   "cell_type": "code",
   "execution_count": 111,
   "id": "3a1ce39f",
   "metadata": {
    "collapsed": false
   },
   "outputs": [],
   "source": [
    "lprobs = zeros((100,4))"
   ]
  },
  {
   "cell_type": "code",
   "execution_count": 112,
   "id": "4e75a7eb",
   "metadata": {
    "collapsed": false
   },
   "outputs": [],
   "source": [
    "lprobs[0,:] = log(1.0/4)"
   ]
  },
  {
   "cell_type": "code",
   "execution_count": null,
   "id": "01a98b08",
   "metadata": {
    "collapsed": false
   },
   "outputs": [],
   "source": []
  }
 ],
 "metadata": {},
 "nbformat": 4,
 "nbformat_minor": 5
}
