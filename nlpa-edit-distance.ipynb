{
 "cells": [
  {
   "cell_type": "markdown",
   "id": "6a7dfd75",
   "metadata": {},
   "source": [
    "# Edit Distance"
   ]
  },
  {
   "cell_type": "code",
   "execution_count": 1,
   "id": "865cdb15",
   "metadata": {
    "collapsed": false
   },
   "outputs": [],
   "source": [
    "from pylab import *"
   ]
  },
  {
   "cell_type": "code",
   "execution_count": 7,
   "id": "22593272",
   "metadata": {
    "collapsed": false
   },
   "outputs": [],
   "source": [
    "a = \"the quick brown fox jumps over the lazy dogs\"\n",
    "b = \"the quack brine foxes jump over the lazy dog\""
   ]
  },
  {
   "cell_type": "markdown",
   "id": "5b65a217",
   "metadata": {},
   "source": [
    "We start off by allocating an array of distances and sources.\n",
    "We keep track in these of the search."
   ]
  },
  {
   "cell_type": "code",
   "execution_count": 8,
   "id": "2ac046ba",
   "metadata": {
    "collapsed": false
   },
   "outputs": [],
   "source": [
    "n,m = len(a),len(b)"
   ]
  },
  {
   "cell_type": "code",
   "execution_count": 15,
   "id": "14060531",
   "metadata": {
    "collapsed": false
   },
   "outputs": [],
   "source": [
    "sources = empty((m+1,n+1),object)"
   ]
  },
  {
   "cell_type": "code",
   "execution_count": 16,
   "id": "20d687c2",
   "metadata": {
    "collapsed": false
   },
   "outputs": [],
   "source": [
    "dists = 99999*ones((m+1,n+1))"
   ]
  },
  {
   "cell_type": "markdown",
   "id": "479e8697",
   "metadata": {},
   "source": [
    "We start off by initializing the costs at time 0 to the number of\n",
    "initial characters that would be skipped."
   ]
  },
  {
   "cell_type": "code",
   "execution_count": 17,
   "id": "6473bdfb",
   "metadata": {
    "collapsed": false
   },
   "outputs": [],
   "source": [
    "dists[0,:] = arange(n+1)"
   ]
  },
  {
   "cell_type": "markdown",
   "id": "48feb802",
   "metadata": {},
   "source": [
    "The important step is forwarding from one column to the next."
   ]
  },
  {
   "cell_type": "code",
   "execution_count": 39,
   "id": "43a7a88a",
   "metadata": {
    "collapsed": false
   },
   "outputs": [],
   "source": [
    "def step(previous,current):\n",
    "    for j in range(1,n+1):\n",
    "        if previous[j]+1<current[j]:\n",
    "            sources[i,j] = (i-1,j)\n",
    "            dists[i,j] = previous[j]+1\n",
    "        if current[j-1]+1<current[j]:\n",
    "            sources[i,j] = (i,j-1)\n",
    "            dists[i,j] = current[j-1]+1\n",
    "        delta = 1*(a[j-1]!=b[i-1])\n",
    "        if previous[j-1]+delta<current[j]:\n",
    "            sources[i,j] = (i-1,j-1)\n",
    "            dists[i,j] = previous[j-1]+delta"
   ]
  },
  {
   "cell_type": "markdown",
   "id": "34b46542",
   "metadata": {},
   "source": [
    "We now repeat propagation of the values for each time step."
   ]
  },
  {
   "cell_type": "code",
   "execution_count": 40,
   "id": "60a1910f",
   "metadata": {
    "collapsed": false
   },
   "outputs": [],
   "source": [
    "for i in range(1,m+1):\n",
    "    previous = dists[i-1,:]\n",
    "    current = dists[i,:]\n",
    "    current[0] = i\n",
    "    step(previous,current)"
   ]
  },
  {
   "cell_type": "markdown",
   "id": "5ea89cd9",
   "metadata": {},
   "source": [
    "The distance array now contains all the shortest paths from start to each point."
   ]
  },
  {
   "cell_type": "code",
   "execution_count": 41,
   "id": "94a3b144",
   "metadata": {
    "collapsed": false
   },
   "outputs": [
    {
     "data": {
      "text/plain": [
       "<matplotlib.image.AxesImage at 0x4731f50>"
      ]
     },
     "execution_count": 41,
     "metadata": {},
     "output_type": "execute_result"
    },
    {
     "data": {
      "image/png": "[encoded data removed]"
     },
     "metadata": {},
     "output_type": "display_data"
    }
   ],
   "source": [
    "imshow(dists,cmap=cm.gray)"
   ]
  },
  {
   "cell_type": "markdown",
   "id": "f88d4c46",
   "metadata": {},
   "source": [
    "# Tracing Back the Path"
   ]
  },
  {
   "cell_type": "code",
   "execution_count": 35,
   "id": "8bfe113d",
   "metadata": {
    "collapsed": false
   },
   "outputs": [],
   "source": [
    "l = sources[i,n]\n",
    "path = []\n",
    "while l is not None:\n",
    "    path.append(l)\n",
    "    i,j = l\n",
    "    l = sources[i,j]\n",
    "path = [(n+2,m+2)]+path"
   ]
  },
  {
   "cell_type": "code",
   "execution_count": 36,
   "id": "24ab9fc8",
   "metadata": {
    "collapsed": false
   },
   "outputs": [
    {
     "data": {
      "text/plain": [
       "[(46, 46), (44, 43), (43, 42), (42, 41), (41, 40)]"
      ]
     },
     "execution_count": 36,
     "metadata": {},
     "output_type": "execute_result"
    }
   ],
   "source": [
    "path[:5]"
   ]
  },
  {
   "cell_type": "markdown",
   "id": "e3e5e486",
   "metadata": {},
   "source": [
    "# Summarizing the Edits"
   ]
  },
  {
   "cell_type": "code",
   "execution_count": 38,
   "id": "ceba971b",
   "metadata": {
    "collapsed": false
   },
   "outputs": [
    {
     "name": "stdout",
     "output_type": "stream",
     "text": [
      "the quick brown_ fox__ jumps over the lazy dogs\n",
      "the quack bri_ne foxes jump_ over the lazy dog_\n",
      "      ^     ^^ ^    ^^     ^                  ^\n"
     ]
    }
   ],
   "source": [
    "al,bl = [],[]\n",
    "for k in range(len(path)-1):\n",
    "    i,j = path[k]\n",
    "    i0,j0 = path[k+1]\n",
    "    u = \"_\"\n",
    "    v = \"_\"\n",
    "    if j!=j0 and j0<n: u = a[j0]\n",
    "    if i!=i0 and i0<m: v = b[i0]\n",
    "    al.append(u)\n",
    "    bl.append(v)\n",
    "al = \"\".join(al[::-1])\n",
    "bl = \"\".join(bl[::-1])\n",
    "print al\n",
    "print bl\n",
    "print \"\".join([\"^\" if al[i]!=bl[i] else \" \" for i in range(len(al))])"
   ]
  },
  {
   "cell_type": "code",
   "execution_count": null,
   "id": "07ea7ab2",
   "metadata": {
    "collapsed": false
   },
   "outputs": [],
   "source": []
  }
 ],
 "metadata": {},
 "nbformat": 4,
 "nbformat_minor": 5
}
