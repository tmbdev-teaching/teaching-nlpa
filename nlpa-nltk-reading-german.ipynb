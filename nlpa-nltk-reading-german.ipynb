{
 "cells": [
  {
   "cell_type": "code",
   "execution_count": 1,
   "id": "a9ed8ce5",
   "metadata": {
    "collapsed": false
   },
   "outputs": [],
   "source": [
    "import sys\n",
    "#reload(sys)\n",
    "#sys.setdefaultencoding(\"utf-8\")"
   ]
  },
  {
   "cell_type": "code",
   "execution_count": 2,
   "id": "4fd031b2",
   "metadata": {
    "collapsed": false
   },
   "outputs": [],
   "source": [
    "import nltk"
   ]
  },
  {
   "cell_type": "markdown",
   "id": "5b39b4cf",
   "metadata": {},
   "source": [
    "# Reading German"
   ]
  },
  {
   "cell_type": "markdown",
   "id": "776fda4d",
   "metadata": {},
   "source": [
    "NLTK 2 under Python 2 doesn't work well with Unicode.  In fact, internally, it just treats utf-8 encoded strings like byte sequences and doesn't do any complicated processing on it.  The Python 3 port of NTLK should fix that in the next release."
   ]
  },
  {
   "cell_type": "code",
   "execution_count": 18,
   "id": "c6963204",
   "metadata": {
    "collapsed": false
   },
   "outputs": [
    {
     "data": {
      "text/plain": [
       "<PlaintextCorpusReader in '/home/tmb/teaching/nlpa'>"
      ]
     },
     "execution_count": 18,
     "metadata": {},
     "output_type": "execute_result"
    }
   ],
   "source": [
    "corpus = nltk.corpus.PlaintextCorpusReader(\".\",'faust.txt',encoding='utf-8')\n",
    "corpus"
   ]
  },
  {
   "cell_type": "code",
   "execution_count": 19,
   "id": "b2c48229",
   "metadata": {
    "collapsed": false
   },
   "outputs": [
    {
     "data": {
      "text/plain": [
       "['faust.txt']"
      ]
     },
     "execution_count": 19,
     "metadata": {},
     "output_type": "execute_result"
    }
   ],
   "source": [
    "corpus.fileids()"
   ]
  },
  {
   "cell_type": "code",
   "execution_count": 20,
   "id": "b6272baa",
   "metadata": {
    "collapsed": false
   },
   "outputs": [
    {
     "data": {
      "text/plain": [
       "[u'Faust', u':', u'Der', u'Trag\\xf6die', u'erster', ...]"
      ]
     },
     "execution_count": 20,
     "metadata": {},
     "output_type": "execute_result"
    }
   ],
   "source": [
    "corpus.words()"
   ]
  },
  {
   "cell_type": "code",
   "execution_count": 21,
   "id": "ab0873a6",
   "metadata": {
    "collapsed": false
   },
   "outputs": [
    {
     "name": "stdout",
     "output_type": "stream",
     "text": [
      "Faust: Der Tragödie erster Teil\n",
      "\n",
      "Johann Wolfgang von Goethe\n",
      "\n",
      "\n",
      "Zueignung.\n",
      "\n",
      "Ihr naht euch wieder, schw\n"
     ]
    }
   ],
   "source": [
    "from urllib import urlopen\n",
    "url = \"http://iupr1.cs.uni-kl.de/~tmb/faust.txt\"\n",
    "raw = urlopen(url).read()\n",
    "raw = raw.decode(\"utf-8\",\"replace\")\n",
    "print raw[:100]"
   ]
  },
  {
   "cell_type": "code",
   "execution_count": 27,
   "id": "2968b2c1",
   "metadata": {
    "collapsed": false
   },
   "outputs": [
    {
     "data": {
      "text/plain": [
       "[u'Faust', u':', u'Der', u'Trag\\xf6die', u'erster', ...]"
      ]
     },
     "execution_count": 27,
     "metadata": {},
     "output_type": "execute_result"
    }
   ],
   "source": [
    "tokens = corpus.words()\n",
    "tokens"
   ]
  },
  {
   "cell_type": "code",
   "execution_count": 28,
   "id": "18786e3c",
   "metadata": {
    "collapsed": false
   },
   "outputs": [],
   "source": [
    "text = Text([s.encode(\"utf-8\") for s in tokens])"
   ]
  },
  {
   "cell_type": "code",
   "execution_count": 29,
   "id": "41617ce4",
   "metadata": {
    "collapsed": false
   },
   "outputs": [
    {
     "data": {
      "text/plain": [
       "['Faust',\n",
       " ':',\n",
       " 'Der',\n",
       " 'Trag\\xc3\\xb6die',\n",
       " 'erster',\n",
       " 'Teil',\n",
       " 'Johann',\n",
       " 'Wolfgang',\n",
       " 'von',\n",
       " 'Goethe']"
      ]
     },
     "execution_count": 29,
     "metadata": {},
     "output_type": "execute_result"
    }
   ],
   "source": [
    "text[:10]"
   ]
  },
  {
   "cell_type": "code",
   "execution_count": 30,
   "id": "043e603f",
   "metadata": {
    "collapsed": false
   },
   "outputs": [
    {
     "name": "stdout",
     "output_type": "stream",
     "text": [
      "Building index...\n",
      "Displaying 11 of 11 matches:\n",
      "n ! Was heute nicht geschieht , ist morgen nicht getan , Und keinen Tag soll m\n",
      " mit Euch mich zu besprechen . Doch morgen , als am ersten Ostertage , Erlaubt\n",
      "le , Als festlich hoher Gruß , dem morgen zugebracht ! ( Er setzt die Schale \n",
      " , mit pfeilgespitzten Zungen ; Von morgen ziehn , vertrocknend , sie heran , \n",
      " leidig Lied ! Dankt Gott mit jedem morgen , Daß ihr nicht braucht fürs Röm\n",
      " ein bißchen tiefer wüßte . Denn morgen wirst , in allen Ehren , Das arme G\n",
      "sorgen , Und immer fort wie heut so morgen . Da geht ' s , mein Herr , nicht i\n",
      " Tränen , ach ! Als ich am frühen morgen Dir diese Blumen brach . Schien hel\n",
      " dich und laß mich leben ! Ist ' s morgen früh nicht zeitig genung ? ( Sie s\n",
      "n , Für die mußt du sorgen Gleich morgen ; Der Mutter den besten Platz geben\n",
      "udern ! Mein Pferde schaudern , Der morgen dämmert auf . MARGARETE : Was stei\n"
     ]
    }
   ],
   "source": [
    "text.concordance(\"morgen\")"
   ]
  },
  {
   "cell_type": "code",
   "execution_count": 31,
   "id": "fe93c66c",
   "metadata": {
    "collapsed": false
   },
   "outputs": [],
   "source": [
    "fdist = FreqDist(text)"
   ]
  },
  {
   "cell_type": "code",
   "execution_count": 32,
   "id": "db215cf8",
   "metadata": {
    "collapsed": false
   },
   "outputs": [
    {
     "data": {
      "text/plain": [
       "<FreqDist with 38509 outcomes>"
      ]
     },
     "execution_count": 32,
     "metadata": {},
     "output_type": "execute_result"
    }
   ],
   "source": [
    "fdist"
   ]
  },
  {
   "cell_type": "code",
   "execution_count": 33,
   "id": "f58bca65",
   "metadata": {
    "collapsed": false
   },
   "outputs": [],
   "source": [
    "vocabulary = fdist.keys()"
   ]
  },
  {
   "cell_type": "code",
   "execution_count": 34,
   "id": "7d1e39f7",
   "metadata": {
    "collapsed": false
   },
   "outputs": [
    {
     "data": {
      "text/plain": [
       "[',',\n",
       " '.',\n",
       " '!',\n",
       " ':',\n",
       " 'und',\n",
       " 'ich',\n",
       " 'die',\n",
       " 'der',\n",
       " 'Und',\n",
       " '?',\n",
       " 'nicht',\n",
       " 'zu',\n",
       " 'ist',\n",
       " \"'\",\n",
       " 'ein',\n",
       " ';',\n",
       " 'das',\n",
       " 'MEPHISTOPHELES',\n",
       " 'sich',\n",
       " 'in',\n",
       " '(',\n",
       " 'mir',\n",
       " 'Ich',\n",
       " 'du',\n",
       " 'den',\n",
       " 'mich',\n",
       " 'FAUST',\n",
       " 's',\n",
       " 'sie',\n",
       " 'mit',\n",
       " 'es',\n",
       " 'so',\n",
       " 'Die',\n",
       " 'auf',\n",
       " 'dem',\n",
       " 'an',\n",
       " 'nur',\n",
       " 'Der',\n",
       " 'Ihr',\n",
       " 'Das',\n",
       " 'von',\n",
       " 'er',\n",
       " 'wie',\n",
       " 'ihr',\n",
       " 'was',\n",
       " '):',\n",
       " 'dich',\n",
       " '.)',\n",
       " 'So',\n",
       " 'Was']"
      ]
     },
     "execution_count": 34,
     "metadata": {},
     "output_type": "execute_result"
    }
   ],
   "source": [
    "vocabulary[:50]"
   ]
  },
  {
   "cell_type": "code",
   "execution_count": 37,
   "id": "0e7fbe5f",
   "metadata": {
    "collapsed": false
   },
   "outputs": [
    {
     "data": {
      "text/plain": [
       "6"
      ]
     },
     "execution_count": 37,
     "metadata": {},
     "output_type": "execute_result"
    }
   ],
   "source": [
    "fdist['morgen']"
   ]
  },
  {
   "cell_type": "code",
   "execution_count": 40,
   "id": "2da229d5",
   "metadata": {
    "collapsed": false
   },
   "outputs": [
    {
     "data": {
      "text/plain": [
       "[<matplotlib.lines.Line2D at 0x1e532fd0>]"
      ]
     },
     "execution_count": 40,
     "metadata": {},
     "output_type": "execute_result"
    },
    {
     "data": {
      "image/png": "[encoded data removed]"
     },
     "metadata": {},
     "output_type": "display_data"
    }
   ],
   "source": [
    "plot(list(fdist._cumulative_frequencies()))"
   ]
  },
  {
   "cell_type": "code",
   "execution_count": null,
   "id": "319f687c",
   "metadata": {
    "collapsed": false
   },
   "outputs": [],
   "source": []
  }
 ],
 "metadata": {},
 "nbformat": 4,
 "nbformat_minor": 5
}
