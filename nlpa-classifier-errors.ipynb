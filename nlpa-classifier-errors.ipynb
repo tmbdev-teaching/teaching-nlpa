{
 "cells": [
  {
   "cell_type": "code",
   "execution_count": 1,
   "id": "8f2868af",
   "metadata": {
    "collapsed": false
   },
   "outputs": [],
   "source": [
    "import nltk\n",
    "from nltk.corpus import names\n",
    "from pylab import *\n",
    "import random as pyrandom"
   ]
  },
  {
   "cell_type": "markdown",
   "id": "1de0c279",
   "metadata": {},
   "source": [
    "# A Simple Classifier"
   ]
  },
  {
   "cell_type": "code",
   "execution_count": 2,
   "id": "cfb7ddeb",
   "metadata": {
    "collapsed": false
   },
   "outputs": [
    {
     "data": {
      "text/plain": [
       "{'first_letter': 'P', 'last_letter': 'a', 'length': 5}"
      ]
     },
     "execution_count": 2,
     "metadata": {},
     "output_type": "execute_result"
    }
   ],
   "source": [
    "def gender_features(w):\n",
    "    return dict(last_letter=w[-1],\n",
    "                first_letter=w[0],\n",
    "                length=len(w))\n",
    "gender_features(\"Petra\")"
   ]
  },
  {
   "cell_type": "code",
   "execution_count": 4,
   "id": "ffd17f1f",
   "metadata": {
    "collapsed": false
   },
   "outputs": [],
   "source": [
    "male = [(name,'male') for name in names.words('male.txt')]\n",
    "female = [(name,'female') for name in names.words('female.txt')]\n",
    "nlist = male+female\n",
    "pyrandom.shuffle(nlist)\n",
    "featuresets = [(gender_features(n),g) for n,g in nlist]\n",
    "training_set = featuresets[500:]\n",
    "test_set = featuresets[:500]"
   ]
  },
  {
   "cell_type": "code",
   "execution_count": 5,
   "id": "4505a570",
   "metadata": {
    "collapsed": false
   },
   "outputs": [],
   "source": [
    "classifier = nltk.NaiveBayesClassifier.train(training_set)"
   ]
  },
  {
   "cell_type": "markdown",
   "id": "4fccae98",
   "metadata": {},
   "source": [
    "# Accuracy and Error Rate"
   ]
  },
  {
   "cell_type": "code",
   "execution_count": 14,
   "id": "eda216dd",
   "metadata": {
    "collapsed": false
   },
   "outputs": [
    {
     "data": {
      "text/plain": [
       "0.788"
      ]
     },
     "execution_count": 14,
     "metadata": {},
     "output_type": "execute_result"
    }
   ],
   "source": [
    "nltk.classify.accuracy(classifier,test_set)"
   ]
  },
  {
   "cell_type": "code",
   "execution_count": 15,
   "id": "6fc7782c",
   "metadata": {
    "collapsed": false
   },
   "outputs": [],
   "source": [
    "truth = [s[1] for s in test_set]\n",
    "predicted = classifier.batch_classify([s[0] for s in test_set])"
   ]
  },
  {
   "cell_type": "code",
   "execution_count": 17,
   "id": "c327704c",
   "metadata": {
    "collapsed": false
   },
   "outputs": [
    {
     "data": {
      "text/plain": [
       "0.788"
      ]
     },
     "execution_count": 17,
     "metadata": {},
     "output_type": "execute_result"
    }
   ],
   "source": [
    "nltk.metrics.accuracy(truth,predicted)"
   ]
  },
  {
   "cell_type": "code",
   "execution_count": 20,
   "id": "2a1e3214",
   "metadata": {
    "collapsed": false
   },
   "outputs": [
    {
     "data": {
      "text/plain": [
       "0.78800000000000003"
      ]
     },
     "execution_count": 20,
     "metadata": {},
     "output_type": "execute_result"
    }
   ],
   "source": [
    "sum(array(truth)==array(predicted))*1.0/len(truth)"
   ]
  },
  {
   "cell_type": "code",
   "execution_count": 28,
   "id": "e4abdbf5",
   "metadata": {
    "collapsed": false
   },
   "outputs": [
    {
     "data": {
      "text/plain": [
       "0.21199999999999999"
      ]
     },
     "execution_count": 28,
     "metadata": {},
     "output_type": "execute_result"
    }
   ],
   "source": [
    "sum(array(truth)!=array(predicted))*1.0/len(truth)"
   ]
  },
  {
   "cell_type": "markdown",
   "id": "88935e14",
   "metadata": {},
   "source": [
    "# Confusion Matrix"
   ]
  },
  {
   "cell_type": "code",
   "execution_count": 34,
   "id": "3f701142",
   "metadata": {
    "collapsed": false
   },
   "outputs": [],
   "source": [
    "cm = nltk.ConfusionMatrix(truth,predicted)"
   ]
  },
  {
   "cell_type": "code",
   "execution_count": 36,
   "id": "074583fb",
   "metadata": {
    "collapsed": false
   },
   "outputs": [
    {
     "name": "stdout",
     "output_type": "stream",
     "text": [
      "       |   f     |\n",
      "       |   e     |\n",
      "       |   m   m |\n",
      "       |   a   a |\n",
      "       |   l   l |\n",
      "       |   e   e |\n",
      "-------+---------+\n",
      "female |<261> 48 |\n",
      "  male |  58<133>|\n",
      "-------+---------+\n",
      "(row = reference; col = test)\n",
      "\n"
     ]
    }
   ],
   "source": [
    "print cm.pp()"
   ]
  },
  {
   "cell_type": "markdown",
   "id": "77cb502a",
   "metadata": {},
   "source": [
    "Usually, we use the confusion matrix in multi-class problems to see which classes are particularly frequently confused.\n",
    "\n",
    "However, in a binary classification problem, it also gives us the four categories of error. If we think of the above problem as a \"female detector\", then...\n",
    "\n",
    "- true positives = 261\n",
    "- true negatives = 133\n",
    "- false positives = 48\n",
    "- false negatives = 58"
   ]
  },
  {
   "cell_type": "markdown",
   "id": "6c0cb6cb",
   "metadata": {},
   "source": [
    "# Precision and Recall"
   ]
  },
  {
   "cell_type": "markdown",
   "id": "c5e2756b",
   "metadata": {},
   "source": [
    "Precision and recall is a way of thinking about errors in terms of \"retrieved items\".\n",
    "\n",
    "Think of the classification problem as the problem of \"retrieving all the records that are female\".\n",
    "Then we define:\n",
    "\n",
    "- precision = fraction of retrieved documents that were relevant = TP / (TP + FP)\n",
    "- recall = fraction of all positives that were actually retrieved = TP / (TP + FN)\n"
   ]
  },
  {
   "cell_type": "code",
   "execution_count": 25,
   "id": "5b800b1b",
   "metadata": {
    "collapsed": false
   },
   "outputs": [],
   "source": [
    "pdocs = set(find(array(predicted)==\"female\"))\n",
    "tdocs = set(find(array(truth)==\"female\"))"
   ]
  },
  {
   "cell_type": "code",
   "execution_count": 26,
   "id": "8086d2d9",
   "metadata": {
    "collapsed": false
   },
   "outputs": [
    {
     "data": {
      "text/plain": [
       "0.8181818181818182"
      ]
     },
     "execution_count": 26,
     "metadata": {},
     "output_type": "execute_result"
    }
   ],
   "source": [
    "nltk.metrics.precision(tdocs,pdocs)"
   ]
  },
  {
   "cell_type": "code",
   "execution_count": 27,
   "id": "b357303b",
   "metadata": {
    "collapsed": false
   },
   "outputs": [
    {
     "data": {
      "text/plain": [
       "0.8446601941747572"
      ]
     },
     "execution_count": 27,
     "metadata": {},
     "output_type": "execute_result"
    }
   ],
   "source": [
    "nltk.metrics.recall(tdocs,pdocs)"
   ]
  },
  {
   "cell_type": "code",
   "execution_count": 30,
   "id": "195fbd65",
   "metadata": {
    "collapsed": false
   },
   "outputs": [
    {
     "data": {
      "text/plain": [
       "0.8312101910828026"
      ]
     },
     "execution_count": 30,
     "metadata": {},
     "output_type": "execute_result"
    }
   ],
   "source": [
    "nltk.metrics.f_measure(tdocs,pdocs)"
   ]
  },
  {
   "cell_type": "code",
   "execution_count": 32,
   "id": "5a7c41cb",
   "metadata": {
    "collapsed": false
   },
   "outputs": [
    {
     "data": {
      "text/plain": [
       "0.8207547169811322"
      ]
     },
     "execution_count": 32,
     "metadata": {},
     "output_type": "execute_result"
    }
   ],
   "source": [
    "nltk.metrics.f_measure(tdocs,pdocs,alpha=0.9)"
   ]
  },
  {
   "cell_type": "markdown",
   "id": "05c42996",
   "metadata": {},
   "source": [
    "# ROC Curve"
   ]
  },
  {
   "cell_type": "code",
   "execution_count": 47,
   "id": "318382da",
   "metadata": {
    "collapsed": false
   },
   "outputs": [
    {
     "data": {
      "text/plain": [
       "66"
      ]
     },
     "execution_count": 47,
     "metadata": {},
     "output_type": "execute_result"
    }
   ],
   "source": [
    "features = [t[0].items() for t in training_set]\n",
    "features = list(sorted(set([x for l in features for x in l])))\n",
    "len(features)"
   ]
  },
  {
   "cell_type": "code",
   "execution_count": 49,
   "id": "9912c045",
   "metadata": {
    "collapsed": false
   },
   "outputs": [],
   "source": [
    "xs = zeros((len(training_set),len(features)))\n",
    "ys = zeros(len(training_set))\n",
    "for i,(f,c) in enumerate(training_set):\n",
    "    for p in f.items():\n",
    "        xs[i,features.index(p)] = 1.0\n",
    "        ys[i] = (c==\"female\")"
   ]
  },
  {
   "cell_type": "code",
   "execution_count": 50,
   "id": "d053507a",
   "metadata": {
    "collapsed": false
   },
   "outputs": [
    {
     "data": {
      "text/plain": [
       "LogisticRegression(C=1.0, class_weight=None, dual=False, fit_intercept=True,\n",
       "          intercept_scaling=1, penalty='l2', tol=0.0001)"
      ]
     },
     "execution_count": 50,
     "metadata": {},
     "output_type": "execute_result"
    }
   ],
   "source": [
    "from sklearn.linear_model import LogisticRegression\n",
    "lr = LogisticRegression()\n",
    "lr.fit(xs,ys)"
   ]
  },
  {
   "cell_type": "code",
   "execution_count": 58,
   "id": "190718e7",
   "metadata": {
    "collapsed": false
   },
   "outputs": [],
   "source": [
    "test_xs = zeros((len(test_set),len(features)))\n",
    "test_ys = zeros(len(test_set))\n",
    "for i,(f,c) in enumerate(test_set):\n",
    "    for p in f.items():\n",
    "        test_xs[i,features.index(p)] = 1.0\n",
    "        test_ys[i] = (c==\"female\")"
   ]
  },
  {
   "cell_type": "code",
   "execution_count": 62,
   "id": "92cfe851",
   "metadata": {
    "collapsed": false
   },
   "outputs": [
    {
     "data": {
      "text/plain": [
       "0.218"
      ]
     },
     "execution_count": 62,
     "metadata": {},
     "output_type": "execute_result"
    }
   ],
   "source": [
    "pred = lr.predict(test_xs)\n",
    "sum(pred!=test_ys)*1.0/len(test_ys)"
   ]
  },
  {
   "cell_type": "code",
   "execution_count": 69,
   "id": "91a73260",
   "metadata": {
    "collapsed": false
   },
   "outputs": [],
   "source": [
    "def tpfp(truth,pred):\n",
    "    tp = sum((truth>.5)*(pred>.5))*1.0/len(truth)\n",
    "    fp = sum((truth<.5)*(pred>.5))*1.0/len(truth)\n",
    "    return tp,fp"
   ]
  },
  {
   "cell_type": "code",
   "execution_count": 70,
   "id": "1af8a628",
   "metadata": {
    "collapsed": false
   },
   "outputs": [],
   "source": [
    "truth = test_ys\n",
    "prob = lr.predict_proba(test_xs)[:,1]"
   ]
  },
  {
   "cell_type": "code",
   "execution_count": 71,
   "id": "a0f99be6",
   "metadata": {
    "collapsed": false
   },
   "outputs": [],
   "source": [
    "roc = [tpfp(truth,prob>threshold) for threshold in linspace(0,1.0,100)]\n",
    "    "
   ]
  },
  {
   "cell_type": "code",
   "execution_count": 74,
   "id": "4b59e3d9",
   "metadata": {
    "collapsed": false
   },
   "outputs": [
    {
     "data": {
      "text/plain": [
       "<matplotlib.text.Text at 0x8c9a8dd0>"
      ]
     },
     "execution_count": 74,
     "metadata": {},
     "output_type": "execute_result"
    },
    {
     "data": {
      "image/png": "[encoded data removed]"
     },
     "metadata": {},
     "output_type": "display_data"
    }
   ],
   "source": [
    "tps,fps = zip(*roc)\n",
    "plot(fps,tps)\n",
    "xlabel(\"FP\")\n",
    "ylabel(\"TP\")"
   ]
  },
  {
   "cell_type": "markdown",
   "id": "a71f2470",
   "metadata": {},
   "source": [
    "# Cross-Validation"
   ]
  },
  {
   "cell_type": "code",
   "execution_count": 80,
   "id": "fb577710",
   "metadata": {
    "collapsed": false
   },
   "outputs": [
    {
     "name": "stdout",
     "output_type": "stream",
     "text": [
      "0 0.788\n",
      "500 0.778\n",
      "1000 0.782\n",
      "1500 0.778\n",
      "2000 0.79\n",
      "2500 0.786\n",
      "3000 0.77\n",
      "3500 0.78\n",
      "4000 0.764\n",
      "4500 0.802\n",
      "5000 0.778\n",
      "5500 0.768\n",
      "6000 0.722\n",
      "6500 0.804\n",
      "7000 0.744\n",
      "7500 0.783783783784\n",
      "0.776111486486\n"
     ]
    }
   ],
   "source": [
    "featuresets = [(gender_features(n),g) for n,g in nlist]\n",
    "accuracies = []\n",
    "for start in range(0,len(featuresets),500):\n",
    "    training_set = featuresets[:start]+featuresets[start+500:]\n",
    "    test_set = featuresets[start:start+500]\n",
    "    classifier = nltk.NaiveBayesClassifier.train(training_set)\n",
    "    a = nltk.classify.accuracy(classifier,test_set)\n",
    "    accuracies.append(a)\n",
    "    print start,a\n",
    "print mean(accuracies)"
   ]
  },
  {
   "cell_type": "code",
   "execution_count": 76,
   "id": "e4ebede2",
   "metadata": {
    "collapsed": false
   },
   "outputs": [
    {
     "data": {
      "text/plain": [
       "7944"
      ]
     },
     "execution_count": 76,
     "metadata": {},
     "output_type": "execute_result"
    }
   ],
   "source": [
    "len(featuresets)"
   ]
  },
  {
   "cell_type": "markdown",
   "id": "23668149",
   "metadata": {},
   "source": [
    "# Resampling Estimates"
   ]
  },
  {
   "cell_type": "code",
   "execution_count": 84,
   "id": "3cb5912e",
   "metadata": {
    "collapsed": false
   },
   "outputs": [
    {
     "name": "stdout",
     "output_type": "stream",
     "text": [
      "0.7841\n"
     ]
    }
   ],
   "source": [
    "featuresets = [(gender_features(n),g) for n,g in nlist]\n",
    "accuracies = []\n",
    "gold_set = featuresets[500:]\n",
    "test_set = featuresets[:500]\n",
    "for trial in range(20):\n",
    "    training_set = [pyrandom.choice(gold_set) for i in range(len(gold_set))]\n",
    "    classifier = nltk.NaiveBayesClassifier.train(training_set)\n",
    "    a = nltk.classify.accuracy(classifier,test_set)\n",
    "    accuracies.append(a)\n",
    "print mean(accuracies)"
   ]
  },
  {
   "cell_type": "code",
   "execution_count": 85,
   "id": "6c66417e",
   "metadata": {
    "collapsed": false
   },
   "outputs": [
    {
     "data": {
      "text/plain": [
       "1"
      ]
     },
     "execution_count": 85,
     "metadata": {},
     "output_type": "execute_result"
    }
   ],
   "source": [
    "1"
   ]
  },
  {
   "cell_type": "code",
   "execution_count": null,
   "id": "42bd1cc3",
   "metadata": {
    "collapsed": false
   },
   "outputs": [],
   "source": []
  }
 ],
 "metadata": {},
 "nbformat": 4,
 "nbformat_minor": 5
}
