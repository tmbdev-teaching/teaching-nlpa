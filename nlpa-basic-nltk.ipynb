{
 "cells": [
  {
   "cell_type": "code",
   "execution_count": 95,
   "id": "bcbb22dd",
   "metadata": {
    "collapsed": false
   },
   "outputs": [],
   "source": [
    "import sys\n",
    "#reload(sys)\n",
    "#sys.setdefaultencoding(\"utf-8\")"
   ]
  },
  {
   "cell_type": "markdown",
   "id": "78573ae0",
   "metadata": {},
   "source": [
    "# Basic NLTK Usage"
   ]
  },
  {
   "cell_type": "code",
   "execution_count": 96,
   "id": "dfd447c9",
   "metadata": {
    "collapsed": false
   },
   "outputs": [],
   "source": [
    "import nltk"
   ]
  },
  {
   "cell_type": "code",
   "execution_count": 97,
   "id": "039d542c",
   "metadata": {
    "collapsed": false
   },
   "outputs": [
    {
     "name": "stdout",
     "output_type": "stream",
     "text": [
      "showing info http://nltk.googlecode.com/svn/trunk/nltk_data/index.xml\n"
     ]
    },
    {
     "data": {
      "text/plain": [
       "True"
      ]
     },
     "execution_count": 97,
     "metadata": {},
     "output_type": "execute_result"
    }
   ],
   "source": [
    "nltk.download()"
   ]
  },
  {
   "cell_type": "code",
   "execution_count": 98,
   "id": "071813fa",
   "metadata": {
    "collapsed": false
   },
   "outputs": [],
   "source": [
    "from nltk.book import *"
   ]
  },
  {
   "cell_type": "markdown",
   "id": "a66d24ee",
   "metadata": {},
   "source": [
    "# Concordances"
   ]
  },
  {
   "cell_type": "markdown",
   "id": "071b14fe",
   "metadata": {},
   "source": [
    "Wikipedia:\n",
    "> A concordance is an alphabetical list of the principal words used in a \n",
    "> book or body of work, with their immediate contexts. Because of the time, \n",
    "> difficulty, and expense involved in creating a concordance in the \n",
    "> pre-computer era, only works of special importance, such as the Vedas,\n",
    "> Bible, Qur'an or the works of Shakespeare, had concordances prepared for them."
   ]
  },
  {
   "cell_type": "code",
   "execution_count": 99,
   "id": "ad2dd745",
   "metadata": {
    "collapsed": false
   },
   "outputs": [
    {
     "name": "stdout",
     "output_type": "stream",
     "text": [
      "<Text: Moby Dick by Herman Melville 1851>\n",
      "Displaying 11 of 11 matches:\n",
      "ong the former , one was of a most monstrous size . ... This came towards us , \n",
      "ON OF THE PSALMS . \" Touching that monstrous bulk of the whale or ork we have r\n",
      "ll over with a heathenish array of monstrous clubs and spears . Some were thick\n",
      "d as you gazed , and wondered what monstrous cannibal and savage could ever hav\n",
      "that has survived the flood ; most monstrous and most mountainous ! That Himmal\n",
      "they might scout at Moby Dick as a monstrous fable , or still worse and more de\n",
      "th of Radney .'\" CHAPTER 55 Of the monstrous Pictures of Whales . I shall ere l\n",
      "ing Scenes . In connexion with the monstrous pictures of whales , I am strongly\n",
      "ere to enter upon those still more monstrous stories of them which are to be fo\n",
      "ght have been rummaged out of this monstrous cabinet there is no telling . But \n",
      "of Whale - Bones ; for Whales of a monstrous size are oftentimes cast up dead u\n"
     ]
    }
   ],
   "source": [
    "print text1\n",
    "text1.concordance(\"monstrous\")"
   ]
  },
  {
   "cell_type": "code",
   "execution_count": 100,
   "id": "14ddf9da",
   "metadata": {
    "collapsed": false
   },
   "outputs": [
    {
     "name": "stdout",
     "output_type": "stream",
     "text": [
      "<Text: The Book of Genesis>\n",
      "Displaying 25 of 67 matches:\n",
      " unto Enoch was born Irad : and Irad begat Mehujael : and Mehujael begat Methus\n",
      "d Irad begat Mehujael : and Mehujael begat Methusa and Methusael begat Lamech .\n",
      "Mehujael begat Methusa and Methusael begat Lamech . And Lamech took unto him tw\n",
      "ed an hundred and thirty years , and begat a son in his own likeness , and afte\n",
      "n Seth were eight hundred yea and he begat sons and daughters : And all the day\n",
      "ived an hundred and five years , and begat Enos : And Seth lived after he begat\n",
      "begat Enos : And Seth lived after he begat Enos eight hundred and seven years ,\n",
      " eight hundred and seven years , and begat sons and daughte And all the days of\n",
      " . And Enos lived ninety years , and begat Cainan : And Enos lived after he beg\n",
      "gat Cainan : And Enos lived after he begat Cainan eight hundred and fifteen yea\n",
      "ight hundred and fifteen years , and begat sons and daughte And all the days of\n",
      ". And Cainan lived seventy years and begat Mahalaleel : And Cainan lived after \n",
      "halaleel : And Cainan lived after he begat Mahalaleel eight hundred and forty y\n",
      " eight hundred and forty years , and begat sons and daughte And all the days of\n",
      "eel lived sixty and five years , and begat Jared : And Mahalaleel lived after h\n",
      "ared : And Mahalaleel lived after he begat Jared eight hundred and thirty years\n",
      "eight hundred and thirty years , and begat sons and daughte And all the days of\n",
      "hundred sixty and two years , and he begat Eno And Jared lived after he begat E\n",
      "e begat Eno And Jared lived after he begat Enoch eight hundred years , and bega\n",
      "egat Enoch eight hundred years , and begat sons and daughte And all the days of\n",
      "och lived sixty and five years , and begat Methuselah : And Enoch walked with G\n",
      ": And Enoch walked with God after he begat Methuselah three hundred years , and\n",
      "Methuselah three hundred years , and begat sons and daughte And all the days of\n",
      "hundred eighty and seven years , and begat Lamech . And Methuselah lived after \n",
      "mech . And Methuselah lived after he begat Lamech seven hundred eighty and two \n"
     ]
    }
   ],
   "source": [
    "print text3\n",
    "text3.concordance(\"begat\")"
   ]
  },
  {
   "cell_type": "markdown",
   "id": "1639d199",
   "metadata": {},
   "source": [
    "# Contexts"
   ]
  },
  {
   "cell_type": "markdown",
   "id": "c2efbbc3",
   "metadata": {},
   "source": [
    "NLTK can perform contextual analyses.  Here, it looks for contexts of the word \"monstrous\" (\"most monstrous size\"), and then looks for other words that appear in such a context (\"most ____ size\")."
   ]
  },
  {
   "cell_type": "code",
   "execution_count": 101,
   "id": "36aad773",
   "metadata": {
    "collapsed": false
   },
   "outputs": [
    {
     "name": "stdout",
     "output_type": "stream",
     "text": [
      "<Text: Moby Dick by Herman Melville 1851>\n",
      "abundant candid careful christian contemptible curious delightfully\n",
      "determined doleful domineering exasperate fearless few gamesome\n",
      "horrible impalpable imperial lamentable lazy loving\n"
     ]
    }
   ],
   "source": [
    "print text1\n",
    "text1.similar(\"monstrous\")"
   ]
  },
  {
   "cell_type": "code",
   "execution_count": 102,
   "id": "cb2b46bf",
   "metadata": {
    "collapsed": false
   },
   "outputs": [
    {
     "name": "stdout",
     "output_type": "stream",
     "text": [
      "<Text: Sense and Sensibility by Jane Austen 1811>\n",
      "very exceedingly heartily so a amazingly as extremely good great\n",
      "remarkably sweet vast\n"
     ]
    }
   ],
   "source": [
    "print text2\n",
    "text2.similar(\"monstrous\")"
   ]
  },
  {
   "cell_type": "code",
   "execution_count": 103,
   "id": "7f88ae7f",
   "metadata": {
    "collapsed": false
   },
   "outputs": [
    {
     "name": "stdout",
     "output_type": "stream",
     "text": [
      "<Text: Sense and Sensibility by Jane Austen 1811>\n",
      "a_lucky a_pretty am_glad be_glad is_pretty\n"
     ]
    }
   ],
   "source": [
    "print text2\n",
    "text2.common_contexts([\"monstrous\",\"very\"])"
   ]
  },
  {
   "cell_type": "code",
   "execution_count": 171,
   "id": "b7c1bc2b",
   "metadata": {
    "collapsed": false
   },
   "outputs": [
    {
     "name": "stdout",
     "output_type": "stream",
     "text": [
      "<Text: Moby Dick by Herman Melville 1851>\n",
      "most_and\n"
     ]
    }
   ],
   "source": [
    "print text1\n",
    "text1.common_contexts([\"monstrous\",\"curious\"])"
   ]
  },
  {
   "cell_type": "markdown",
   "id": "89d96848",
   "metadata": {},
   "source": [
    "# Dispersion Plots"
   ]
  },
  {
   "cell_type": "markdown",
   "id": "62bfd996",
   "metadata": {},
   "source": [
    "A *dispersion plot* is just a simple indication of where a word occurs within\n",
    "a corpus.  Actually, you'll find these even as indicators in scroll bars these days."
   ]
  },
  {
   "cell_type": "code",
   "execution_count": 188,
   "id": "bf15f6a6",
   "metadata": {
    "collapsed": false
   },
   "outputs": [
    {
     "name": "stdout",
     "output_type": "stream",
     "text": [
      "<Text: Inaugural Address Corpus>\n"
     ]
    },
    {
     "data": {
      "image/png": "[encoded data removed]"
     },
     "metadata": {},
     "output_type": "display_data"
    }
   ],
   "source": [
    "print text4\n",
    "figsize(10,6)\n",
    "text4.dispersion_plot([\"citizens\",\"democracy\",\"freedom\",\"liberty\",\"duties\",\"America\",\"slavery\",\"women\"])"
   ]
  },
  {
   "cell_type": "markdown",
   "id": "188ce9eb",
   "metadata": {},
   "source": [
    "# N-Gram Text Generation"
   ]
  },
  {
   "cell_type": "markdown",
   "id": "12aee568",
   "metadata": {},
   "source": [
    "For n-gram text generation, we compute estimates of the conditional\n",
    "probabilities $P(x_n|x_{n-1}...x_1)$ and then sample from this distribution."
   ]
  },
  {
   "cell_type": "code",
   "execution_count": 154,
   "id": "b3f41d7d",
   "metadata": {
    "collapsed": false
   },
   "outputs": [
    {
     "name": "stdout",
     "output_type": "stream",
     "text": [
      "<Text: The Book of Genesis>\n",
      "In the six hundredth and first year , and the name of the garden ; and\n",
      "he was at Chezib , when Laban heard the voice of the gard But of the\n",
      "ground made the firmament from the way to come in unto them , Know of\n",
      "a month . And Onan knew that they might dwell together ; and they\n",
      "joined battle with them , What profit is it that compasseth the whole\n",
      "age of Jacob answered Shechem and Hamor his father , an adder in the\n",
      "land shall be called any more Jacob , went in male and\n"
     ]
    }
   ],
   "source": [
    "print text3\n",
    "text3.generate()"
   ]
  },
  {
   "cell_type": "markdown",
   "id": "6c9c67e9",
   "metadata": {},
   "source": [
    "# Basic Text Access"
   ]
  },
  {
   "cell_type": "markdown",
   "id": "4441cbe9",
   "metadata": {},
   "source": [
    "Texts in NLTK are represented as Text objects.\n",
    "Text objects are a lot like \"lists\" of words or tokens."
   ]
  },
  {
   "cell_type": "code",
   "execution_count": 106,
   "id": "7d3dc116",
   "metadata": {
    "collapsed": false
   },
   "outputs": [
    {
     "name": "stdout",
     "output_type": "stream",
     "text": [
      "['Fellow', '-', 'Citizens', 'of', 'the', 'Senate', 'and', 'of', 'the', 'House', 'of', 'Representatives', ':', 'Among', 'the', 'vicissitudes', 'incident', 'to', 'life', 'no', 'event', 'could', 'have', 'filled', 'me', 'with', 'greater', 'anxieties', 'than', 'that']\n"
     ]
    }
   ],
   "source": [
    "print list(text4)[:30]"
   ]
  },
  {
   "cell_type": "code",
   "execution_count": 107,
   "id": "dec34241",
   "metadata": {
    "collapsed": false
   },
   "outputs": [
    {
     "data": {
      "text/plain": [
       "44764"
      ]
     },
     "execution_count": 107,
     "metadata": {},
     "output_type": "execute_result"
    }
   ],
   "source": [
    "len(text3)"
   ]
  },
  {
   "cell_type": "code",
   "execution_count": 108,
   "id": "d214f025",
   "metadata": {
    "collapsed": false
   },
   "outputs": [
    {
     "name": "stdout",
     "output_type": "stream",
     "text": [
      "[u'!', u\"'\", u'(', u')', u',', u',)', u'.', u'.)', u':', u';', u';)', u'?', u'?)', u'A', u'Abel', u'Abelmizraim', u'Abidah', u'Abide', u'Abimael', u'Abimelech', u'Abr', u'Abrah', u'Abraham', u'Abram', u'Accad', u'Achbor', u'Adah', u'Adam', u'Adbeel', u'Admah', u'Adullamite', u'After', u'Aholibamah', u'Ahuzzath', u'Ajah', u'Akan', u'All', u'Allonbachuth', u'Almighty', u'Almodad', u'Also', u'Alvah', u'Alvan', u'Am', u'Amal', u'Amalek', u'Amalekites', u'Ammon', u'Amorite', u'Amorites', u'Amraphel', u'An', u'Anah', u'Anamim', u'And', u'Aner', u'Angel', u'Appoint', u'Aram', u'Aran', u'Ararat', u'Arbah', u'Ard', u'Are', u'Areli', u'Arioch', u'Arise', u'Arkite', u'Arodi', u'Arphaxad', u'Art', u'Arvadite', u'As', u'Asenath', u'Ashbel', u'Asher', u'Ashkenaz', u'Ashteroth', u'Ask', u'Asshur', u'Asshurim', u'Assyr', u'Assyria', u'At', u'Atad', u'Avith', u'Baalhanan', u'Babel', u'Bashemath', u'Be', u'Because', u'Becher', u'Bedad', u'Beeri', u'Beerlahairoi', u'Beersheba', u'Behold', u'Bela', u'Belah', u'Benam']\n"
     ]
    }
   ],
   "source": [
    "print sorted(set(text3))[:100]"
   ]
  },
  {
   "cell_type": "code",
   "execution_count": 109,
   "id": "1b3dc83b",
   "metadata": {
    "collapsed": false
   },
   "outputs": [
    {
     "data": {
      "text/plain": [
       "16.050197203298673"
      ]
     },
     "execution_count": 109,
     "metadata": {},
     "output_type": "execute_result"
    }
   ],
   "source": [
    "len(text3)*1.0/len(set(text3))"
   ]
  },
  {
   "cell_type": "code",
   "execution_count": 110,
   "id": "d3790908",
   "metadata": {
    "collapsed": false
   },
   "outputs": [
    {
     "data": {
      "text/plain": [
       "5"
      ]
     },
     "execution_count": 110,
     "metadata": {},
     "output_type": "execute_result"
    }
   ],
   "source": [
    "text3.count(\"smote\")"
   ]
  },
  {
   "cell_type": "code",
   "execution_count": 111,
   "id": "98429ebc",
   "metadata": {
    "collapsed": false
   },
   "outputs": [
    {
     "data": {
      "text/plain": [
       "['Call', 'me', 'Ishmael', '.']"
      ]
     },
     "execution_count": 111,
     "metadata": {},
     "output_type": "execute_result"
    }
   ],
   "source": [
    "sent1"
   ]
  },
  {
   "cell_type": "code",
   "execution_count": 112,
   "id": "c33a67a5",
   "metadata": {
    "collapsed": false
   },
   "outputs": [
    {
     "data": {
      "text/plain": [
       "['and', 'to', 'teach', 'them', 'by', 'what', 'name', 'a', 'whale', '-']"
      ]
     },
     "execution_count": 112,
     "metadata": {},
     "output_type": "execute_result"
    }
   ],
   "source": [
    "text1[100:110]"
   ]
  },
  {
   "cell_type": "code",
   "execution_count": 113,
   "id": "2f6d62de",
   "metadata": {
    "collapsed": false
   },
   "outputs": [],
   "source": [
    "from nltk import *"
   ]
  },
  {
   "cell_type": "markdown",
   "id": "b5e853ff",
   "metadata": {},
   "source": [
    "# Frequency Distributions"
   ]
  },
  {
   "cell_type": "markdown",
   "id": "f3eed3b5",
   "metadata": {},
   "source": [
    "Frequency distribution (FreqDist) are histograms or counts of the number of words in a text."
   ]
  },
  {
   "cell_type": "code",
   "execution_count": 114,
   "id": "8dea7798",
   "metadata": {
    "collapsed": false
   },
   "outputs": [],
   "source": [
    "fdist = FreqDist(text1)"
   ]
  },
  {
   "cell_type": "code",
   "execution_count": 115,
   "id": "bb475305",
   "metadata": {
    "collapsed": false
   },
   "outputs": [
    {
     "data": {
      "text/plain": [
       "471"
      ]
     },
     "execution_count": 115,
     "metadata": {},
     "output_type": "execute_result"
    }
   ],
   "source": [
    "fdist['them']"
   ]
  },
  {
   "cell_type": "code",
   "execution_count": 116,
   "id": "9765806c",
   "metadata": {
    "collapsed": false
   },
   "outputs": [
    {
     "data": {
      "text/plain": [
       "[<matplotlib.lines.Line2D at 0x2497b390>]"
      ]
     },
     "execution_count": 116,
     "metadata": {},
     "output_type": "execute_result"
    },
    {
     "data": {
      "image/png": "[encoded data removed]"
     },
     "metadata": {},
     "output_type": "display_data"
    }
   ],
   "source": [
    "plot(list(fdist._cumulative_frequencies()))"
   ]
  },
  {
   "cell_type": "code",
   "execution_count": 117,
   "id": "18891dcf",
   "metadata": {
    "collapsed": false
   },
   "outputs": [],
   "source": [
    "vocabulary = fdist.keys()"
   ]
  },
  {
   "cell_type": "code",
   "execution_count": 118,
   "id": "6bc573d6",
   "metadata": {
    "collapsed": false
   },
   "outputs": [
    {
     "name": "stdout",
     "output_type": "stream",
     "text": [
      "[',', 'the', '.', 'of', 'and', 'a', 'to', ';', 'in', 'that', \"'\", '-', 'his', 'it', 'I', 's', 'is', 'he', 'with', 'was', 'as', '\"', 'all', 'for', 'this', '!', 'at', 'by', 'but', 'not', '--', 'him', 'from', 'be', 'on', 'so', 'whale', 'one', 'you', 'had', 'have', 'there', 'But', 'or', 'were', 'now', 'which', '?', 'me', 'like']\n"
     ]
    }
   ],
   "source": [
    "print vocabulary[:50]"
   ]
  },
  {
   "cell_type": "code",
   "execution_count": 119,
   "id": "dde9f88b",
   "metadata": {
    "collapsed": false
   },
   "outputs": [
    {
     "name": "stdout",
     "output_type": "stream",
     "text": [
      "sent1: Call me Ishmael .\n",
      "sent2: The family of Dashwood had long been settled in Sussex .\n",
      "sent3: In the beginning God created the heaven and the earth .\n",
      "sent4: Fellow - Citizens of the Senate and of the House of Representatives :\n",
      "sent5: I have a problem with people PMing me to lol JOIN\n",
      "sent6: SCENE 1 : [ wind ] [ clop clop clop ] KING ARTHUR : Whoa there !\n",
      "sent7: Pierre Vinken , 61 years old , will join the board as a nonexecutive director Nov. 29 .\n",
      "sent8: 25 SEXY MALE , seeks attrac older single lady , for discreet encounters .\n",
      "sent9: THE suburb of Saffron Park lay on the sunset side of London , as red and ragged as a cloud of sunset .\n"
     ]
    }
   ],
   "source": [
    "sents()"
   ]
  },
  {
   "cell_type": "markdown",
   "id": "14ea0f08",
   "metadata": {},
   "source": [
    "# Tokenizers"
   ]
  },
  {
   "cell_type": "markdown",
   "id": "0462a026",
   "metadata": {},
   "source": [
    "Tokenizers somehow split the text into \"tokens\"."
   ]
  },
  {
   "cell_type": "code",
   "execution_count": 120,
   "id": "b1cb07b9",
   "metadata": {
    "collapsed": false
   },
   "outputs": [],
   "source": [
    "s = \"Call me Ishmael. The quick brown fox is sleeping.\""
   ]
  },
  {
   "cell_type": "markdown",
   "id": "801b6298",
   "metadata": {},
   "source": [
    "The `sent_tokenize` function splits a text into sentences."
   ]
  },
  {
   "cell_type": "code",
   "execution_count": 121,
   "id": "2a70c638",
   "metadata": {
    "collapsed": false
   },
   "outputs": [
    {
     "data": {
      "text/plain": [
       "['Call me Ishmael.', 'The quick brown fox is sleeping.']"
      ]
     },
     "execution_count": 121,
     "metadata": {},
     "output_type": "execute_result"
    }
   ],
   "source": [
    "nltk.tokenize.sent_tokenize(s)"
   ]
  },
  {
   "cell_type": "markdown",
   "id": "939095a5",
   "metadata": {},
   "source": [
    "The `word_tokenize` splits a text into words."
   ]
  },
  {
   "cell_type": "code",
   "execution_count": 122,
   "id": "010edb77",
   "metadata": {
    "collapsed": false
   },
   "outputs": [
    {
     "data": {
      "text/plain": [
       "['Call',\n",
       " 'me',\n",
       " 'Ishmael.',\n",
       " 'The',\n",
       " 'quick',\n",
       " 'brown',\n",
       " 'fox',\n",
       " 'is',\n",
       " 'sleeping',\n",
       " '.']"
      ]
     },
     "execution_count": 122,
     "metadata": {},
     "output_type": "execute_result"
    }
   ],
   "source": [
    "nltk.tokenize.word_tokenize(s)"
   ]
  },
  {
   "cell_type": "markdown",
   "id": "c04f58b0",
   "metadata": {},
   "source": [
    "# Lemmatizer"
   ]
  },
  {
   "cell_type": "markdown",
   "id": "99b53b8f",
   "metadata": {},
   "source": [
    "Lemmatizers take words and turn them into _lemmas_ (or _lemmata_), the canonical or dictionary form of a word."
   ]
  },
  {
   "cell_type": "code",
   "execution_count": 127,
   "id": "08fb8a6c",
   "metadata": {
    "collapsed": false
   },
   "outputs": [],
   "source": [
    "from nltk import stem\n",
    "L = stem.WordNetLemmatizer()"
   ]
  },
  {
   "cell_type": "code",
   "execution_count": 128,
   "id": "76efc39c",
   "metadata": {
    "collapsed": false
   },
   "outputs": [
    {
     "data": {
      "text/plain": [
       "'dog'"
      ]
     },
     "execution_count": 128,
     "metadata": {},
     "output_type": "execute_result"
    }
   ],
   "source": [
    "L.lemmatize(\"dogs\")"
   ]
  },
  {
   "cell_type": "code",
   "execution_count": 140,
   "id": "79f1d8cd",
   "metadata": {
    "collapsed": false
   },
   "outputs": [
    {
     "data": {
      "text/plain": [
       "'shop'"
      ]
     },
     "execution_count": 140,
     "metadata": {},
     "output_type": "execute_result"
    }
   ],
   "source": [
    "L.lemmatize(\"shops\")"
   ]
  },
  {
   "cell_type": "code",
   "execution_count": 131,
   "id": "0b41a7e6",
   "metadata": {
    "collapsed": false
   },
   "outputs": [
    {
     "data": {
      "text/plain": [
       "'mouse'"
      ]
     },
     "execution_count": 131,
     "metadata": {},
     "output_type": "execute_result"
    }
   ],
   "source": [
    "L.lemmatize(\"mice\")"
   ]
  },
  {
   "cell_type": "code",
   "execution_count": 142,
   "id": "13d965e4",
   "metadata": {
    "collapsed": false
   },
   "outputs": [
    {
     "data": {
      "text/plain": [
       "'fantasize'"
      ]
     },
     "execution_count": 142,
     "metadata": {},
     "output_type": "execute_result"
    }
   ],
   "source": [
    "L.lemmatize('fantasized','v')"
   ]
  },
  {
   "cell_type": "markdown",
   "id": "f534bf7e",
   "metadata": {},
   "source": [
    "Lemmatization sometimes requires knowledge of the part-of-speech."
   ]
  },
  {
   "cell_type": "code",
   "execution_count": 152,
   "id": "1eedcb6b",
   "metadata": {
    "collapsed": false
   },
   "outputs": [
    {
     "data": {
      "text/plain": [
       "'ha'"
      ]
     },
     "execution_count": 152,
     "metadata": {},
     "output_type": "execute_result"
    }
   ],
   "source": [
    "L.lemmatize('has')"
   ]
  },
  {
   "cell_type": "code",
   "execution_count": 151,
   "id": "8d18c2d7",
   "metadata": {
    "collapsed": false
   },
   "outputs": [
    {
     "data": {
      "text/plain": [
       "'have'"
      ]
     },
     "execution_count": 151,
     "metadata": {},
     "output_type": "execute_result"
    }
   ],
   "source": [
    "L.lemmatize('has','v')"
   ]
  },
  {
   "cell_type": "code",
   "execution_count": 153,
   "id": "356ece9e",
   "metadata": {
    "collapsed": false
   },
   "outputs": [
    {
     "data": {
      "text/plain": [
       "'have'"
      ]
     },
     "execution_count": 153,
     "metadata": {},
     "output_type": "execute_result"
    }
   ],
   "source": [
    "L.lemmatize('having','v')"
   ]
  },
  {
   "cell_type": "markdown",
   "id": "67e26932",
   "metadata": {},
   "source": [
    "# Stemming"
   ]
  },
  {
   "cell_type": "markdown",
   "id": "b7f0b4ad",
   "metadata": {},
   "source": [
    "Stemming reduces inflected forms to a common base form, the _stem_.\n",
    "\n",
    "The stem may or may not be the dictionary form of the word; what matters primarily is that\n",
    "different inflected forms map to the same stem, and different lemmas map to different stems.\n",
    "\n",
    "Stemming is important for information retrieval and web search, as different inflected forms\n",
    "are usually treated the same for query purposes."
   ]
  },
  {
   "cell_type": "code",
   "execution_count": 144,
   "id": "bc798061",
   "metadata": {
    "collapsed": false
   },
   "outputs": [],
   "source": [
    "P = nltk.stem.porter.PorterStemmer()"
   ]
  },
  {
   "cell_type": "code",
   "execution_count": 147,
   "id": "9eadf2c8",
   "metadata": {
    "collapsed": false
   },
   "outputs": [
    {
     "data": {
      "text/plain": [
       "'overdo'"
      ]
     },
     "execution_count": 147,
     "metadata": {},
     "output_type": "execute_result"
    }
   ],
   "source": [
    "P.stem(\"overdoing\")"
   ]
  },
  {
   "cell_type": "code",
   "execution_count": 149,
   "id": "a077e73a",
   "metadata": {
    "collapsed": false
   },
   "outputs": [
    {
     "data": {
      "text/plain": [
       "'bender'"
      ]
     },
     "execution_count": 149,
     "metadata": {},
     "output_type": "execute_result"
    }
   ],
   "source": [
    "P.stem(\"bender\")"
   ]
  },
  {
   "cell_type": "code",
   "execution_count": 150,
   "id": "36697a8f",
   "metadata": {
    "collapsed": false
   },
   "outputs": [
    {
     "data": {
      "text/plain": [
       "'bend'"
      ]
     },
     "execution_count": 150,
     "metadata": {},
     "output_type": "execute_result"
    }
   ],
   "source": [
    "P.stem(\"bending\")"
   ]
  },
  {
   "cell_type": "code",
   "execution_count": 146,
   "id": "1dbd381c",
   "metadata": {
    "collapsed": false
   },
   "outputs": [
    {
     "data": {
      "text/plain": [
       "'commun'"
      ]
     },
     "execution_count": 146,
     "metadata": {},
     "output_type": "execute_result"
    }
   ],
   "source": [
    "P.stem(\"communities\")"
   ]
  },
  {
   "cell_type": "markdown",
   "id": "72ffd73b",
   "metadata": {},
   "source": [
    "# POS Tagging"
   ]
  },
  {
   "cell_type": "markdown",
   "id": "ce519b4c",
   "metadata": {},
   "source": [
    "Recall that part-of-speech is the linguistic category of a word/lexical item.\n",
    "\n",
    "We had nouns, verbs, adjectives, etc.\n",
    "\n",
    "Some of these classes are open (they grow, like nouns), some of them are closed (like prepositions).\n",
    "\n",
    "POS tagging infers the part-of-speech of a word in the context of a sentence.\n",
    "The sentence context is needed, since many words belong to different\n",
    "parts of speech depending on how they are used."
   ]
  },
  {
   "cell_type": "code",
   "execution_count": 155,
   "id": "dd5d4efe",
   "metadata": {
    "collapsed": false
   },
   "outputs": [
    {
     "data": {
      "text/plain": [
       "[('The', 'DT'),\n",
       " ('quick', 'NN'),\n",
       " ('brown', 'NN'),\n",
       " ('fox', 'NN'),\n",
       " ('jumps', 'NNS'),\n",
       " ('over', 'IN'),\n",
       " ('the', 'DT'),\n",
       " ('lazy', 'NN'),\n",
       " ('dogs', 'NNS'),\n",
       " ('.', '.')]"
      ]
     },
     "execution_count": 155,
     "metadata": {},
     "output_type": "execute_result"
    }
   ],
   "source": [
    "pos_tag(word_tokenize(\"The quick brown fox jumps over the lazy dogs.\"))"
   ]
  },
  {
   "cell_type": "code",
   "execution_count": 156,
   "id": "c4e31cf5",
   "metadata": {
    "collapsed": false
   },
   "outputs": [
    {
     "data": {
      "text/plain": [
       "[('I', 'PRP'),\n",
       " ('compare', 'VBP'),\n",
       " ('thee', 'JJ'),\n",
       " ('to', 'TO'),\n",
       " ('a', 'DT'),\n",
       " ('summer', 'NN'),\n",
       " (\"'s\", 'POS'),\n",
       " ('day', 'NN'),\n",
       " ('?', '.')]"
      ]
     },
     "execution_count": 156,
     "metadata": {},
     "output_type": "execute_result"
    }
   ],
   "source": [
    "pos_tag(word_tokenize(\"I compare thee to a summer's day?\"))"
   ]
  },
  {
   "cell_type": "code",
   "execution_count": 157,
   "id": "0d09413c",
   "metadata": {
    "collapsed": false
   },
   "outputs": [
    {
     "name": "stdout",
     "output_type": "stream",
     "text": [
      "PRP: pronoun, personal\n",
      "    hers herself him himself hisself it itself me myself one oneself ours\n",
      "    ourselves ownself self she thee theirs them themselves they thou thy us\n"
     ]
    }
   ],
   "source": [
    "nltk.help.upenn_tagset('PRP')"
   ]
  },
  {
   "cell_type": "code",
   "execution_count": 158,
   "id": "3481438e",
   "metadata": {
    "collapsed": false
   },
   "outputs": [
    {
     "name": "stdout",
     "output_type": "stream",
     "text": [
      "JJ: adjective or numeral, ordinal\n",
      "    third ill-mannered pre-war regrettable oiled calamitous first separable\n",
      "    ectoplasmic battery-powered participatory fourth still-to-be-named\n",
      "    multilingual multi-disciplinary ...\n"
     ]
    }
   ],
   "source": [
    "nltk.help.upenn_tagset(\"JJ\")"
   ]
  },
  {
   "cell_type": "code",
   "execution_count": 161,
   "id": "31bf773a",
   "metadata": {
    "collapsed": false
   },
   "outputs": [
    {
     "data": {
      "text/plain": [
       "[('Buffalo', 'NNP'), ('buffalo', 'VBD'), ('buffalo', 'NN'), ('.', '.')]"
      ]
     },
     "execution_count": 161,
     "metadata": {},
     "output_type": "execute_result"
    }
   ],
   "source": [
    "pos_tag(word_tokenize(\"Buffalo buffalo buffalo.\"))"
   ]
  },
  {
   "cell_type": "markdown",
   "id": "fbec9b65",
   "metadata": {},
   "source": [
    "# Parsing"
   ]
  },
  {
   "cell_type": "markdown",
   "id": "7abca722",
   "metadata": {},
   "source": [
    "Parsing is the process of recovering the phrase structure (a tree structure)\n",
    "of a sentence from the linear sequence of words.\n",
    "\n",
    "Parsing is driven by a grammar.\n",
    "\n",
    "Recall your context-free grammars from the introductory class.\n",
    "\n",
    "Recall _terminals_ and _non-terminals_.\n",
    "\n",
    "Context free grammars are grammars in which there is only a single non-terminal on the left hand\n",
    "side of any production."
   ]
  },
  {
   "cell_type": "code",
   "execution_count": 132,
   "id": "08217c3e",
   "metadata": {
    "collapsed": false
   },
   "outputs": [],
   "source": [
    "tree = nltk.bracket_parse('(NP (Adj old) (NP (N men) (Conj and) (N women)))')\n",
    "tree.draw()   "
   ]
  },
  {
   "cell_type": "code",
   "execution_count": 133,
   "id": "9722f89a",
   "metadata": {
    "collapsed": false
   },
   "outputs": [
    {
     "data": {
      "text/plain": [
       "<Grammar with 15 productions>"
      ]
     },
     "execution_count": 133,
     "metadata": {},
     "output_type": "execute_result"
    }
   ],
   "source": [
    "grammar = parse_cfg(\"\"\"\n",
    "S -> NP VP\n",
    "PP -> P NP\n",
    "NP -> 'the' N | N PP | 'the' N PP\n",
    "VP -> V NP | V PP | V NP PP\n",
    "N -> 'cat'\n",
    "N -> 'dog'\n",
    "N -> 'rug'\n",
    "V -> 'chased'\n",
    "V -> 'sat'\n",
    "P -> 'in'\n",
    "P -> 'on'\n",
    "\"\"\")\n",
    "grammar"
   ]
  },
  {
   "cell_type": "code",
   "execution_count": 134,
   "id": "552a5aeb",
   "metadata": {
    "collapsed": false
   },
   "outputs": [],
   "source": [
    "from nltk.parse import ShiftReduceParser\n",
    "P = ShiftReduceParser(grammar)"
   ]
  },
  {
   "cell_type": "code",
   "execution_count": 135,
   "id": "4db5545f",
   "metadata": {
    "collapsed": false
   },
   "outputs": [],
   "source": [
    "tree = P.parse(word_tokenize(\"the cat chased the dog\"))"
   ]
  },
  {
   "cell_type": "code",
   "execution_count": 136,
   "id": "29b955f1",
   "metadata": {
    "collapsed": false
   },
   "outputs": [],
   "source": [
    "tree.draw()"
   ]
  }
 ],
 "metadata": {},
 "nbformat": 4,
 "nbformat_minor": 5
}
