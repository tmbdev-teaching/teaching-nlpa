{
 "cells": [
  {
   "cell_type": "markdown",
   "id": "4f9f453d",
   "metadata": {},
   "source": [
    "# HW1 - Regular Expression Parsing"
   ]
  },
  {
   "cell_type": "markdown",
   "id": "29688f82",
   "metadata": {},
   "source": [
    "Here is a set of strings with balanced parentheses."
   ]
  },
  {
   "cell_type": "code",
   "execution_count": null,
   "id": "43e994bf",
   "metadata": {
    "collapsed": false
   },
   "outputs": [],
   "source": [
    "yes1 = \"x (a b c) y\"\n",
    "yes2 = \"((((x))))\"\n",
    "yes3 = \"a (b (c d) ((e)) f) (g)\""
   ]
  },
  {
   "cell_type": "markdown",
   "id": "d0539d90",
   "metadata": {},
   "source": [
    "Here is a set of strings with unbalanced parentheses."
   ]
  },
  {
   "cell_type": "code",
   "execution_count": null,
   "id": "4680f0fa",
   "metadata": {
    "collapsed": false
   },
   "outputs": [],
   "source": [
    "no1 = \"(a b c\"\n",
    "no2 = \"((())))\"\n",
    "no3 = \"a (b (c d) (e)) f) (g)\""
   ]
  },
  {
   "cell_type": "markdown",
   "id": "1fa04fb8",
   "metadata": {},
   "source": [
    "Write a function `check_balanced` that uses regular expressions\n",
    "to check whether the parentheses are balanced.\n",
    "Note that you can't do this with a single regular expression,\n",
    "you need to write a little loop around it.\n",
    "Your code structure might differ a little from the\n",
    "function below, but it shouldn't be much longer."
   ]
  },
  {
   "cell_type": "code",
   "execution_count": null,
   "id": "1f7ce8e6",
   "metadata": {
    "collapsed": false
   },
   "outputs": [],
   "source": [
    "import re\n",
    "def check_balanced(s):\n",
    "    ...\n",
    "    while ...:\n",
    "        ...\n",
    "        ... = re.subn(...)\n",
    "        ...\n",
    "    ..."
   ]
  },
  {
   "cell_type": "markdown",
   "id": "4048dab7",
   "metadata": {},
   "source": [
    "Now show that it works."
   ]
  },
  {
   "cell_type": "code",
   "execution_count": null,
   "id": "6cf53b8c",
   "metadata": {
    "collapsed": false
   },
   "outputs": [],
   "source": [
    "print check_balanced(yes1)\n",
    "print check_balanced(yes2)\n",
    "print check_balanced(yes3)"
   ]
  },
  {
   "cell_type": "code",
   "execution_count": null,
   "id": "ce592615",
   "metadata": {
    "collapsed": false
   },
   "outputs": [],
   "source": [
    "print check_balanced(no1)\n",
    "print check_balanced(no2)\n",
    "print check_balanced(no3)"
   ]
  },
  {
   "cell_type": "code",
   "execution_count": null,
   "id": "d8a02e88",
   "metadata": {
    "collapsed": false
   },
   "outputs": [],
   "source": []
  }
 ],
 "metadata": {},
 "nbformat": 4,
 "nbformat_minor": 5
}
