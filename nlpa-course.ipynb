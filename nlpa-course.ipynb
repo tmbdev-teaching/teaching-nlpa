{
 "cells": [
  {
   "cell_type": "code",
   "execution_count": 8,
   "id": "b4913d2b",
   "metadata": {
    "collapsed": false
   },
   "outputs": [],
   "source": [
    "from IPython.core.display import Image,HTML\n",
    "from IPython.lib.display import YouTubeVideo"
   ]
  },
  {
   "cell_type": "markdown",
   "id": "928e08dc",
   "metadata": {},
   "source": [
    "# Introduction to Natural Language Processing and Applications"
   ]
  },
  {
   "cell_type": "markdown",
   "id": "724cc955",
   "metadata": {},
   "source": [
    "Goals of the course:\n",
    "\n",
    "- understanding of major concepts and algorithms in text and natural language processing\n",
    "- acquire the skills to work with research code in NLP, and make contributions to it\n",
    "\n",
    "*It is not just sufficient to memorize some terms and algorithms, you must be able to apply them.*"
   ]
  },
  {
   "cell_type": "markdown",
   "id": "6a673f8e",
   "metadata": {},
   "source": [
    "Course Content:\n",
    "\n",
    "- text processing and encoding\n",
    "- string algorithms, edit distance\n",
    "- statistical language models\n",
    "- spell correction\n",
    "- n-gram models\n",
    "- word sense disambiguation\n",
    "- Markov models, parts-of-speech tagging\n",
    "- probabilistic grammars and parsing\n",
    "- text alignment, clustering, text categorization\n",
    "- statistical machine translation\n",
    "- applications in speech recognition, handwriting recognition, and OCR\n",
    "- language acquisition\n",
    "- machine learning for NLP\n",
    "- cognitive and psychological aspects of NLP"
   ]
  },
  {
   "cell_type": "code",
   "execution_count": 24,
   "id": "e3f6696d",
   "metadata": {
    "collapsed": false
   },
   "outputs": [
    {
     "data": {
      "text/html": [
       "\n",
       "            <iframe\n",
       "                width=\"400\"\n",
       "                height=\"300\"\n",
       "                src=\"http://www.youtube.com/embed/https://www.youtube.com/watch?v=PHzoX2AIzqo\"\n",
       "                frameborder=\"0\"\n",
       "                allowfullscreen\n",
       "            ></iframe>\n",
       "        "
      ],
      "text/plain": [
       "<IPython.lib.display.YouTubeVideo at 0x3e6d710>"
      ]
     },
     "execution_count": 24,
     "metadata": {},
     "output_type": "execute_result"
    }
   ],
   "source": [
    "YouTubeVideo(\"https://www.youtube.com/watch?v=PHzoX2AIzqo\")"
   ]
  },
  {
   "cell_type": "markdown",
   "id": "f79f105c",
   "metadata": {},
   "source": [
    "## IUPR Home Page"
   ]
  },
  {
   "cell_type": "code",
   "execution_count": 20,
   "id": "d829365f",
   "metadata": {
    "collapsed": false
   },
   "outputs": [
    {
     "data": {
      "text/html": [
       "<iframe src='http://www.iupr.com/' width=1000 height=500>"
      ],
      "text/plain": [
       "<IPython.core.display.HTML at 0x3e6d510>"
      ]
     },
     "execution_count": 20,
     "metadata": {},
     "output_type": "execute_result"
    }
   ],
   "source": [
    "HTML(\"<iframe src='http://www.iupr.com/' width=1000 height=500>\")"
   ]
  },
  {
   "cell_type": "markdown",
   "id": "c72e177c",
   "metadata": {},
   "source": [
    "## NLPA Home Page"
   ]
  },
  {
   "cell_type": "code",
   "execution_count": 21,
   "id": "912645e4",
   "metadata": {
    "collapsed": false
   },
   "outputs": [
    {
     "data": {
      "text/html": [
       "<iframe src='http://nlpa.iupr.com/' width=1000 height=500>"
      ],
      "text/plain": [
       "<IPython.core.display.HTML at 0x3e6d610>"
      ]
     },
     "execution_count": 21,
     "metadata": {},
     "output_type": "execute_result"
    }
   ],
   "source": [
    "HTML(\"<iframe src='http://nlpa.iupr.com/' width=1000 height=500>\")"
   ]
  },
  {
   "cell_type": "markdown",
   "id": "d5f2746d",
   "metadata": {},
   "source": [
    "## Oral Exam Guide"
   ]
  },
  {
   "cell_type": "code",
   "execution_count": 23,
   "id": "b1b7071f",
   "metadata": {
    "collapsed": false
   },
   "outputs": [
    {
     "data": {
      "text/html": [
       "<iframe src='http://goo.gl/SllCx' width=1000 height=500>"
      ],
      "text/plain": [
       "<IPython.core.display.HTML at 0x3e6d290>"
      ]
     },
     "execution_count": 23,
     "metadata": {},
     "output_type": "execute_result"
    }
   ],
   "source": [
    "HTML(\"<iframe src='http://goo.gl/SllCx' width=1000 height=500>\")"
   ]
  },
  {
   "cell_type": "markdown",
   "id": "80b620e7",
   "metadata": {},
   "source": [
    "## Keep in Mind"
   ]
  },
  {
   "cell_type": "markdown",
   "id": "ae5c007d",
   "metadata": {},
   "source": [
    "- after each lecture, identify definition, concepts, algorithms, proofs\n",
    "- do all the exercises\n",
    "- come up with, and solve, your own problems"
   ]
  },
  {
   "cell_type": "code",
   "execution_count": null,
   "id": "4dc12b84",
   "metadata": {
    "collapsed": false
   },
   "outputs": [],
   "source": []
  }
 ],
 "metadata": {},
 "nbformat": 4,
 "nbformat_minor": 5
}
