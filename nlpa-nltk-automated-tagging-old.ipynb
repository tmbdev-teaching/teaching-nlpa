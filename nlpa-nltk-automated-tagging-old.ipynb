{
 "cells": [
  {
   "cell_type": "markdown",
   "id": "754bb952",
   "metadata": {},
   "source": [
    "# Parts of Speech Tagging"
   ]
  },
  {
   "cell_type": "markdown",
   "id": "06edab3f",
   "metadata": {},
   "source": [
    "POS tagging is a common processing step in NLP.\n",
    "\n",
    "If we have POS tagged, we can often already determine who is doing what to whom:\n",
    "\n",
    "- N V N\n",
    "- Subject Action Object\n",
    "- John eats pizza\n",
    "\n",
    "But this is kind of illusory, because \"correct\" tagging actually requires correct parsing:\n",
    "\n",
    "- Fruit flies like banana.\n",
    "- N V PP N\n",
    "- N N V N\n",
    "\n",
    "\n",
    "\"Time flies like an arrow, but fruit flies like banana.\"\n",
    "\n",
    "- Buffalo buffalo buffalo buffalo.\n",
    "- A N V N\n",
    "- N V A N\n",
    "- A A N V\n",
    "- V A A N\n",
    "\n",
    "Still, we can tag correctly often enough using statistical methods to be practically useful for information retrieval. However, POS tagging can never be totally correct, it's always a heuristic.\n",
    "\n",
    "(We could require a POS tagger to return all possible tags for each word, or all possible overall assignments for tags.)"
   ]
  },
  {
   "cell_type": "code",
   "execution_count": 2,
   "id": "5f7e85d5",
   "metadata": {
    "collapsed": false
   },
   "outputs": [],
   "source": [
    "from nltk.corpus import wordnet"
   ]
  },
  {
   "cell_type": "code",
   "execution_count": 5,
   "id": "cb0104ee",
   "metadata": {
    "collapsed": false
   },
   "outputs": [
    {
     "name": "stdout",
     "output_type": "stream",
     "text": [
      " american_bison.n.01 large shaggy-haired brown bison of North American plains\n",
      "buffalo.n.02 a city on Lake Erie in western New York (near Niagara Falls)\n",
      "buffalo.n.03 meat from an American bison\n",
      "old_world_buffalo.n.01 any of several Old World animals resembling oxen including, e.g., water buffalo; Cape buffalo\n",
      "buffalo.v.01 intimidate or overawe\n"
     ]
    }
   ],
   "source": [
    "for s in wordnet.synsets(\"buffalo\"):\n",
    "    print s.name,s.definition"
   ]
  },
  {
   "cell_type": "markdown",
   "id": "50fbd2f5",
   "metadata": {},
   "source": [
    "In part, we're looking at how NLTK does this because in terms of\n",
    "research, it's interesting to ask how we can do better (say,\n",
    "using recurrent neural networks or finite state transducers)."
   ]
  },
  {
   "cell_type": "markdown",
   "id": "beca34a2",
   "metadata": {},
   "source": [
    "# Tagged Corpora"
   ]
  },
  {
   "cell_type": "code",
   "execution_count": 98,
   "id": "1d42443c",
   "metadata": {
    "collapsed": false
   },
   "outputs": [],
   "source": [
    "from nltk.corpus import brown\n",
    "import nltk.tag # fix the default simplification map\n",
    "nltk.tag.brown_mapping1[\"dt\"] = \"DET\"\n",
    "nltk.tag.brown_mapping1[\"do\"] = \"V\""
   ]
  },
  {
   "cell_type": "code",
   "execution_count": 99,
   "id": "84cfc7ef",
   "metadata": {
    "collapsed": false
   },
   "outputs": [],
   "source": [
    "tagged = brown.tagged_words()"
   ]
  },
  {
   "cell_type": "code",
   "execution_count": 100,
   "id": "cd15b312",
   "metadata": {
    "collapsed": false
   },
   "outputs": [
    {
     "name": "stdout",
     "output_type": "stream",
     "text": [
      "1161192\n",
      "[('The', 'AT'), ('Fulton', 'NP-TL'), ('County', 'NN-TL'), ('Grand', 'JJ-TL'), ('Jury', 'NN-TL'), ('said', 'VBD'), ('Friday', 'NR'), ('an', 'AT'), ('investigation', 'NN'), ('of', 'IN'), (\"Atlanta's\", 'NP$'), ('recent', 'JJ'), ('primary', 'NN'), ('election', 'NN'), ('produced', 'VBD'), ('``', '``'), ('no', 'AT'), ('evidence', 'NN'), (\"''\", \"''\"), ('that', 'CS'), ('any', 'DTI'), ('irregularities', 'NNS'), ('took', 'VBD'), ('place', 'NN'), ('.', '.'), ('The', 'AT'), ('jury', 'NN'), ('further', 'RBR'), ('said', 'VBD'), ('in', 'IN'), ('term-end', 'NN'), ('presentments', 'NNS'), ('that', 'CS'), ('the', 'AT'), ('City', 'NN-TL'), ('Executive', 'JJ-TL'), ('Committee', 'NN-TL'), (',', ','), ('which', 'WDT'), ('had', 'HVD')]\n"
     ]
    }
   ],
   "source": [
    "print len(tagged)\n",
    "print tagged[:40]"
   ]
  },
  {
   "cell_type": "code",
   "execution_count": 101,
   "id": "4079d0c9",
   "metadata": {
    "collapsed": false
   },
   "outputs": [
    {
     "name": "stdout",
     "output_type": "stream",
     "text": [
      "1161192\n",
      "[('The', 'DET'), ('Fulton', 'NP'), ('County', 'N'), ('Grand', 'ADJ'), ('Jury', 'N'), ('said', 'VD'), ('Friday', 'N'), ('an', 'DET'), ('investigation', 'N'), ('of', 'P'), (\"Atlanta's\", 'NP'), ('recent', 'ADJ'), ('primary', 'N'), ('election', 'N'), ('produced', 'VD'), ('``', '``'), ('no', 'DET'), ('evidence', 'N'), (\"''\", \"''\"), ('that', 'CNJ'), ('any', 'DET'), ('irregularities', 'N'), ('took', 'VD'), ('place', 'N'), ('.', '.'), ('The', 'DET'), ('jury', 'N'), ('further', 'ADV'), ('said', 'VD'), ('in', 'P'), ('term-end', 'N'), ('presentments', 'N'), ('that', 'CNJ'), ('the', 'DET'), ('City', 'N'), ('Executive', 'ADJ'), ('Committee', 'N'), (',', ','), ('which', 'WH'), ('had', 'V')]\n"
     ]
    }
   ],
   "source": [
    "tagged = brown.tagged_words(simplify_tags=True)\n",
    "print len(tagged)\n",
    "print tagged[:40]"
   ]
  },
  {
   "cell_type": "markdown",
   "id": "be757880",
   "metadata": {},
   "source": [
    "Most common proper nouns."
   ]
  },
  {
   "cell_type": "code",
   "execution_count": 102,
   "id": "08c2035d",
   "metadata": {
    "collapsed": false
   },
   "outputs": [
    {
     "name": "stdout",
     "output_type": "stream",
     "text": [
      "9765\n"
     ]
    },
    {
     "data": {
      "text/plain": [
       "['Blaber',\n",
       " 'Black',\n",
       " \"Black's\",\n",
       " 'Blackberry',\n",
       " 'Blackfeet',\n",
       " 'Blackman',\n",
       " 'Blackmer',\n",
       " 'Blacks',\n",
       " 'Blackstone',\n",
       " 'Blackwell']"
      ]
     },
     "execution_count": 102,
     "metadata": {},
     "output_type": "execute_result"
    }
   ],
   "source": [
    "np = sorted(list(set([n for n,c in tagged if c==\"NP\"])))\n",
    "print len(np)\n",
    "np[1000:1010]"
   ]
  },
  {
   "cell_type": "code",
   "execution_count": 103,
   "id": "990cafcd",
   "metadata": {
    "collapsed": false
   },
   "outputs": [],
   "source": [
    "\"\"\"\n",
    "ADJ\tadjective\tnew, good, high, special, big, local\n",
    "ADV\tadverb\treally, already, still, early, now\n",
    "CNJ\tconjunction\tand, or, but, if, while, although\n",
    "DET\tdeterminer\tthe, a, some, most, every, no\n",
    "EX\t existential\tthere, there's\n",
    "FW\t foreign word\tdolce, ersatz, esprit, quo, maitre\n",
    "MOD\tmodal verb\twill, can, would, may, must, should\n",
    "N\t  noun\tyear, home, costs, time, education\n",
    "NP\t proper noun\tAlison, Africa, April, Washington\n",
    "NUM\tnumber\ttwenty-four, fourth, 1991, 14:24\n",
    "PRO\tpronoun\the, their, her, its, my, I, us\n",
    "P\t  preposition\ton, of, at, with, by, into, under\n",
    "TO\t the word to\tto\n",
    "UH\t interjection\tah, bang, ha, whee, hmpf, oops\n",
    "V\t  verb\tis, has, get, do, make, see, run\n",
    "VD\t past tense\tsaid, took, told, made, asked\n",
    "VG     present participle\tmaking, going, playing, working\n",
    "VN\t past participle\tgiven, taken, begun, sung\n",
    "WH\t wh determiner\twho, which, when, what, where, how\n",
    "\"\"\"; None"
   ]
  },
  {
   "cell_type": "markdown",
   "id": "35f08e21",
   "metadata": {},
   "source": [
    "Most common verbs."
   ]
  },
  {
   "cell_type": "code",
   "execution_count": 104,
   "id": "1b9e9ad7",
   "metadata": {
    "collapsed": false
   },
   "outputs": [
    {
     "data": {
      "text/plain": [
       "[(('is', 'V'), 10010),\n",
       " (('was', 'V'), 9777),\n",
       " (('be', 'V'), 6342),\n",
       " (('had', 'V'), 5101),\n",
       " (('are', 'V'), 4333),\n",
       " (('have', 'V'), 3892),\n",
       " (('were', 'V'), 3279),\n",
       " (('been', 'V'), 2470),\n",
       " (('has', 'V'), 2424),\n",
       " (('said', 'VD'), 1738)]"
      ]
     },
     "execution_count": 104,
     "metadata": {},
     "output_type": "execute_result"
    }
   ],
   "source": [
    "Counter((w,t) for w,t in tagged if t.startswith(\"V\")).most_common(10)"
   ]
  },
  {
   "cell_type": "code",
   "execution_count": 105,
   "id": "1eb7390b",
   "metadata": {
    "collapsed": false
   },
   "outputs": [],
   "source": [
    "freq = nltk.FreqDist(tag for word,tag in tagged)"
   ]
  },
  {
   "cell_type": "code",
   "execution_count": 106,
   "id": "9662de50",
   "metadata": {
    "collapsed": false
   },
   "outputs": [
    {
     "data": {
      "text/plain": [
       "[('N', 229788),\n",
       " ('DET', 136425),\n",
       " ('P', 122591),\n",
       " ('V', 87519),\n",
       " ('ADJ', 71994),\n",
       " ('PRO', 66793),\n",
       " ('.', 61254),\n",
       " ('CNJ', 60326),\n",
       " (',', 58336),\n",
       " ('ADV', 43934)]"
      ]
     },
     "execution_count": 106,
     "metadata": {},
     "output_type": "execute_result"
    }
   ],
   "source": [
    "freq.items()[:10]"
   ]
  },
  {
   "cell_type": "code",
   "execution_count": 107,
   "id": "3c5ffd59",
   "metadata": {
    "collapsed": false
   },
   "outputs": [
    {
     "data": {
      "image/png": "[encoded data removed]"
     },
     "metadata": {},
     "output_type": "display_data"
    }
   ],
   "source": [
    "freq.plot(cumulative=True)"
   ]
  },
  {
   "cell_type": "markdown",
   "id": "8fd67669",
   "metadata": {},
   "source": [
    "# N-Grams"
   ]
  },
  {
   "cell_type": "code",
   "execution_count": 108,
   "id": "951eb706",
   "metadata": {
    "collapsed": false
   },
   "outputs": [
    {
     "data": {
      "text/plain": [
       "Counter({'N': 229788, 'DET': 136425, 'P': 122591, 'V': 87519, 'ADJ': 71994, 'PRO': 66793, '.': 61254, 'CNJ': 60326, ',': 58336, 'ADV': 43934, 'NP': 43179, 'VN': 29932, 'VD': 26192, 'VG': 18188, 'NUM': 17024, 'TO': 14998, 'WH': 14919, 'MOD': 13345, '``': 8837, \"''\": 8789, 'VBZ': 7469, '*': 4613, '': 3431, ')': 2457, '(': 2426, 'EX': 2280, ':': 1718, 'FW': 1226, 'UH': 629, \"'\": 317, 'NIL': 157, 'VB+PPO': 71, 'VBG+TO': 17, 'VBN+TO': 5, 'VB+TO': 4, 'VB+IN': 3, 'VB+AT': 2, 'VB+RP': 2, 'VB+VB': 1, 'VB+JJ': 1})"
      ]
     },
     "execution_count": 108,
     "metadata": {},
     "output_type": "execute_result"
    }
   ],
   "source": [
    "from collections import Counter\n",
    "Counter(c for w,c in tagged)"
   ]
  },
  {
   "cell_type": "code",
   "execution_count": 109,
   "id": "7c3e0324",
   "metadata": {
    "collapsed": false
   },
   "outputs": [
    {
     "name": "stdout",
     "output_type": "stream",
     "text": [
      "[(('DET', 'N'), 686), (('N', 'P'), 603), (('N', 'N'), 452), (('P', 'DET'), 448), (('ADJ', 'N'), 412), (('P', 'N'), 238), (('N', '.'), 235), (('DET', 'ADJ'), 216), (('N', ','), 204), (('V', 'DET'), 159)]\n"
     ]
    }
   ],
   "source": [
    "bg = nltk.bigrams(tag for word,tag in tagged[:10000])\n",
    "freq = nltk.FreqDist(bg)\n",
    "print freq.items()[:10]"
   ]
  },
  {
   "cell_type": "code",
   "execution_count": 110,
   "id": "d247fde6",
   "metadata": {
    "collapsed": false
   },
   "outputs": [],
   "source": [
    "from itertools import *\n",
    "def ibigrams(l):\n",
    "    return izip(l,islice(l,1,None))"
   ]
  },
  {
   "cell_type": "code",
   "execution_count": 143,
   "id": "cb4c8f64",
   "metadata": {
    "collapsed": false
   },
   "outputs": [],
   "source": [
    "def gcat(l):\n",
    "    return \" \".join([x[1] for x in l])\n",
    "def gwords(l):\n",
    "    return \" \".join([x[0] for x in l])"
   ]
  },
  {
   "cell_type": "code",
   "execution_count": 134,
   "id": "ab99eaa0",
   "metadata": {
    "collapsed": false
   },
   "outputs": [
    {
     "data": {
      "text/plain": [
       "'DET NP'"
      ]
     },
     "execution_count": 134,
     "metadata": {},
     "output_type": "execute_result"
    }
   ],
   "source": [
    "gcat(nltk.bigrams(tagged[:10])[0])"
   ]
  },
  {
   "cell_type": "code",
   "execution_count": 135,
   "id": "a2de2471",
   "metadata": {
    "collapsed": false
   },
   "outputs": [
    {
     "data": {
      "text/plain": [
       "[('DET N', 74300),\n",
       " ('N P', 59944),\n",
       " ('P DET', 52654),\n",
       " ('ADJ N', 45836),\n",
       " ('DET ADJ', 29884),\n",
       " ('N .', 29522),\n",
       " ('N ,', 28025),\n",
       " ('P N', 25040),\n",
       " ('N N', 24310),\n",
       " ('N CNJ', 18705)]"
      ]
     },
     "execution_count": 135,
     "metadata": {},
     "output_type": "execute_result"
    }
   ],
   "source": [
    "bic = Counter(gcat(x) for x in ibigrams(tagged))\n",
    "bic.most_common(10)"
   ]
  },
  {
   "cell_type": "code",
   "execution_count": 136,
   "id": "93323954",
   "metadata": {
    "collapsed": false
   },
   "outputs": [
    {
     "data": {
      "text/plain": [
       "['PRO N VD ADJ N .', 'NP , NP ( N )', 'NP , NP ( N )']"
      ]
     },
     "execution_count": 136,
     "metadata": {},
     "output_type": "execute_result"
    }
   ],
   "source": [
    "sent5 = [gcat(s) for s in brown.tagged_sents(simplify_tags=True) if len(s)==6]\n",
    "sent5[:3]"
   ]
  },
  {
   "cell_type": "code",
   "execution_count": 139,
   "id": "28d9bd53",
   "metadata": {
    "collapsed": false
   },
   "outputs": [
    {
     "data": {
      "text/plain": [
       "[((('the', 'DET'), ('U.S.', 'NP')), 76),\n",
       " ((('the', 'DET'), ('Congo', 'NP')), 49),\n",
       " ((('the', 'DET'), ('U.N.', 'NP')), 37),\n",
       " ((('the', 'DET'), ('U.', 'NP')), 36),\n",
       " ((('the', 'DET'), ('Bible', 'NP')), 34),\n",
       " ((('the', 'DET'), ('Negro', 'NP')), 31),\n",
       " ((('the', 'DET'), ('Congress', 'NP')), 27),\n",
       " ((('the', 'DET'), ('Russians', 'NP')), 23),\n",
       " ((('the', 'DET'), ('Chicago', 'NP')), 23),\n",
       " ((('the', 'DET'), ('Lo', 'NP')), 19)]"
      ]
     },
     "execution_count": 139,
     "metadata": {},
     "output_type": "execute_result"
    }
   ],
   "source": [
    "Counter(x for x in ibigrams(tagged) if gcat(x)==\"DET NP\").most_common(10)"
   ]
  },
  {
   "cell_type": "code",
   "execution_count": 144,
   "id": "4fbb5c40",
   "metadata": {
    "collapsed": false
   },
   "outputs": [
    {
     "data": {
      "text/plain": [
       "[('American Catholic higher education', 4),\n",
       " ('light green nonspecific fluorescence', 2),\n",
       " ('early English historical circles', 1),\n",
       " ('plain old black dirt', 1),\n",
       " ('Such additional daytime class', 1),\n",
       " ('sturdy little three-masted bark', 1),\n",
       " ('such traditional Japanese foods', 1),\n",
       " ('official American Catholic project', 1),\n",
       " ('hard cruel bony skull', 1),\n",
       " ('continuous critical public scrutiny', 1)]"
      ]
     },
     "execution_count": 144,
     "metadata": {},
     "output_type": "execute_result"
    }
   ],
   "source": [
    "Counter(gwords(x) for x in nltk.ingrams(tagged,4) if gcat(x)==\"ADJ ADJ ADJ N\").most_common(10)"
   ]
  },
  {
   "cell_type": "markdown",
   "id": "6e455ab4",
   "metadata": {},
   "source": [
    "# Relationship Mining"
   ]
  },
  {
   "cell_type": "markdown",
   "id": "dbd2383e",
   "metadata": {},
   "source": [
    "For relationship mining, we try to determine how related two objects\n",
    "are by seeing how often they are mentioned together.\n",
    "\n",
    "There are many ways in which this can be done.\n",
    "For example, relationships may be given explicitly in Facebook or FOAF.\n",
    "\n",
    "But often, we only have text available.\n",
    "Let's try to do some simple relationship mining on the Brown corpus.\n",
    "\n",
    "We start with the tagged sentences, and assume that there is some\n",
    "relationship between two objects if they are mentioned in the same sentence."
   ]
  },
  {
   "cell_type": "code",
   "execution_count": 196,
   "id": "655b3099",
   "metadata": {
    "collapsed": false
   },
   "outputs": [
    {
     "data": {
      "text/plain": [
       "[('The', 'DET'),\n",
       " ('September-October', 'NP'),\n",
       " ('term', 'N'),\n",
       " ('jury', 'N'),\n",
       " ('had', 'V'),\n",
       " ('been', 'V'),\n",
       " ('charged', 'VN'),\n",
       " ('by', 'P'),\n",
       " ('Fulton', 'NP'),\n",
       " ('Superior', 'ADJ'),\n",
       " ('Court', 'N'),\n",
       " ('Judge', 'N'),\n",
       " ('Durwood', 'NP'),\n",
       " ('Pye', 'NP'),\n",
       " ('to', 'TO'),\n",
       " ('investigate', 'V'),\n",
       " ('reports', 'N'),\n",
       " ('of', 'P'),\n",
       " ('possible', 'ADJ'),\n",
       " ('``', '``'),\n",
       " ('irregularities', 'N'),\n",
       " (\"''\", \"''\"),\n",
       " ('in', 'P'),\n",
       " ('the', 'DET'),\n",
       " ('hard-fought', 'ADJ'),\n",
       " ('primary', 'N'),\n",
       " ('which', 'WH'),\n",
       " ('was', 'V'),\n",
       " ('won', 'VN'),\n",
       " ('by', 'P'),\n",
       " ('Mayor-nominate', 'N'),\n",
       " ('Ivan', 'NP'),\n",
       " ('Allen', 'NP'),\n",
       " ('Jr.', 'NP'),\n",
       " ('.', '.')]"
      ]
     },
     "execution_count": 196,
     "metadata": {},
     "output_type": "execute_result"
    }
   ],
   "source": [
    "stagged = brown.tagged_sents(simplify_tags=True)\n",
    "stagged[2]"
   ]
  },
  {
   "cell_type": "markdown",
   "id": "eaecff01",
   "metadata": {},
   "source": [
    "Tagging is on a per-word basis, but \"objects\" are often referred to by multiple names.\n",
    "So, we need to write a function to collapse multiple adjacent words if they have\n",
    "the same tag.\n",
    "\n",
    "The `itertools.groupby` function helps us with that.\n",
    "You should learn about `itertools`; it is somewhat analogous\n",
    "to UNIX command line programs like `uniq` etc."
   ]
  },
  {
   "cell_type": "code",
   "execution_count": 203,
   "id": "7abc3e09",
   "metadata": {
    "collapsed": false
   },
   "outputs": [
    {
     "data": {
      "text/plain": [
       "[('The', 'DET'),\n",
       " ('September-October', 'NP'),\n",
       " ('term jury', 'N'),\n",
       " ('had been', 'V'),\n",
       " ('charged', 'VN'),\n",
       " ('by', 'P'),\n",
       " ('Fulton', 'NP'),\n",
       " ('Superior', 'ADJ'),\n",
       " ('Court Judge', 'N'),\n",
       " ('Durwood Pye', 'NP'),\n",
       " ('to', 'TO'),\n",
       " ('investigate', 'V'),\n",
       " ('reports', 'N'),\n",
       " ('of', 'P'),\n",
       " ('possible', 'ADJ'),\n",
       " ('``', '``'),\n",
       " ('irregularities', 'N'),\n",
       " (\"''\", \"''\"),\n",
       " ('in', 'P'),\n",
       " ('the', 'DET'),\n",
       " ('hard-fought', 'ADJ'),\n",
       " ('primary', 'N'),\n",
       " ('which', 'WH'),\n",
       " ('was', 'V'),\n",
       " ('won', 'VN'),\n",
       " ('by', 'P'),\n",
       " ('Mayor-nominate', 'N'),\n",
       " ('Ivan Allen Jr.', 'NP'),\n",
       " ('.', '.')]"
      ]
     },
     "execution_count": 203,
     "metadata": {},
     "output_type": "execute_result"
    }
   ],
   "source": [
    "def collapse(s):\n",
    "    \"\"\"Collapse adjacent words if the have same tag.\"\"\"\n",
    "    return [(\" \".join(x[0] for x in g),k) for k,g in groupby(s,lambda x:x[1])]\n",
    "collapse(stagged[2])"
   ]
  },
  {
   "cell_type": "markdown",
   "id": "8b08c208",
   "metadata": {},
   "source": [
    "Next, for each sentence, we just filter out the proper nouns."
   ]
  },
  {
   "cell_type": "code",
   "execution_count": 245,
   "id": "f30e7038",
   "metadata": {
    "collapsed": false
   },
   "outputs": [
    {
     "data": {
      "text/plain": [
       "['September-October', 'Fulton', 'Durwood Pye', 'Ivan Allen Jr.']"
      ]
     },
     "execution_count": 245,
     "metadata": {},
     "output_type": "execute_result"
    }
   ],
   "source": [
    "def NPlist(s):\n",
    "    \"\"\"Return a list of proper nouns in a sequence of tags.\"\"\"\n",
    "    return [x[0] for x in s if x[1]==\"NP\"]\n",
    "\n",
    "NPlist(collapse(stagged[2]))"
   ]
  },
  {
   "cell_type": "code",
   "execution_count": 246,
   "id": "657e3470",
   "metadata": {
    "collapsed": false
   },
   "outputs": [
    {
     "data": {
      "text/plain": [
       "[['Fulton', \"Atlanta's\"],\n",
       " ['Atlanta'],\n",
       " ['September-October', 'Fulton', 'Durwood Pye', 'Ivan Allen Jr.'],\n",
       " [],\n",
       " [\"Georgia's\"],\n",
       " ['Fulton'],\n",
       " ['Atlanta', 'Fulton'],\n",
       " [],\n",
       " [],\n",
       " []]"
      ]
     },
     "execution_count": 246,
     "metadata": {},
     "output_type": "execute_result"
    }
   ],
   "source": [
    "nps = (NPlist(collapse(s)) for s in stagged)\n",
    "list(islice(nps,10))"
   ]
  },
  {
   "cell_type": "markdown",
   "id": "5a65b303",
   "metadata": {},
   "source": [
    "We really just want those sentences that actually mention more than one proper noun."
   ]
  },
  {
   "cell_type": "code",
   "execution_count": 247,
   "id": "0f4c908c",
   "metadata": {
    "collapsed": false
   },
   "outputs": [
    {
     "data": {
      "text/plain": [
       "[['Fulton', 'Fulton'],\n",
       " [\"Atlanta's\", 'Jan.'],\n",
       " ['Atlanta', 'Fulton', 'Bellwood', 'Alpharetta', 'Grady', 'Fulton'],\n",
       " ['William B. Hartsfield', 'Pearl Williams Hartsfield', 'Fulton'],\n",
       " ['William Berry Jr.', 'Mrs. J. M. Cheshire', 'Griffin'],\n",
       " ['Opelika', 'Ala.'],\n",
       " ['Hartsfield', 'E. Pelham'],\n",
       " ['Hartsfield', 'Atlanta'],\n",
       " ['Ivan Allen Jr.', 'Sept.', 'Hartsfield'],\n",
       " ['James W. Dorsey', 'Sept.', 'Savannah', 'Texas', 'John Tower']]"
      ]
     },
     "execution_count": 247,
     "metadata": {},
     "output_type": "execute_result"
    }
   ],
   "source": [
    "nps = (x for x in nps if len(x)>1)\n",
    "list(islice(nps,10))"
   ]
  },
  {
   "cell_type": "markdown",
   "id": "1ec4c83b",
   "metadata": {},
   "source": [
    "As you can see, there is a wide variety of ways of referring to people,\n",
    "including titles, initials, etc.\n",
    "\n",
    "Solving the problem of mapping names to identities in general is a hard\n",
    "problem (c.f. authorship attribution).\n",
    "But we can prototype something with a little bit of regular expression magic."
   ]
  },
  {
   "cell_type": "code",
   "execution_count": 259,
   "id": "9dfcb92b",
   "metadata": {
    "collapsed": false
   },
   "outputs": [
    {
     "data": {
      "text/plain": [
       "'Kennedy'"
      ]
     },
     "execution_count": 259,
     "metadata": {},
     "output_type": "execute_result"
    }
   ],
   "source": [
    "def NPnormalize(s,targets=[\"Kennedy\",\"Khrushchev\"]):\n",
    "    \"\"\"Normalize proper names by stripping prefixes/suffixes etc.\"\"\"\n",
    "    for t in targets: \n",
    "        if t in s: return t\n",
    "    s = re.sub(r'^(Mr|Mrs|Dr|Prof|Professor)\\.?','',s)\n",
    "    s = re.sub(r'[A-Z]\\.\\s','',s)\n",
    "    s = re.sub(r\"'s\",\"\",s)\n",
    "    s = re.sub(r'\\W+',' ',s)\n",
    "    return s.strip()\n",
    "NPnormalize(\"Mr. Kennedy, Jr.\")"
   ]
  },
  {
   "cell_type": "markdown",
   "id": "b13c16a9",
   "metadata": {},
   "source": [
    "With these functions, we can now get a reasonable list of proper nouns\n",
    "for each sentence."
   ]
  },
  {
   "cell_type": "code",
   "execution_count": 260,
   "id": "6c0c8305",
   "metadata": {
    "collapsed": false
   },
   "outputs": [
    {
     "data": {
      "text/plain": [
       "[['Sam Caldwell', 'Garland Byrd'],\n",
       " ['Rob Ledford', 'Gainesville'],\n",
       " ['Caldwell', 'Byrd'],\n",
       " ['Vandiver', 'Marvin Griffin'],\n",
       " ['Schley', 'B D Pelham'],\n",
       " ['Pelham', 'Georgia', 'November'],\n",
       " ['Jackson', 'Georgia'],\n",
       " ['Barber', 'Washington'],\n",
       " ['Harry Davis', 'Felix Bush', 'Miller'],\n",
       " ['Davis', 'Bush']]"
      ]
     },
     "execution_count": 260,
     "metadata": {},
     "output_type": "execute_result"
    }
   ],
   "source": [
    "nps = [[NPnormalize(x) for x in l] for l in nps]\n",
    "list(islice(nps,10))"
   ]
  },
  {
   "cell_type": "markdown",
   "id": "59a71b4e",
   "metadata": {},
   "source": [
    "We are interested in co-occurring pairs. Instead of nested loops,\n",
    "we use `itertools.combinations` to find these."
   ]
  },
  {
   "cell_type": "code",
   "execution_count": 261,
   "id": "e5699653",
   "metadata": {
    "collapsed": false
   },
   "outputs": [
    {
     "data": {
      "text/plain": [
       "[(('Brown', 'Sharpe'), 35),\n",
       " (('D C', 'Washington'), 31),\n",
       " (('B', 'C'), 29),\n",
       " (('God', 'God'), 26),\n",
       " (('Mantle', 'Maris'), 23),\n",
       " (('B', 'O'), 22),\n",
       " (('Paris', 'Paris'), 22),\n",
       " (('A', 'B'), 21),\n",
       " (('Palmer', 'Player'), 19),\n",
       " (('Pike', 'Woodruff'), 18)]"
      ]
     },
     "execution_count": 261,
     "metadata": {},
     "output_type": "execute_result"
    }
   ],
   "source": [
    "pairs = [tuple(sorted(x)) for l in nps for x in combinations(l,2)]\n",
    "Counter(pairs).most_common(10)"
   ]
  },
  {
   "cell_type": "markdown",
   "id": "cf5f878c",
   "metadata": {},
   "source": [
    "There are still some pairs in here that we don't want. Let's filter those out."
   ]
  },
  {
   "cell_type": "code",
   "execution_count": 262,
   "id": "08305822",
   "metadata": {
    "collapsed": false
   },
   "outputs": [
    {
     "data": {
      "text/plain": [
       "[(('Brown', 'Sharpe'), 35),\n",
       " (('D C', 'Washington'), 31),\n",
       " (('Mantle', 'Maris'), 23),\n",
       " (('Palmer', 'Player'), 19),\n",
       " (('Pike', 'Woodruff'), 18),\n",
       " (('Oct', 'Sept'), 17),\n",
       " (('Delaware', 'Du Pont'), 16),\n",
       " (('God', 'Jesus Christ'), 16),\n",
       " (('Miriam', 'Wright'), 16),\n",
       " (('Christiana', 'Delaware'), 15)]"
      ]
     },
     "execution_count": 262,
     "metadata": {},
     "output_type": "execute_result"
    }
   ],
   "source": [
    "pairs = [(u,v) for u,v in pairs if len(u)>2 and len(v)>2 and u!=v]\n",
    "Counter(pairs).most_common(10)"
   ]
  },
  {
   "cell_type": "markdown",
   "id": "01104f52",
   "metadata": {},
   "source": [
    "The entire graph is too large, but let's focus on two nodes: "
   ]
  },
  {
   "cell_type": "code",
   "execution_count": 263,
   "id": "d20bcd0d",
   "metadata": {
    "collapsed": false
   },
   "outputs": [
    {
     "name": "stdout",
     "output_type": "stream",
     "text": [
      "13\n",
      "[(('Congress', 'Khrushchev'), 7), (('Eisenhower', 'Kennedy'), 4), (('Kennedy', 'Laos'), 6), (('Kennedy', 'U S'), 4), (('Khrushchev', 'U S'), 6), (('Khrushchev', 'Moscow'), 4), (('China', 'Khrushchev'), 5), (('Cuba', 'Kennedy'), 4), (('Kennedy', 'Khrushchev'), 8), (('Kennedy', 'Nixon'), 4)]\n"
     ]
    }
   ],
   "source": [
    "relations = [p for p in Counter(pairs).items() \\\n",
    "    if re.search(\"Kennedy|Khrushchev\",\" \".join(p[0])) and p[1]>3]\n",
    "print len(relations)\n",
    "print relations[:10]"
   ]
  },
  {
   "cell_type": "code",
   "execution_count": 264,
   "id": "c1247624",
   "metadata": {
    "collapsed": false
   },
   "outputs": [
    {
     "data": {
      "text/plain": [
       "<matplotlib.image.AxesImage at 0xee7e750>"
      ]
     },
     "execution_count": 264,
     "metadata": {},
     "output_type": "execute_result"
    },
    {
     "data": {
      "image/png": "[encoded data removed]"
     },
     "metadata": {},
     "output_type": "display_data"
    }
   ],
   "source": [
    "import pydot\n",
    "graph = pydot.Dot()\n",
    "for (u,v),n in relations:\n",
    "    graph.add_edge(pydot.Edge(u,v,label=str(n)))\n",
    "graph.write_png(\"/tmp/_test.png\",prog=\"fdp\")\n",
    "figsize(12,12)\n",
    "gca().set_xticks([]); gca().set_yticks([])\n",
    "imshow(imread(\"/tmp/_test.png\"))"
   ]
  },
  {
   "cell_type": "markdown",
   "id": "a9139a9c",
   "metadata": {},
   "source": [
    "For visualizing large relationship graphs, there are special tools:\n",
    "\n",
    "- http://gephi.org/\n",
    "- http://gephi.org/2010/openord-new-layout-plugin-the-fastest-algorithm-so-far/\n",
    "- http://www.textarc.org/\n",
    "- ..."
   ]
  },
  {
   "cell_type": "markdown",
   "id": "60b8c757",
   "metadata": {},
   "source": [
    "# Automatic Tagging"
   ]
  },
  {
   "cell_type": "markdown",
   "id": "bc289dca",
   "metadata": {},
   "source": [
    "Although the above results are neat, they aren't all that useful in practice\n",
    "because most texts we want to visualize in such ways aren't tagged, and tagging\n",
    "them by hand ist costly.\n",
    "\n",
    "What we need is an *automated tagger*."
   ]
  },
  {
   "cell_type": "markdown",
   "id": "ff38912a",
   "metadata": {},
   "source": [
    "Let's take a page off Wikipedia and tag it automatically."
   ]
  },
  {
   "cell_type": "code",
   "execution_count": 271,
   "id": "532adc73",
   "metadata": {
    "collapsed": false
   },
   "outputs": [
    {
     "data": {
      "text/plain": [
       "u'<!DOCTYPE html>\\n<html lang=\"en\" dir=\"ltr\" class=\"client-nojs\">\\n<head>\\n<title>George Washington - Wik'"
      ]
     },
     "execution_count": 271,
     "metadata": {},
     "output_type": "execute_result"
    }
   ],
   "source": [
    "opener = urllib2.build_opener()\n",
    "opener.addheaders = [('User-agent', 'Mozilla/5.0')]\n",
    "infile = opener.open('http://en.wikipedia.org/w/index.php?title=George_Washington&printable=yes')\n",
    "page = infile.read().decode(\"utf-8\")\n",
    "page[:400]"
   ]
  },
  {
   "cell_type": "code",
   "execution_count": 276,
   "id": "31478278",
   "metadata": {
    "collapsed": false
   },
   "outputs": [
    {
     "name": "stdout",
     "output_type": "stream",
     "text": [
      "George Washington - Wikipedia, the free encyclopedia\n",
      "\t\t\t\t\t\t\t\t\t\t\t\t George Washington\n",
      "\t\t\t\t\t\t\t\t\t\t\t\t From Wikipedia, the free encyclopedia\n",
      "\t\t\t\t\tJump to:\t\t\t\t\t navigation , \t\t\t\t\t search\n",
      "\t\t\t\t\t\t\t\t\t\t\t\t\t\t\t\t This article is about the first President of the United States. For other uses, see George Washington (disambiguation) .\n",
      " For a simpler version of this article, see the Simple English Wikipedia article: \n"
     ]
    }
   ],
   "source": [
    "page = nltk.util.clean_html(page)\n",
    "page = re.sub(r'\\s*\\n+','\\n',page)\n",
    "print page[:400]"
   ]
  },
  {
   "cell_type": "code",
   "execution_count": 291,
   "id": "8c134dd1",
   "metadata": {
    "collapsed": false
   },
   "outputs": [
    {
     "data": {
      "text/plain": [
       "[(u'Washington', 'NNP'),\n",
       " (u'quickly', 'RB'),\n",
       " (u'became', 'VBD'),\n",
       " (u'a', 'DT'),\n",
       " (u'senior', 'JJ'),\n",
       " (u'officer', 'NN'),\n",
       " (u'in', 'IN'),\n",
       " (u'the', 'DT'),\n",
       " (u'colonial', 'JJ'),\n",
       " (u'forces', 'NNS'),\n",
       " (u'during', 'IN'),\n",
       " (u'the', 'DT'),\n",
       " (u'first', 'JJ'),\n",
       " (u'stages', 'NNS'),\n",
       " (u'of', 'IN'),\n",
       " (u'the', 'DT'),\n",
       " (u'French', 'JJ'),\n",
       " (u'and', 'CC'),\n",
       " (u'Indian', 'JJ'),\n",
       " (u'War', 'NN'),\n",
       " (u'.', '.')]"
      ]
     },
     "execution_count": 291,
     "metadata": {},
     "output_type": "execute_result"
    }
   ],
   "source": [
    "sents = nltk.sent_tokenize(page)\n",
    "sents = [nltk.word_tokenize(s) for s in sents]\n",
    "stagged = [nltk.pos_tag(s) for s in sents]\n",
    "stagged[17]"
   ]
  },
  {
   "cell_type": "code",
   "execution_count": 295,
   "id": "48cbe580",
   "metadata": {
    "collapsed": false
   },
   "outputs": [
    {
     "data": {
      "text/plain": [
       "[(u'Washington', 'N'),\n",
       " (u'quickly', 'ADV'),\n",
       " (u'became', 'VD'),\n",
       " (u'a', 'DET'),\n",
       " (u'senior', 'ADJ'),\n",
       " (u'officer', 'N'),\n",
       " (u'in', 'P'),\n",
       " (u'the', 'DET'),\n",
       " (u'colonial', 'ADJ'),\n",
       " (u'forces', 'N'),\n",
       " (u'during', 'P'),\n",
       " (u'the', 'DET'),\n",
       " (u'first', 'ADJ'),\n",
       " (u'stages', 'N'),\n",
       " (u'of', 'P'),\n",
       " (u'the', 'DET'),\n",
       " (u'French', 'ADJ'),\n",
       " (u'and', 'CNJ'),\n",
       " (u'Indian', 'ADJ'),\n",
       " (u'War', 'N'),\n",
       " (u'.', '.')]"
      ]
     },
     "execution_count": 295,
     "metadata": {},
     "output_type": "execute_result"
    }
   ],
   "source": [
    "def simplify_tags(l):\n",
    "    return [(w,nltk.tag.simplify_brown_tag(t)) for w,t in l]\n",
    "stagged = [simplify_tags(l) for l in stagged]\n",
    "stagged[17]"
   ]
  },
  {
   "cell_type": "code",
   "execution_count": null,
   "id": "01ddb8e8",
   "metadata": {
    "collapsed": false
   },
   "outputs": [],
   "source": []
  }
 ],
 "metadata": {},
 "nbformat": 4,
 "nbformat_minor": 5
}
