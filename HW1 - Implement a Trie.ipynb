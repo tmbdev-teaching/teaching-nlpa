{
 "cells": [
  {
   "cell_type": "markdown",
   "id": "49477604",
   "metadata": {},
   "source": [
    "# Trie Data Structure"
   ]
  },
  {
   "cell_type": "markdown",
   "id": "d6fbd5f6",
   "metadata": {},
   "source": [
    "Define a class `Trie` that can be used for fast lookups of strings.\n",
    "Such classes are frequently used in many natural language processing applications.\n",
    "\n",
    "(Writing such a class is also a common interview question; you need\n",
    "to be able to do it in real time.)\n",
    "\n",
    "Have your class update a global variable `nops` for each node traversal during\n",
    "`add`, `lookup`, and `remove` operations."
   ]
  },
  {
   "cell_type": "code",
   "execution_count": 11,
   "id": "7da39832",
   "metadata": {
    "collapsed": false
   },
   "outputs": [],
   "source": [
    "class Trie:\n",
    "    def __init__(self):\n",
    "        pass\n",
    "    def add(self,s,value):\n",
    "        \"\"\"Add the string `s` to the `Trie` and\n",
    "        map it to the given value.\"\"\"\n",
    "        global nops\n",
    "        nops += 1 # this is just a placeholder\n",
    "        pass\n",
    "    def lookup(self,s,default=None):\n",
    "        \"\"\"Look up the value corresponding to the\n",
    "        string `s`.\"\"\"\n",
    "    def remove(self,s):\n",
    "        \"\"\"Remove the string s from the Trie.\n",
    "        Returns True if the string was a member.\"\"\"\n",
    "        pass\n",
    "    def prefix(self,s):\n",
    "        \"\"\"Check whether the string `s` is a prefix\n",
    "        of some member.\"\"\"\n",
    "        pass\n",
    "    def items(self):\n",
    "        \"\"\"Return an iterator over the items of the `Trie`.\"\"\""
   ]
  },
  {
   "cell_type": "markdown",
   "id": "e241371b",
   "metadata": {},
   "source": [
    "# Unit Tests"
   ]
  },
  {
   "cell_type": "markdown",
   "id": "c10be409",
   "metadata": {},
   "source": [
    "Write some unit tests demonstrating that your class works as intended.\n",
    "The next cell gives some examples, but you need to write additional tests\n",
    "for other methods and common sequences of operations."
   ]
  },
  {
   "cell_type": "code",
   "execution_count": 21,
   "id": "9965f973",
   "metadata": {
    "collapsed": false
   },
   "outputs": [
    {
     "ename": "AssertionError",
     "evalue": "",
     "output_type": "error",
     "traceback": [
      "\u001b[0;31m---------------------------------------------------------------------------\u001b[0m\n\u001b[0;31mAssertionError\u001b[0m                            Traceback (most recent call last)",
      "\u001b[0;32m<ipython-input-21-18e07a553991>\u001b[0m in \u001b[0;36m<module>\u001b[0;34m()\u001b[0m\n\u001b[1;32m      4\u001b[0m \u001b[0;32massert\u001b[0m \u001b[0;32mnot\u001b[0m \u001b[0mtrie\u001b[0m\u001b[0;34m.\u001b[0m\u001b[0mlookup\u001b[0m\u001b[0;34m(\u001b[0m\u001b[0;34m\"street\"\u001b[0m\u001b[0;34m)\u001b[0m\u001b[0;34m\u001b[0m\u001b[0m\n\u001b[1;32m      5\u001b[0m \u001b[0;32massert\u001b[0m \u001b[0;32mnot\u001b[0m \u001b[0mtrie\u001b[0m\u001b[0;34m.\u001b[0m\u001b[0mlookup\u001b[0m\u001b[0;34m(\u001b[0m\u001b[0;34m\"house\"\u001b[0m\u001b[0;34m)\u001b[0m\u001b[0;34m\u001b[0m\u001b[0m\n\u001b[0;32m----> 6\u001b[0;31m \u001b[0;32massert\u001b[0m \u001b[0mtrie\u001b[0m\u001b[0;34m.\u001b[0m\u001b[0mlookup\u001b[0m\u001b[0;34m(\u001b[0m\u001b[0;34m\"hello\"\u001b[0m\u001b[0;34m)\u001b[0m\u001b[0;34m\u001b[0m\u001b[0m\n\u001b[0m\u001b[1;32m      7\u001b[0m \u001b[0;32massert\u001b[0m \u001b[0mtrie\u001b[0m\u001b[0;34m.\u001b[0m\u001b[0mlookup\u001b[0m\u001b[0;34m(\u001b[0m\u001b[0;34m\"world\"\u001b[0m\u001b[0;34m)\u001b[0m\u001b[0;34m\u001b[0m\u001b[0m\n",
      "\u001b[0;31mAssertionError\u001b[0m: "
     ]
    }
   ],
   "source": [
    "trie = Trie()\n",
    "trie.add(\"hello\",1)\n",
    "trie.add(\"world\",2)\n",
    "assert not trie.lookup(\"street\")\n",
    "assert not trie.lookup(\"house\")\n",
    "assert trie.lookup(\"hello\")\n",
    "assert trie.lookup(\"world\")"
   ]
  },
  {
   "cell_type": "code",
   "execution_count": 23,
   "id": "4b23d401",
   "metadata": {
    "collapsed": false
   },
   "outputs": [],
   "source": [
    "trie = Trie()\n",
    "nops = 0\n",
    "trie.add(\"hello\",1)\n",
    "assert nops>0"
   ]
  },
  {
   "cell_type": "markdown",
   "id": "71de5b4e",
   "metadata": {},
   "source": [
    "# Performance Measurements"
   ]
  },
  {
   "cell_type": "markdown",
   "id": "9fbef093",
   "metadata": {},
   "source": [
    "Next, let's measure how `Trie` performance scales on real data."
   ]
  },
  {
   "cell_type": "code",
   "execution_count": 24,
   "id": "7d114a5d",
   "metadata": {
    "collapsed": false
   },
   "outputs": [
    {
     "name": "stdout",
     "output_type": "stream",
     "text": [
      "74354 ['the', 'adventures', 'of', 'tom', 'sawyer', 'mark', 'twain', 'harper', 'and', 'brothers']\n"
     ]
    }
   ],
   "source": [
    "import re\n",
    "words = re.findall(r'\\w+',open(\"tomsawyer.txt\").read())\n",
    "words = [w.lower() for  w in words]\n",
    "print len(words),words[:10]"
   ]
  },
  {
   "cell_type": "code",
   "execution_count": 17,
   "id": "5be56794",
   "metadata": {
    "collapsed": false
   },
   "outputs": [],
   "source": [
    "counts = []\n",
    "for n in range(1000,70000,1000):\n",
    "    trie = Trie()\n",
    "    nops = 0\n",
    "    for i,w in enumerate(words[:n]):\n",
    "        trie.add(w,i)\n",
    "    counts.append((n,nops))"
   ]
  },
  {
   "cell_type": "code",
   "execution_count": 18,
   "id": "dd835354",
   "metadata": {
    "collapsed": false
   },
   "outputs": [
    {
     "data": {
      "text/plain": [
       "[<matplotlib.lines.Line2D at 0x2fd9a10>]"
      ]
     },
     "execution_count": 18,
     "metadata": {},
     "output_type": "execute_result"
    },
    {
     "data": {
      "image/png": "[encoded data removed]"
     },
     "metadata": {},
     "output_type": "display_data"
    }
   ],
   "source": [
    "counts = array(counts)\n",
    "plot(counts[:,0],counts[:,1])"
   ]
  },
  {
   "cell_type": "code",
   "execution_count": null,
   "id": "2f2b2953",
   "metadata": {
    "collapsed": false
   },
   "outputs": [],
   "source": []
  }
 ],
 "metadata": {},
 "nbformat": 4,
 "nbformat_minor": 5
}
