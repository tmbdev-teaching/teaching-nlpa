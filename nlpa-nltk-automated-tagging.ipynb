{
 "cells": [
  {
   "cell_type": "code",
   "execution_count": 51,
   "id": "54edbe68",
   "metadata": {
    "collapsed": false
   },
   "outputs": [],
   "source": [
    "import nltk\n",
    "import urllib2\n",
    "import re"
   ]
  },
  {
   "cell_type": "markdown",
   "id": "4e25d1be",
   "metadata": {},
   "source": [
    "# Automatic Tagging with NLTK"
   ]
  },
  {
   "cell_type": "markdown",
   "id": "5196f354",
   "metadata": {},
   "source": [
    "Although the above results are neat, they aren't all that useful in practice\n",
    "because most texts we want to visualize in such ways aren't tagged, and tagging\n",
    "them by hand ist costly.\n",
    "\n",
    "What we need is an *automated tagger*."
   ]
  },
  {
   "cell_type": "markdown",
   "id": "6770f788",
   "metadata": {},
   "source": [
    "Let's take a page off Wikipedia and tag it automatically."
   ]
  },
  {
   "cell_type": "code",
   "execution_count": 52,
   "id": "dd9fe4bf",
   "metadata": {
    "collapsed": false
   },
   "outputs": [
    {
     "data": {
      "text/plain": [
       "u'<!DOCTYPE html>\\n<html lang=\"en\" dir=\"ltr\" class=\"client-nojs\">\\n<head>\\n<title>George Washington - Wikipedia, the free encyclopedia</title>\\n<meta charset=\"UTF-8\" />\\n<meta name=\"generator\" content=\"MediaWiki 1.21wmf4\" />\\n<meta name=\"robots\" content=\"noindex,follow\" />\\n<link rel=\"apple-touch-icon\" href=\"//en.wikipedia.org/apple-touch-icon.png\" />\\n<link rel=\"shortcut icon\" href=\"/favicon.ico\" />\\n<link '"
      ]
     },
     "execution_count": 52,
     "metadata": {},
     "output_type": "execute_result"
    }
   ],
   "source": [
    "opener = urllib2.build_opener()\n",
    "opener.addheaders = [('User-agent', 'Mozilla/5.0')]\n",
    "infile = opener.open('http://en.wikipedia.org/w/index.php?title=George_Washington&printable=yes')\n",
    "page = infile.read().decode(\"utf-8\")\n",
    "page[:400]"
   ]
  },
  {
   "cell_type": "markdown",
   "id": "90b04f54",
   "metadata": {},
   "source": [
    "This is in HTML format, so we first need to clean it up.\n",
    "\n",
    "(There are other ways of cleaning up and analyzing HTML.\n",
    "A good HTML library is BeautifulSoup.)"
   ]
  },
  {
   "cell_type": "code",
   "execution_count": 53,
   "id": "d134f139",
   "metadata": {
    "collapsed": false
   },
   "outputs": [
    {
     "name": "stdout",
     "output_type": "stream",
     "text": [
      "George Washington - Wikipedia, the free encyclopedia\n",
      "\t\t\t\t\t\t\t\t\t\t\t\t George Washington\n",
      "\t\t\t\t\t\t\t\t\t\t\t\t From Wikipedia, the free encyclopedia\n",
      "\t\t\t\t\tJump to:\t\t\t\t\t navigation , \t\t\t\t\t search\n",
      "\t\t\t\t\t\t\t\t\t\t\t\t\t\t\t\t This article is about the first President of the United States. For other uses, see George Washington (disambiguation) .\n",
      " For a simpler version of this article, see the Simple English Wikipedia article: \n"
     ]
    }
   ],
   "source": [
    "page = nltk.util.clean_html(page)\n",
    "page = re.sub(r'\\s*\\n+','\\n',page)\n",
    "print page[:400]"
   ]
  },
  {
   "cell_type": "markdown",
   "id": "fdb46466",
   "metadata": {},
   "source": [
    "All the rest of the software works on tokenized data."
   ]
  },
  {
   "cell_type": "code",
   "execution_count": 54,
   "id": "c7d69732",
   "metadata": {
    "collapsed": false
   },
   "outputs": [
    {
     "name": "stdout",
     "output_type": "stream",
     "text": [
      "[u'Washington', u'quickly', u'became', u'a', u'senior', u'officer', u'in', u'the', u'colonial', u'forces', u'during', u'the', u'first', u'stages', u'of', u'the', u'French', u'and', u'Indian', u'War', u'.']\n"
     ]
    }
   ],
   "source": [
    "sents = nltk.sent_tokenize(page)\n",
    "sents = [nltk.word_tokenize(s) for s in sents]\n",
    "print sents[17]"
   ]
  },
  {
   "cell_type": "markdown",
   "id": "21e6e7b2",
   "metadata": {},
   "source": [
    "This data hasn't been manually tagged, so we need an automatic tagger."
   ]
  },
  {
   "cell_type": "code",
   "execution_count": 55,
   "id": "17b505e6",
   "metadata": {
    "collapsed": false
   },
   "outputs": [
    {
     "name": "stdout",
     "output_type": "stream",
     "text": [
      "[(u'Washington', 'NNP'), (u'quickly', 'RB'), (u'became', 'VBD'), (u'a', 'DT'), (u'senior', 'JJ'), (u'officer', 'NN'), (u'in', 'IN'), (u'the', 'DT'), (u'colonial', 'JJ'), (u'forces', 'NNS'), (u'during', 'IN'), (u'the', 'DT'), (u'first', 'JJ'), (u'stages', 'NNS'), (u'of', 'IN'), (u'the', 'DT'), (u'French', 'JJ'), (u'and', 'CC'), (u'Indian', 'JJ'), (u'War', 'NN'), (u'.', '.')]\n"
     ]
    }
   ],
   "source": [
    "print nltk.pos_tag(sents[17])"
   ]
  },
  {
   "cell_type": "markdown",
   "id": "1c6a5247",
   "metadata": {},
   "source": [
    "To perform named entity extraction, we run `ne_chunk` on the output of `pos_tag`.\n",
    "\n",
    "The output is a mix of tree nodes combining multiple tagged words,\n",
    "together with raw tagged words."
   ]
  },
  {
   "cell_type": "code",
   "execution_count": 56,
   "id": "ae90265a",
   "metadata": {
    "collapsed": false
   },
   "outputs": [
    {
     "name": "stdout",
     "output_type": "stream",
     "text": [
      "(GPE Washington/NNP)\n",
      "(u'quickly', 'RB')\n",
      "(u'became', 'VBD')\n",
      "(u'a', 'DT')\n",
      "(u'senior', 'JJ')\n",
      "(u'officer', 'NN')\n",
      "(u'in', 'IN')\n",
      "(u'the', 'DT')\n",
      "(u'colonial', 'JJ')\n",
      "(u'forces', 'NNS')\n",
      "(u'during', 'IN')\n",
      "(u'the', 'DT')\n",
      "(u'first', 'JJ')\n",
      "(u'stages', 'NNS')\n",
      "(u'of', 'IN')\n",
      "(u'the', 'DT')\n",
      "(GPE French/JJ)\n",
      "(u'and', 'CC')\n",
      "(GPE Indian/JJ)\n",
      "(u'War', 'NN')\n",
      "(u'.', '.')\n"
     ]
    }
   ],
   "source": [
    "chunked = nltk.ne_chunk(nltk.pos_tag(sents[17]))\n",
    "for node in chunked:\n",
    "    print node"
   ]
  },
  {
   "cell_type": "markdown",
   "id": "e4f83e4d",
   "metadata": {},
   "source": [
    "There are actually several different kinds of named entities."
   ]
  },
  {
   "cell_type": "code",
   "execution_count": 57,
   "id": "5eec5314",
   "metadata": {
    "collapsed": false
   },
   "outputs": [],
   "source": [
    "\"\"\"\n",
    "ORGANIZATION\tGeorgia-Pacific Corp., WHO\n",
    "PERSON\t      Eddy Bonte, President Obama\n",
    "LOCATION\t    Murray River, Mount Everest\n",
    "DATE\t        June, 2008-06-29\n",
    "TIME\t        two fifty a m, 1:30 p.m.\n",
    "MONEY\t       175 million Canadian Dollars, GBP 10.40\n",
    "PERCENT\t     twenty pct, 18.75 %\n",
    "FACILITY\t    Washington Monument, Stonehenge\n",
    "GPE\t         South East Asia, Midlothian\n",
    "\"\"\";None"
   ]
  },
  {
   "cell_type": "markdown",
   "id": "83113387",
   "metadata": {},
   "source": [
    "We now need to dig through this data to extract the actual information about\n",
    "the named entity."
   ]
  },
  {
   "cell_type": "code",
   "execution_count": 58,
   "id": "8cafa8f0",
   "metadata": {
    "collapsed": false
   },
   "outputs": [
    {
     "data": {
      "text/plain": [
       "[Tree('GPE', [(u'Washington', 'NNP')]),\n",
       " Tree('GPE', [(u'French', 'JJ')]),\n",
       " Tree('GPE', [(u'Indian', 'JJ')])]"
      ]
     },
     "execution_count": 58,
     "metadata": {},
     "output_type": "execute_result"
    }
   ],
   "source": [
    "def nextract(tokens,types=[\"GPE\",\"PERSON\"]):\n",
    "    chunked = nltk.ne_chunk(nltk.pos_tag(tokens))\n",
    "    return [c for c in chunked if hasattr(c,\"node\") and c.node in types]\n",
    "nes = nextract(sents[17])\n",
    "nes"
   ]
  },
  {
   "cell_type": "code",
   "execution_count": 59,
   "id": "1c43f5f2",
   "metadata": {
    "collapsed": false
   },
   "outputs": [
    {
     "data": {
      "text/plain": [
       "[(u'Washington', 'NNP')]"
      ]
     },
     "execution_count": 59,
     "metadata": {},
     "output_type": "execute_result"
    }
   ],
   "source": [
    "nes[0].leaves()"
   ]
  },
  {
   "cell_type": "code",
   "execution_count": 60,
   "id": "0fbafcb8",
   "metadata": {
    "collapsed": false
   },
   "outputs": [],
   "source": [
    "def nextract_text(tokens,types=[\"GPE\",\"PERSON\"]):\n",
    "    nodes = nextract(tokens,types)\n",
    "    return [\" \".join(c[0] for c in chunk.leaves()) for chunk in nodes]"
   ]
  },
  {
   "cell_type": "code",
   "execution_count": 61,
   "id": "206e1703",
   "metadata": {
    "collapsed": false
   },
   "outputs": [
    {
     "data": {
      "text/plain": [
       "[u'Washington', u'French', u'Indian']"
      ]
     },
     "execution_count": 61,
     "metadata": {},
     "output_type": "execute_result"
    }
   ],
   "source": [
    "nextract_text(sents[17])"
   ]
  },
  {
   "cell_type": "code",
   "execution_count": 62,
   "id": "fe9894a1",
   "metadata": {
    "collapsed": false
   },
   "outputs": [],
   "source": [
    "nes = [nextract_text(s,[\"PERSON\"]) for s in sents]"
   ]
  },
  {
   "cell_type": "markdown",
   "id": "a4c1b802",
   "metadata": {},
   "source": [
    "Let's look at what this extracted."
   ]
  },
  {
   "cell_type": "code",
   "execution_count": 49,
   "id": "b2ed9b28",
   "metadata": {
    "collapsed": false
   },
   "outputs": [
    {
     "data": {
      "text/plain": [
       "[(u'George Washington', 90),\n",
       " (u'George', 44),\n",
       " (u'Mount Vernon', 22),\n",
       " (u'Martha', 14),\n",
       " (u'Jefferson', 8),\n",
       " (u'Chernow', 8),\n",
       " (u'John Adams', 8),\n",
       " (u'See', 7),\n",
       " (u'Oxford University', 6),\n",
       " (u'John', 6)]"
      ]
     },
     "execution_count": 49,
     "metadata": {},
     "output_type": "execute_result"
    }
   ],
   "source": [
    "from collections import Counter\n",
    "Counter([x for l in nes for x in l]).most_common(10)"
   ]
  },
  {
   "cell_type": "markdown",
   "id": "b87d96e7",
   "metadata": {},
   "source": [
    "As you can see, the named entity extractor has a significant error rate.\n",
    "\"Mount Vernon\", \"See\", and \"Oxford University\" are not  persons.\n",
    "Also, we don't know the identity of \"George\", \"Martha\", and \"John\".\n",
    "But generally, it seems to return the right thing."
   ]
  },
  {
   "cell_type": "markdown",
   "id": "50b81d2d",
   "metadata": {},
   "source": [
    "Now let's look at co-occurences of named entities."
   ]
  },
  {
   "cell_type": "code",
   "execution_count": 50,
   "id": "91fd94ce",
   "metadata": {
    "collapsed": false
   },
   "outputs": [
    {
     "data": {
      "text/plain": [
       "[((u'George Washington', u'Mount Vernon'), 17),\n",
       " ((u'George Washington', u'Lawrence Washington'), 12),\n",
       " ((u'John Adams', u'Position'), 10),\n",
       " ((u'George Washington', u'Henry Knox'), 8),\n",
       " ((u'George Washington', u'Henry Compton'), 8),\n",
       " ((u'George Washington', u'Martha Washington'), 8),\n",
       " ((u'George Washington', u'John Adams'), 8),\n",
       " ((u'George Washington', u'William Wake'), 8),\n",
       " ((u'George Washington', u'John Tyler'), 8),\n",
       " ((u'George Washington', u'Gibson'), 8),\n",
       " ((u'George Washington', u'William &amp'), 8),\n",
       " ((u'George Washington', u'Timothy Pickering'), 8),\n",
       " ((u'Gardens Discover', u'George Washington'), 7),\n",
       " ((u'George Washington', u'George Washington Birthplace National Monument'),\n",
       "  7),\n",
       " ((u'George Washington', u'Mount Vernon Estate'), 7),\n",
       " ((u'George Washington', u'Miller Center'), 7),\n",
       " ((u'George Washington', u'Museum &amp'), 7),\n",
       " ((u'George Washington', u'Made George Washington'), 7)]"
      ]
     },
     "execution_count": 50,
     "metadata": {},
     "output_type": "execute_result"
    }
   ],
   "source": [
    "from itertools import *\n",
    "pairs = Counter([tuple(sorted(list(p))) for s in nes for p in combinations(s,2)])\n",
    "[p for p in pairs.most_common(20) if p[0][0]!=p[0][1]]"
   ]
  },
  {
   "cell_type": "code",
   "execution_count": null,
   "id": "75cbe7bf",
   "metadata": {
    "collapsed": false
   },
   "outputs": [],
   "source": []
  }
 ],
 "metadata": {},
 "nbformat": 4,
 "nbformat_minor": 5
}
