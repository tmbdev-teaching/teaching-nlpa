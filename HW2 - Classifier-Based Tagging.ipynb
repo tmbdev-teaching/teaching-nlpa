{
 "cells": [
  {
   "cell_type": "code",
   "execution_count": 1,
   "id": "f1b129e9",
   "metadata": {
    "collapsed": false
   },
   "outputs": [],
   "source": [
    "import nltk\n",
    "import tagutils; reload(tagutils)\n",
    "from tagutils import *\n",
    "from IPython.core.display import HTML\n",
    "from nltk.corpus import brown\n",
    "import random as pyrand\n",
    "from tagutils import *"
   ]
  },
  {
   "cell_type": "markdown",
   "id": "367e4acf",
   "metadata": {},
   "source": [
    "# Evaluation Framework"
   ]
  },
  {
   "cell_type": "code",
   "execution_count": 5,
   "id": "ce49e28b",
   "metadata": {
    "collapsed": false
   },
   "outputs": [],
   "source": [
    "sents = list(brown.tagged_sents())\n",
    "n = len(sents)\n",
    "test = sorted(list(set(range(0,n,10))))\n",
    "training = sorted(list(set(range(n))-set(test)))\n",
    "training_set = [sents[i] for i in training]\n",
    "test_set = [sents[i] for i in test]"
   ]
  },
  {
   "cell_type": "code",
   "execution_count": 7,
   "id": "41dd57a9",
   "metadata": {
    "collapsed": false
   },
   "outputs": [
    {
     "name": "stdout",
     "output_type": "stream",
     "text": [
      "51606\n",
      "5734\n"
     ]
    }
   ],
   "source": [
    "print len(training_set)\n",
    "print len(test_set)"
   ]
  },
  {
   "cell_type": "code",
   "execution_count": 6,
   "id": "4ff74a64",
   "metadata": {
    "collapsed": false
   },
   "outputs": [
    {
     "data": {
      "text/plain": [
       "0.9236947791164659"
      ]
     },
     "execution_count": 6,
     "metadata": {},
     "output_type": "execute_result"
    }
   ],
   "source": [
    "t0 = nltk.DefaultTagger('NN')\n",
    "t1 = nltk.UnigramTagger(training_set, backoff=t0)\n",
    "t2 = nltk.BigramTagger(training_set, backoff=t1)\n",
    "t2.evaluate(test_set)"
   ]
  },
  {
   "cell_type": "markdown",
   "id": "1914cd9d",
   "metadata": {},
   "source": [
    "# Classifier-Based Tagging"
   ]
  },
  {
   "cell_type": "code",
   "execution_count": 14,
   "id": "bdae973b",
   "metadata": {
    "collapsed": false
   },
   "outputs": [],
   "source": [
    "import nltk.tag.api\n",
    "# help(nltk.tag.api.TaggerI)"
   ]
  },
  {
   "cell_type": "markdown",
   "id": "452f7133",
   "metadata": {},
   "source": [
    "Implement a new tagger based on classifiers.\n",
    "\n",
    "When applying a classifier, you need to transform the input into a feature vector.\n",
    "In this case, we are trying to predict $P(t_n| < \\hbox{input words} > )$.  How do we do this?\n",
    "\n",
    "For a simple unigram tagger, we are estimating $P(t_n | w_n)$.\n",
    "If $w_n \\in V = \\\\{1,...,N\\\\}$, where $V$ is a vocabulary of size $N$ representing each word\n",
    "as an integer, then the input feature vector might be a binary vector $\\vec{x} = (x_1 ... x_N)$ where\n",
    "\n",
    "$$ x_i = \\delta_{i,w_n} $$\n",
    "\n",
    "For a simple bigram tagger, we are estimating something like $P(t_n | w_n t_{n-1})$, which\n",
    "we could similarly represent as a concatenation of two large binary input vectors.\n",
    "\n",
    "However, such a brute force approach may not work very well because we have a very high\n",
    "dimensional input vector and classifiers often need a lot of training data.\n",
    "We are free to preprocess the data in any form we like in order to get better feature\n",
    "vectors. \n",
    "\n",
    "Here are some ideas:\n",
    "\n",
    "- use the posterior probabilities for tags returned by a unigram and bigram tagger as feature vectors\n",
    "- use possible grammatical categories and semantic categories from Wordnet as feature vectors\n",
    "- use simple features like capitalization, word length, and position in sentence\n",
    "- provide information about word frequency in input\n",
    "- \"hash\" the large range of possible words $V$ down to a much smaller vocabulary\n",
    "- same as before, but do the hasing somewhat more intelligently: leave all the stop words alone, but has down the content words\n",
    "- do the \"hashing\" in some way that's informed by Wordnet\n",
    "\n",
    "Note that in order to be able to tag using the algorithms we have described, you can use tags assigned to previous words, but you cannot use tags assigned to subsequent words.\n",
    "\n",
    "Try to beat the bigram-with-backoff tagger above, using the same evaluation paradigm.\n",
    "Your tagger should implement the standard NLTK tagging API.\n",
    "\n",
    "Two classifiers to try are logistic regression and decision tree classifiers.\n",
    "You can use implementations from the `sklearn` package."
   ]
  },
  {
   "cell_type": "code",
   "execution_count": null,
   "id": "cb74b2b4",
   "metadata": {
    "collapsed": false
   },
   "outputs": [],
   "source": []
  }
 ],
 "metadata": {},
 "nbformat": 4,
 "nbformat_minor": 5
}
